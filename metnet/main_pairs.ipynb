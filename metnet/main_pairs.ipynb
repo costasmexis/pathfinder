{
 "cells": [
  {
   "cell_type": "markdown",
   "metadata": {},
   "source": [
    "Trying to predict if a pair of compounds is a MAIN pair"
   ]
  },
  {
   "cell_type": "code",
   "execution_count": 43,
   "metadata": {},
   "outputs": [],
   "source": [
    "import pandas as pd\n",
    "import numpy as np\n",
    "import json\n",
    "import networkx as nx\n",
    "from tqdm import tqdm\n",
    "from compound import Compound\n",
    "from reaction import Reaction\n",
    "from graph import Graph\n",
    "from data import Data\n",
    "from pathway import Pathway\n",
    "\n",
    "# suppres rdkit warnings\n",
    "import rdkit\n",
    "from rdkit import Chem\n",
    "from rdkit import DataStructs\n",
    "from rdkit import RDLogger\n",
    "RDLogger.DisableLog('rdApp.*')\n",
    "\n",
    "\n",
    "# read data from csv\n",
    "cpds = pd.read_csv('../GNN_toxic/data/raw/compounds_final.csv', index_col=0) # containing toxicity\n",
    "rxns = pd.read_csv('data/reactions_final.csv', index_col=0)\n",
    "pairs = pd.read_csv('data/pairs_final_RPAIRS.csv', index_col=0)\n",
    "cofactors = pd.read_csv('data/original/cofactors_KEGG.csv')"
   ]
  },
  {
   "cell_type": "code",
   "execution_count": 44,
   "metadata": {},
   "outputs": [
    {
     "name": "stdout",
     "output_type": "stream",
     "text": [
      "Shape of total dataset: (55980, 5)\n",
      "Shape of train dataset: (21071, 5)\n",
      "Shape of test dataset: (34909, 5)\n"
     ]
    }
   ],
   "source": [
    "# keep rows with RPAIR_main != 2\n",
    "df_train = pairs[pairs['RPAIR_main'] != 2]\n",
    "df_test = pairs[pairs['RPAIR_main'] == 2]\n",
    "print(f'Shape of total dataset: {pairs.shape}')\n",
    "print(f'Shape of train dataset: {df_train.shape}')\n",
    "print(f'Shape of test dataset: {df_test.shape}')"
   ]
  },
  {
   "cell_type": "code",
   "execution_count": 45,
   "metadata": {},
   "outputs": [
    {
     "data": {
      "text/plain": [
       "1    0.529258\n",
       "0    0.470742\n",
       "Name: RPAIR_main, dtype: float64"
      ]
     },
     "execution_count": 45,
     "metadata": {},
     "output_type": "execute_result"
    }
   ],
   "source": [
    "df_train['RPAIR_main'].value_counts(normalize=True)"
   ]
  },
  {
   "cell_type": "code",
   "execution_count": 56,
   "metadata": {},
   "outputs": [
    {
     "name": "stdout",
     "output_type": "stream",
     "text": [
      "CCCC(=O)SCCNC(=O)CCNC(=O)[C@H](O)C(C)(C)COP(=O)(O)OP(=O)(O)OC[C@H]1O[C@@H](n2cnc3c(N)ncnc32)[C@H](O)[C@@H]1OP(=O)(O)O\n"
     ]
    },
    {
     "data": {
      "image/png": "[encoded data removed]",
      "text/plain": [
       "<rdkit.Chem.rdchem.Mol at 0x7f5b4a81bcf0>"
      ]
     },
     "metadata": {},
     "output_type": "display_data"
    },
    {
     "name": "stdout",
     "output_type": "stream",
     "text": [
      ">>> RDK Fingerprint =  <rdkit.DataStructs.cDataStructs.ExplicitBitVect object at 0x7f5b4a81bf90>\n",
      ">>> RDK Fingerprint in numpy =  [1 0 1 ... 1 1 1]\n",
      ">>> RDK Fingerprint in numpy shape =  (2048,)\n",
      "\n",
      ">>> Morgan Fingerprint =  <rdkit.DataStructs.cDataStructs.ExplicitBitVect object at 0x7f5b45aa9eb0>\n",
      ">>> Morgan Fingerprint in numpy :  [0 1 0 ... 0 0 0]\n",
      ">>> Morgan Fingerprint in numpy shape =  (2048,)\n"
     ]
    }
   ],
   "source": [
    "smi_sample = cpds.iloc[123]['SMILES']\n",
    "print(smi_sample)\n",
    "\n",
    "mol = Chem.MolFromSmiles(smi_sample)\n",
    "display(mol)\n",
    "\n",
    "fingerprint_rdk = Chem.RDKFingerprint(mol)\n",
    "print(\">>> RDK Fingerprint = \", fingerprint_rdk)\n",
    "fingerprint_rdk_np = np.array(fingerprint_rdk)\n",
    "print(\">>> RDK Fingerprint in numpy = \", fingerprint_rdk_np)\n",
    "print(\">>> RDK Fingerprint in numpy shape = \", fingerprint_rdk_np.shape)\n",
    "\n",
    "print()\n",
    "\n",
    "# retrieving Morgan Fingerprint ----------------------------------------------- \n",
    "fingerprint_morgan = Chem.rdMolDescriptors.GetMorganFingerprintAsBitVect(mol, radius=2)\n",
    "print(\">>> Morgan Fingerprint = \", fingerprint_morgan)\n",
    "\n",
    "fingerprint_morgan_np = np.array(fingerprint_morgan)\n",
    "print(\">>> Morgan Fingerprint in numpy : \", fingerprint_morgan_np)\n",
    "print(\">>> Morgan Fingerprint in numpy shape = \", fingerprint_morgan_np.shape)"
   ]
  },
  {
   "cell_type": "markdown",
   "metadata": {},
   "source": [
    "RDKit supports several fingerprint functions, which outputs could be used for calculating molecular similarity or as the inputs to the downstream machine learning models."
   ]
  },
  {
   "cell_type": "code",
   "execution_count": 57,
   "metadata": {},
   "outputs": [],
   "source": [
    "def get_fingerprint(smi):\n",
    "    mol = Chem.MolFromSmiles(smi)\n",
    "    fp = Chem.RDKFingerprint(mol)\n",
    "    return np.array(fp)"
   ]
  },
  {
   "cell_type": "code",
   "execution_count": 84,
   "metadata": {},
   "outputs": [
    {
     "name": "stderr",
     "output_type": "stream",
     "text": [
      "  4%|▍         | 2257/55980 [00:10<04:14, 210.74it/s]\n"
     ]
    },
    {
     "ename": "KeyboardInterrupt",
     "evalue": "",
     "output_type": "error",
     "traceback": [
      "\u001b[0;31m---------------------------------------------------------------------------\u001b[0m",
      "\u001b[0;31mKeyboardInterrupt\u001b[0m                         Traceback (most recent call last)",
      "Cell \u001b[0;32mIn[84], line 9\u001b[0m\n\u001b[1;32m      6\u001b[0m target \u001b[39m=\u001b[39m pairs\u001b[39m.\u001b[39miloc[row][\u001b[39m'\u001b[39m\u001b[39mtarget\u001b[39m\u001b[39m'\u001b[39m]\n\u001b[1;32m      7\u001b[0m target_smi \u001b[39m=\u001b[39m cpds[cpds[\u001b[39m'\u001b[39m\u001b[39mEntry\u001b[39m\u001b[39m'\u001b[39m] \u001b[39m==\u001b[39m target][\u001b[39m'\u001b[39m\u001b[39mSMILES\u001b[39m\u001b[39m'\u001b[39m]\u001b[39m.\u001b[39mvalues[\u001b[39m0\u001b[39m]\n\u001b[0;32m----> 9\u001b[0m source_smi \u001b[39m=\u001b[39m get_fingerprint(source_smi)\n\u001b[1;32m     10\u001b[0m target_smi \u001b[39m=\u001b[39m get_fingerprint(target_smi)\n\u001b[1;32m     12\u001b[0m pair_smi \u001b[39m=\u001b[39m source_smi \u001b[39m+\u001b[39m target_smi\n",
      "Cell \u001b[0;32mIn[57], line 4\u001b[0m, in \u001b[0;36mget_fingerprint\u001b[0;34m(smi)\u001b[0m\n\u001b[1;32m      2\u001b[0m mol \u001b[39m=\u001b[39m Chem\u001b[39m.\u001b[39mMolFromSmiles(smi)\n\u001b[1;32m      3\u001b[0m fp \u001b[39m=\u001b[39m Chem\u001b[39m.\u001b[39mRDKFingerprint(mol)\n\u001b[0;32m----> 4\u001b[0m \u001b[39mreturn\u001b[39;00m np\u001b[39m.\u001b[39;49marray(fp)\n",
      "\u001b[0;31mKeyboardInterrupt\u001b[0m: "
     ]
    }
   ],
   "source": [
    "pairs_smiles_list = []\n",
    "for row in tqdm(range(len(pairs))):\n",
    "    source = pairs.iloc[row]['source']\n",
    "    source_smi = cpds[cpds['Entry'] == source]['SMILES'].values[0]\n",
    "\n",
    "    target = pairs.iloc[row]['target']\n",
    "    target_smi = cpds[cpds['Entry'] == target]['SMILES'].values[0]\n",
    "\n",
    "    source_smi = get_fingerprint(source_smi)\n",
    "    target_smi = get_fingerprint(target_smi)\n",
    "    \n",
    "    pair_smi = source_smi + target_smi\n",
    "    pairs_smiles_list.append(pair_smi)"
   ]
  }
 ],
 "metadata": {
  "kernelspec": {
   "display_name": "main-bio",
   "language": "python",
   "name": "python3"
  },
  "language_info": {
   "codemirror_mode": {
    "name": "ipython",
    "version": 3
   },
   "file_extension": ".py",
   "mimetype": "text/x-python",
   "name": "python",
   "nbconvert_exporter": "python",
   "pygments_lexer": "ipython3",
   "version": "3.9.10"
  },
  "orig_nbformat": 4
 },
 "nbformat": 4,
 "nbformat_minor": 2
}
