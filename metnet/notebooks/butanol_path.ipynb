{
 "cells": [
  {
   "cell_type": "markdown",
   "metadata": {},
   "source": [
    "# Load microorganism"
   ]
  },
  {
   "cell_type": "code",
   "execution_count": 1,
   "metadata": {},
   "outputs": [],
   "source": [
    "# Add path to the model\n",
    "import sys\n",
    "sys.path.append(\"../\")\n",
    "import pandas as pd\n",
    "import cobra\n",
    "from microorganism import Microorganism\n",
    "\n",
    "# Read E. coli model from cobrapy\n",
    "ecoli = cobra.io.load_json_model(\"../data/original/e_coli_core.json\")\n",
    "\n",
    "# Create a microorganism object\n",
    "cobra_model = Microorganism(cobra_model=ecoli)"
   ]
  },
  {
   "cell_type": "markdown",
   "metadata": {},
   "source": [
    "### Create Metabolic Network"
   ]
  },
  {
   "cell_type": "code",
   "execution_count": 2,
   "metadata": {},
   "outputs": [
    {
     "name": "stdout",
     "output_type": "stream",
     "text": [
      "# nodes: 7997 \n",
      "# edges: 11783\n"
     ]
    },
    {
     "name": "stderr",
     "output_type": "stream",
     "text": [
      "100%|██████████| 7997/7997 [00:08<00:00, 892.33it/s]\n",
      "100%|██████████| 11783/11783 [00:00<00:00, 407176.74it/s]\n",
      "100%|██████████| 11783/11783 [00:25<00:00, 462.00it/s]\n"
     ]
    }
   ],
   "source": [
    "# add folder for imports\n",
    "import sys\n",
    "sys.path.append('../')\n",
    "\n",
    "import pandas as pd\n",
    "import numpy as np\n",
    "import json\n",
    "import networkx as nx\n",
    "from tqdm import tqdm\n",
    "from compound import Compound\n",
    "from reaction import Reaction\n",
    "from graph import Graph\n",
    "from data import Data\n",
    "from pathway import Pathway\n",
    "from utils import create_compound, create_reaction\n",
    "# suppres rdkit warnings\n",
    "import rdkit\n",
    "from rdkit import RDLogger\n",
    "from utils import check_list\n",
    "\n",
    "RDLogger.DisableLog('rdApp.*')\n",
    "\n",
    "\n",
    "# read data from csv\n",
    "cpds = pd.read_csv('../data/compounds_final.csv', index_col=0) # containing toxicity\n",
    "rxns = pd.read_csv('../data/reactions_final.csv', index_col=0)\n",
    "pairs = pd.read_csv('../data/pairs_final_RPAIRS_pred.csv', index_col=0)\n",
    "cofactors = pd.read_csv('../data/original/cofactors_KEGG.csv')\n",
    "\n",
    "# create class instances\n",
    "data = Data()\n",
    "graph = Graph(pairs=pairs)\n",
    "pathway = Pathway()\n",
    "\n",
    "data = create_compound(data, cpds, cofactors)\n",
    "data = create_reaction(data, rxns)\n",
    "\n",
    "# CREATE GRAPH\n",
    "graph.create_graph(data=data, pairs=pairs)\n",
    "\n",
    "graph.calculate_edge_mol_weight(data)\n",
    "graph.calculate_smiles_similarity(data)"
   ]
  },
  {
   "cell_type": "markdown",
   "metadata": {},
   "source": [
    "#### Get KEGG source and target"
   ]
  },
  {
   "cell_type": "code",
   "execution_count": 3,
   "metadata": {},
   "outputs": [],
   "source": [
    "# define target compound\n",
    "butanol_KEGG = 'C06142'\n",
    "oxoglatarate_KEGG = 'C00026'\n",
    "\n",
    "# define source list\n",
    "src_list = ['C00084', 'C00024', 'C00074', 'C00022', 'C00497', 'C00149', \\\n",
    "            'C00122', 'C00042', 'C00036', 'C00091', 'C00111', 'C00158']"
   ]
  },
  {
   "cell_type": "markdown",
   "metadata": {},
   "source": [
    "#### Find metabolic pathways from src to trg"
   ]
  },
  {
   "cell_type": "markdown",
   "metadata": {},
   "source": [
    "Find metabolic pathways from `Acetyl-coA` to `n-Butanol`"
   ]
  },
  {
   "cell_type": "code",
   "execution_count": 4,
   "metadata": {},
   "outputs": [
    {
     "name": "stdout",
     "output_type": "stream",
     "text": [
      "Pathway from C00024 to C06142:\n",
      "['C00024', 'C00332', 'C01144', 'C00877', 'C00136', 'C01412', 'C06142']\n",
      "[['R00238', 'R09527'], ['R01975', 'R01976'], ['R03026'], ['R01171', 'R01175', 'R09738', 'R11675'], ['R01172', 'R01173'], ['R03544', 'R03545']]\n",
      "['C00024', 'C00332', 'C03561', 'C00877', 'C00136', 'C01412', 'C06142']\n",
      "[['R00238', 'R09527'], ['R01977'], ['R03027'], ['R01171', 'R01175', 'R09738', 'R11675'], ['R01172', 'R01173'], ['R03544', 'R03545']]\n",
      "['C00024', 'C00332', 'C01144', 'C03561', 'C00877', 'C00136', 'C01412', 'C06142']\n",
      "[['R00238', 'R09527'], ['R01975', 'R01976'], ['R03276'], ['R03027'], ['R01171', 'R01175', 'R09738', 'R11675'], ['R01172', 'R01173'], ['R03544', 'R03545']]\n",
      "['C00024', 'C00332', 'C05116', 'C00877', 'C00136', 'C01412', 'C06142']\n",
      "[['R00238', 'R09527'], ['R05576'], ['R05595'], ['R01171', 'R01175', 'R09738', 'R11675'], ['R01172', 'R01173'], ['R03544', 'R03545']]\n",
      "['C00024', 'C00332', 'C03561', 'C01144', 'C00877', 'C00136', 'C01412', 'C06142']\n",
      "[['R00238', 'R09527'], ['R01977'], ['R03276'], ['R03026'], ['R01171', 'R01175', 'R09738', 'R11675'], ['R01172', 'R01173'], ['R03544', 'R03545']]\n",
      "['C00024', 'C00332', 'C01144', 'C00877', 'C18026', 'C00136', 'C01412', 'C06142']\n",
      "[['R00238', 'R09527'], ['R01975', 'R01976'], ['R03026'], ['R09291'], ['R09958'], ['R01172', 'R01173'], ['R03544', 'R03545']]\n",
      "['C00024', 'C00332', 'C03561', 'C00877', 'C18026', 'C00136', 'C01412', 'C06142']\n",
      "[['R00238', 'R09527'], ['R01977'], ['R03027'], ['R09291'], ['R09958'], ['R01172', 'R01173'], ['R03544', 'R03545']]\n",
      "['C00024', 'C00332', 'C01144', 'C03561', 'C00877', 'C18026', 'C00136', 'C01412', 'C06142']\n",
      "[['R00238', 'R09527'], ['R01975', 'R01976'], ['R03276'], ['R03027'], ['R09291'], ['R09958'], ['R01172', 'R01173'], ['R03544', 'R03545']]\n",
      "['C00024', 'C00332', 'C05116', 'C00877', 'C18026', 'C00136', 'C01412', 'C06142']\n",
      "[['R00238', 'R09527'], ['R05576'], ['R05595'], ['R09291'], ['R09958'], ['R01172', 'R01173'], ['R03544', 'R03545']]\n",
      "['C00024', 'C01011', 'C18323', 'C06028', 'C18324', 'C20238', 'C18026', 'C00136', 'C01412', 'C06142']\n",
      "[['R02955', 'R03153'], ['R09282'], ['R09283'], ['R09293'], ['R09292'], ['R09979'], ['R09958'], ['R01172', 'R01173'], ['R03544', 'R03545']]\n"
     ]
    }
   ],
   "source": [
    "pathway.initialize(src_list[1], butanol_KEGG, graph)\n",
    "pathway.get_pathway()\n",
    "pathway.print_pathway(with_reactions=True)"
   ]
  },
  {
   "cell_type": "markdown",
   "metadata": {},
   "source": [
    "#### Get a single pathway for further research"
   ]
  },
  {
   "cell_type": "code",
   "execution_count": 85,
   "metadata": {},
   "outputs": [
    {
     "data": {
      "text/plain": [
       "(['C00024', 'C00332', 'C01144', 'C00877', 'C00136', 'C01412', 'C06142'],\n",
       " [['R00238', 'R09527'],\n",
       "  ['R01975', 'R01976'],\n",
       "  ['R03026'],\n",
       "  ['R01171', 'R01175', 'R09738', 'R11675'],\n",
       "  ['R01172', 'R01173'],\n",
       "  ['R03544', 'R03545']])"
      ]
     },
     "execution_count": 85,
     "metadata": {},
     "output_type": "execute_result"
    }
   ],
   "source": [
    "pathway.single_pathway(pathway.pred_paths[pathway.idx_smi[0]])"
   ]
  },
  {
   "cell_type": "code",
   "execution_count": 92,
   "metadata": {},
   "outputs": [
    {
     "name": "stdout",
     "output_type": "stream",
     "text": [
      "0: Reaction R00238, 2 C00024 <=> C00010 + C00332\n",
      "C00024\n",
      "Products: ['C00010', 'C00332']\n",
      "Reactants: ['C00024']\n",
      "R00238 is valid\n",
      "\n",
      "0: Reaction R09527, C00024 + C00083 <=> C00332 + C00010 + C00011\n",
      "C00024\n",
      "Products: ['C00332', 'C00010', 'C00011']\n",
      "Reactants: ['C00024', 'C00083']\n",
      "\n",
      "1: Reaction R01975, C01144 + C00003 <=> C00332 + C00004 + C00080\n",
      "C00332\n",
      "Products: ['C01144', 'C00003']\n",
      "Reactants: ['C00332', 'C00004', 'C00080']\n",
      "\n",
      "1: Reaction R01976, C01144 + C00006 <=> C00332 + C00005 + C00080\n",
      "C00332\n",
      "Products: ['C01144', 'C00006']\n",
      "Reactants: ['C00332', 'C00005', 'C00080']\n",
      "\n",
      "2: Reaction R03026, C01144 <=> C00877 + C00001\n",
      "C01144\n",
      "Products: ['C00877', 'C00001']\n",
      "Reactants: ['C01144']\n",
      "\n",
      "3: Reaction R01171, C00136 + C00003 <=> C00877 + C00004 + C00080\n",
      "C00877\n",
      "Products: ['C00136', 'C00003']\n",
      "Reactants: ['C00877', 'C00004', 'C00080']\n",
      "\n",
      "3: Reaction R01175, C00136 + C00016 <=> C01352 + C00877\n",
      "C00877\n",
      "Products: ['C00136', 'C00016']\n",
      "Reactants: ['C01352', 'C00877']\n",
      "\n",
      "3: Reaction R09738, C00136 + C00006 <=> C00877 + C00005 + C00080\n",
      "C00877\n",
      "Products: ['C00136', 'C00006']\n",
      "Reactants: ['C00877', 'C00005', 'C00080']\n",
      "\n",
      "3: Reaction R11675, C00136 + 2 C00003 + 2 C00138 <=> C00877 + 2 C00004 + 2 C00139\n",
      "C00877\n",
      "Products: ['C00136', 'C00003', 'C00138']\n",
      "Reactants: ['C00877', 'C00004', 'C00139']\n",
      "\n",
      "4: Reaction R01172, C01412 + C00010 + C00003 <=> C00136 + C00004 + C00080\n",
      "C00136\n",
      "Products: ['C01412', 'C00010', 'C00003']\n",
      "Reactants: ['C00136', 'C00004', 'C00080']\n",
      "\n",
      "4: Reaction R01173, C01412 + C00010 + C00006 <=> C00136 + C00005 + C00080\n",
      "C00136\n",
      "Products: ['C01412', 'C00010', 'C00006']\n",
      "Reactants: ['C00136', 'C00005', 'C00080']\n",
      "\n",
      "5: Reaction R03544, C01412 + C00004 + C00080 <=> C06142 + C00003\n",
      "C01412\n",
      "Products: ['C06142', 'C00003']\n",
      "Reactants: ['C01412', 'C00004', 'C00080']\n",
      "\n",
      "5: Reaction R03545, C01412 + C00005 + C00080 <=> C06142 + C00006\n",
      "C01412\n",
      "Products: ['C06142', 'C00006']\n",
      "Reactants: ['C01412', 'C00005', 'C00080']\n",
      "\n"
     ]
    }
   ],
   "source": [
    "cobra_kegg = cobra_model.metabolites_df['kegg'].tolist()\n",
    "product_list = []\n",
    "\n",
    "j = 0\n",
    "for i, r in enumerate(pathway.path_reactions):\n",
    "    for r_i in r:\n",
    "\n",
    "        # Check the part of reaction that exist the src metabolite\n",
    "        if pathway.path_compound[j] in data.reactions[r_i].compounds[0]:\n",
    "            products = data.reactions[r_i].compounds[1]\n",
    "            reactants = data.reactions[r_i].compounds[0]\n",
    "        elif pathway.path_compound[j] in data.reactions[r_i].compounds[1]:\n",
    "            products = data.reactions[r_i].compounds[0]\n",
    "            reactants = data.reactions[r_i].compounds[1]\n",
    "        else:\n",
    "            print('Error')\n",
    "            break\n",
    "        \n",
    "        print(f'{i}: Reaction {r_i}, {data.reactions[r_i].equation}')\n",
    "        print(pathway.path_compound[j])\n",
    "        print(f'Products: {products}')\n",
    "        print(f'Reactants: {reactants}')\n",
    "\n",
    "        b1 = check_list(reactants, cobra_kegg)\n",
    "        b2 = check_list(reactants, product_list)\n",
    "        if b1:\n",
    "            print(f'{r_i} is valid')\n",
    "        elif b2:\n",
    "            print(f'{r_i} is valid')\n",
    "        # else:\n",
    "        #     print(f'Missing reactants in {r_i}')\n",
    "        #     print(diff(reactants, cobra_kegg)) \n",
    "        product_list.append(products)\n",
    "        print()\n",
    "    j+=1"
   ]
  },
  {
   "cell_type": "code",
   "execution_count": null,
   "metadata": {},
   "outputs": [],
   "source": []
  },
  {
   "cell_type": "code",
   "execution_count": null,
   "metadata": {},
   "outputs": [],
   "source": []
  },
  {
   "cell_type": "code",
   "execution_count": null,
   "metadata": {},
   "outputs": [
    {
     "data": {
      "text/plain": [
       "'C06018 + akg_c + coa_c <=> C11907 + glu__L_c + accoa_c'"
      ]
     },
     "execution_count": 35,
     "metadata": {},
     "output_type": "execute_result"
    }
   ],
   "source": [
    "# In a string map some words to others using a df\n",
    "def str_map(string, df):\n",
    "    for i in range(len(df)):\n",
    "        string = string.replace(df.iloc[i, 1], df.iloc[i, 0])\n",
    "    return string\n",
    "\n",
    "s = str_map(eq, cobra_model.metabolites_df)\n",
    "s"
   ]
  },
  {
   "cell_type": "code",
   "execution_count": null,
   "metadata": {},
   "outputs": [
    {
     "data": {
      "text/html": [
       "<div>\n",
       "<style scoped>\n",
       "    .dataframe tbody tr th:only-of-type {\n",
       "        vertical-align: middle;\n",
       "    }\n",
       "\n",
       "    .dataframe tbody tr th {\n",
       "        vertical-align: top;\n",
       "    }\n",
       "\n",
       "    .dataframe thead th {\n",
       "        text-align: right;\n",
       "    }\n",
       "</style>\n",
       "<table border=\"1\" class=\"dataframe\">\n",
       "  <thead>\n",
       "    <tr style=\"text-align: right;\">\n",
       "      <th></th>\n",
       "      <th>metabolites</th>\n",
       "      <th>kegg</th>\n",
       "      <th>compartment</th>\n",
       "    </tr>\n",
       "  </thead>\n",
       "  <tbody>\n",
       "  </tbody>\n",
       "</table>\n",
       "</div>"
      ],
      "text/plain": [
       "Empty DataFrame\n",
       "Columns: [metabolites, kegg, compartment]\n",
       "Index: []"
      ]
     },
     "execution_count": 42,
     "metadata": {},
     "output_type": "execute_result"
    }
   ],
   "source": [
    "cobra_model.metabolites_df[cobra_model.metabolites_df['kegg'] == 'C06018']"
   ]
  },
  {
   "cell_type": "markdown",
   "metadata": {},
   "source": [
    "### Find pathways for all source compounds"
   ]
  },
  {
   "cell_type": "code",
   "execution_count": null,
   "metadata": {},
   "outputs": [],
   "source": [
    "for src in src_list[:11]:\n",
    "    pathway.initialize(src, butanol_KEGG, graph)\n",
    "    pathway.get_pathway()\n",
    "    pathway.print_pathway(with_reactions=True, to_bigg=True)    \n",
    "    print('--------------------------------------')    "
   ]
  },
  {
   "cell_type": "code",
   "execution_count": null,
   "metadata": {},
   "outputs": [],
   "source": []
  }
 ],
 "metadata": {
  "kernelspec": {
   "display_name": "Python 3 (ipykernel)",
   "language": "python",
   "name": "python3"
  },
  "language_info": {
   "codemirror_mode": {
    "name": "ipython",
    "version": 3
   },
   "file_extension": ".py",
   "mimetype": "text/x-python",
   "name": "python",
   "nbconvert_exporter": "python",
   "pygments_lexer": "ipython3",
   "version": "3.10.12"
  }
 },
 "nbformat": 4,
 "nbformat_minor": 2
}
