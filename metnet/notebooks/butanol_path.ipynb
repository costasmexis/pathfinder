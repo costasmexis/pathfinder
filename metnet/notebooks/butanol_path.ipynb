{
 "cells": [
  {
   "cell_type": "code",
   "execution_count": 49,
   "metadata": {},
   "outputs": [
    {
     "name": "stdout",
     "output_type": "stream",
     "text": [
      "Number of metabolites:  72\n",
      "Number of reactions:  95\n"
     ]
    }
   ],
   "source": [
    "import cobra\n",
    "\n",
    "# Read E. coli model from cobrapy\n",
    "ecoli = cobra.io.load_model(\"textbook\")\n",
    "\n",
    "metabolites = [m.name for m in ecoli.metabolites]\n",
    "reactions = [r.name for r in ecoli.reactions]\n",
    "\n",
    "# Print the number of metabolites and reactions\n",
    "print(\"Number of metabolites: \", len(metabolites))\n",
    "print(\"Number of reactions: \", len(reactions))"
   ]
  },
  {
   "cell_type": "code",
   "execution_count": null,
   "metadata": {},
   "outputs": [],
   "source": []
  },
  {
   "cell_type": "code",
   "execution_count": 12,
   "metadata": {},
   "outputs": [
    {
     "name": "stdout",
     "output_type": "stream",
     "text": [
      "41\n",
      "209\n"
     ]
    }
   ],
   "source": [
    "cofacs = cofactors['Name'].tolist()\n",
    "\n",
    "# Find elements of cofacs in metabolites\n",
    "cofacs_in_model = [m for m in cofacs if m in metabolites]\n",
    "print(len(cofacs_in_model))\n",
    "print(len(cofacs))"
   ]
  },
  {
   "cell_type": "code",
   "execution_count": 1,
   "metadata": {},
   "outputs": [
    {
     "name": "stdout",
     "output_type": "stream",
     "text": [
      "# nodes: 7997 \n",
      "# edges: 11783\n"
     ]
    },
    {
     "name": "stderr",
     "output_type": "stream",
     "text": [
      "100%|██████████| 7997/7997 [00:09<00:00, 873.69it/s]\n",
      "100%|██████████| 11783/11783 [00:00<00:00, 414112.97it/s]\n",
      "100%|██████████| 11783/11783 [00:25<00:00, 459.72it/s]\n"
     ]
    }
   ],
   "source": [
    "# add folder for imports\n",
    "import sys\n",
    "sys.path.append('../')\n",
    "\n",
    "import pandas as pd\n",
    "import numpy as np\n",
    "import json\n",
    "import networkx as nx\n",
    "from tqdm import tqdm\n",
    "from compound import Compound\n",
    "from reaction import Reaction\n",
    "from graph import Graph\n",
    "from data import Data\n",
    "from pathway import Pathway\n",
    "from utils import create_compound, create_reaction\n",
    "# suppres rdkit warnings\n",
    "import rdkit\n",
    "from rdkit import RDLogger\n",
    "RDLogger.DisableLog('rdApp.*')\n",
    "\n",
    "\n",
    "# read data from csv\n",
    "cpds = pd.read_csv('../data/compounds_final.csv', index_col=0) # containing toxicity\n",
    "rxns = pd.read_csv('../data/reactions_final.csv', index_col=0)\n",
    "pairs = pd.read_csv('../data/pairs_final_RPAIRS_pred.csv', index_col=0)\n",
    "cofactors = pd.read_csv('../data/original/cofactors_KEGG.csv')\n",
    "\n",
    "# create class instances\n",
    "data = Data()\n",
    "graph = Graph(pairs=pairs)\n",
    "pathway = Pathway()\n",
    "\n",
    "data = create_compound(data, cpds, cofactors)\n",
    "data = create_reaction(data, rxns)\n",
    "\n",
    "# CREATE GRAPH\n",
    "graph.create_graph(data=data, pairs=pairs)\n",
    "\n",
    "graph.calculate_edge_mol_weight(data)\n",
    "graph.calculate_smiles_similarity(data)"
   ]
  },
  {
   "cell_type": "markdown",
   "metadata": {},
   "source": [
    "#### Create metabolic network as `networkx` graph"
   ]
  },
  {
   "cell_type": "markdown",
   "metadata": {},
   "source": [
    "#### Get KEGG source and target"
   ]
  },
  {
   "cell_type": "code",
   "execution_count": 2,
   "metadata": {},
   "outputs": [],
   "source": [
    "# define target compound\n",
    "butanol_KEGG = 'C06142'\n",
    "oxoglatarate_KEGG = 'C00026'\n",
    "\n",
    "# define source list\n",
    "src_list = ['C00084', 'C00024', 'C00074', 'C00022', 'C00497', 'C00149', \\\n",
    "            'C00122', 'C00042', 'C00036', 'C00091', 'C00111', 'C00158']"
   ]
  },
  {
   "cell_type": "markdown",
   "metadata": {},
   "source": [
    "#### Find metabolic pathways from src to trg"
   ]
  },
  {
   "cell_type": "markdown",
   "metadata": {},
   "source": [
    "Find metabolic pathways from `2-oxoglatarate` to `n-Butanol`"
   ]
  },
  {
   "cell_type": "code",
   "execution_count": 7,
   "metadata": {},
   "outputs": [
    {
     "name": "stdout",
     "output_type": "stream",
     "text": [
      "Pathway from C00026 to C06142:\n",
      "['C00026', 'C00024', 'C00332', 'C01144', 'C00877', 'C00136', 'C01412', 'C06142']\n",
      "[['R02772'], ['R00238', 'R09527'], ['R01975', 'R01976'], ['R03026'], ['R01171', 'R01175', 'R09738', 'R11675'], ['R01172', 'R01173'], ['R03544', 'R03545']]\n",
      "['C00026', 'C00024', 'C00332', 'C03561', 'C00877', 'C00136', 'C01412', 'C06142']\n",
      "[['R02772'], ['R00238', 'R09527'], ['R01977'], ['R03027'], ['R01171', 'R01175', 'R09738', 'R11675'], ['R01172', 'R01173'], ['R03544', 'R03545']]\n",
      "['C00026', 'C00024', 'C00332', 'C01144', 'C03561', 'C00877', 'C00136', 'C01412', 'C06142']\n",
      "[['R02772'], ['R00238', 'R09527'], ['R01975', 'R01976'], ['R03276'], ['R03027'], ['R01171', 'R01175', 'R09738', 'R11675'], ['R01172', 'R01173'], ['R03544', 'R03545']]\n",
      "['C00026', 'C00024', 'C00332', 'C05116', 'C00877', 'C00136', 'C01412', 'C06142']\n",
      "[['R02772'], ['R00238', 'R09527'], ['R05576'], ['R05595'], ['R01171', 'R01175', 'R09738', 'R11675'], ['R01172', 'R01173'], ['R03544', 'R03545']]\n",
      "['C00026', 'C00024', 'C00332', 'C03561', 'C01144', 'C00877', 'C00136', 'C01412', 'C06142']\n",
      "[['R02772'], ['R00238', 'R09527'], ['R01977'], ['R03276'], ['R03026'], ['R01171', 'R01175', 'R09738', 'R11675'], ['R01172', 'R01173'], ['R03544', 'R03545']]\n",
      "['C00026', 'C00091', 'C01011', 'C18323', 'C06028', 'C18324', 'C20238', 'C18026', 'C00136', 'C01412', 'C06142']\n",
      "[['R00265', 'R08549'], ['R03154'], ['R09282'], ['R09283'], ['R09293'], ['R09292'], ['R09979'], ['R09958'], ['R01172', 'R01173'], ['R03544', 'R03545']]\n",
      "['C00026', 'C00091', 'C01011', 'C18323', 'C06028', 'C18324', 'C20238', 'C18026', 'C00877', 'C00136', 'C01412', 'C06142']\n",
      "[['R00265', 'R08549'], ['R03154'], ['R09282'], ['R09283'], ['R09293'], ['R09292'], ['R09979'], ['R09291'], ['R01171', 'R01175', 'R09738', 'R11675'], ['R01172', 'R01173'], ['R03544', 'R03545']]\n",
      "['C00026', 'C02630', 'C03058', 'C02411', 'C00877', 'C00136', 'C01412', 'C06142']\n",
      "[['R03534', 'R08198'], ['R04000'], ['R03937'], ['R03028'], ['R01171', 'R01175', 'R09738', 'R11675'], ['R01172', 'R01173'], ['R03544', 'R03545']]\n",
      "['C00026', 'C02630', 'C03058', 'C02411', 'C00527', 'C00877', 'C00136', 'C01412', 'C06142']\n",
      "[['R03534', 'R08198'], ['R04000'], ['R03937'], ['R05579', 'R10074'], ['R02487', 'R02488'], ['R01171', 'R01175', 'R09738', 'R11675'], ['R01172', 'R01173'], ['R03544', 'R03545']]\n",
      "['C00026', 'C16254', 'C00091', 'C01011', 'C18323', 'C06028', 'C18324', 'C20238', 'C18026', 'C00136', 'C01412', 'C06142']\n",
      "[['R01700'], ['R02570'], ['R03154'], ['R09282'], ['R09283'], ['R09293'], ['R09292'], ['R09979'], ['R09958'], ['R01172', 'R01173'], ['R03544', 'R03545']]\n"
     ]
    }
   ],
   "source": [
    "pathway.initialize(oxoglatarate_KEGG, butanol_KEGG, graph)\n",
    "pathway.get_pathway()\n",
    "pathway.print_pathway(with_reactions=True)"
   ]
  },
  {
   "cell_type": "code",
   "execution_count": 47,
   "metadata": {},
   "outputs": [
    {
     "data": {
      "text/html": [
       "<div>\n",
       "<style scoped>\n",
       "    .dataframe tbody tr th:only-of-type {\n",
       "        vertical-align: middle;\n",
       "    }\n",
       "\n",
       "    .dataframe tbody tr th {\n",
       "        vertical-align: top;\n",
       "    }\n",
       "\n",
       "    .dataframe thead th {\n",
       "        text-align: right;\n",
       "    }\n",
       "</style>\n",
       "<table border=\"1\" class=\"dataframe\">\n",
       "  <thead>\n",
       "    <tr style=\"text-align: right;\">\n",
       "      <th></th>\n",
       "      <th>Reaction</th>\n",
       "      <th>Equation</th>\n",
       "    </tr>\n",
       "  </thead>\n",
       "  <tbody>\n",
       "    <tr>\n",
       "      <th>0</th>\n",
       "      <td>R02772</td>\n",
       "      <td>C06018 + C00026 + C00010 --&gt; C11907 + C00025 +...</td>\n",
       "    </tr>\n",
       "    <tr>\n",
       "      <th>1</th>\n",
       "      <td>R00238</td>\n",
       "      <td>2 C00024 --&gt; C00010 + C00332</td>\n",
       "    </tr>\n",
       "    <tr>\n",
       "      <th>2</th>\n",
       "      <td>R09527</td>\n",
       "      <td>C00024 + C00083 --&gt; C00332 + C00010 + C00011</td>\n",
       "    </tr>\n",
       "    <tr>\n",
       "      <th>3</th>\n",
       "      <td>R01975</td>\n",
       "      <td>C01144 + C00003 --&gt; C00332 + C00004 + C00080</td>\n",
       "    </tr>\n",
       "    <tr>\n",
       "      <th>4</th>\n",
       "      <td>R01976</td>\n",
       "      <td>C01144 + C00006 --&gt; C00332 + C00005 + C00080</td>\n",
       "    </tr>\n",
       "    <tr>\n",
       "      <th>5</th>\n",
       "      <td>R03026</td>\n",
       "      <td>C01144 --&gt; C00877 + C00001</td>\n",
       "    </tr>\n",
       "    <tr>\n",
       "      <th>6</th>\n",
       "      <td>R01171</td>\n",
       "      <td>C00136 + C00003 --&gt; C00877 + C00004 + C00080</td>\n",
       "    </tr>\n",
       "    <tr>\n",
       "      <th>7</th>\n",
       "      <td>R01175</td>\n",
       "      <td>C00136 + C00016 --&gt; C01352 + C00877</td>\n",
       "    </tr>\n",
       "    <tr>\n",
       "      <th>8</th>\n",
       "      <td>R09738</td>\n",
       "      <td>C00136 + C00006 --&gt; C00877 + C00005 + C00080</td>\n",
       "    </tr>\n",
       "    <tr>\n",
       "      <th>9</th>\n",
       "      <td>R11675</td>\n",
       "      <td>C00136 + 2 C00003 + 2 C00138 --&gt; C00877 + 2 C0...</td>\n",
       "    </tr>\n",
       "    <tr>\n",
       "      <th>10</th>\n",
       "      <td>R01172</td>\n",
       "      <td>C01412 + C00010 + C00003 --&gt; C00136 + C00004 +...</td>\n",
       "    </tr>\n",
       "    <tr>\n",
       "      <th>11</th>\n",
       "      <td>R01173</td>\n",
       "      <td>C01412 + C00010 + C00006 --&gt; C00136 + C00005 +...</td>\n",
       "    </tr>\n",
       "    <tr>\n",
       "      <th>12</th>\n",
       "      <td>R03544</td>\n",
       "      <td>C01412 + C00004 + C00080 --&gt; C06142 + C00003</td>\n",
       "    </tr>\n",
       "    <tr>\n",
       "      <th>13</th>\n",
       "      <td>R03545</td>\n",
       "      <td>C01412 + C00005 + C00080 --&gt; C06142 + C00006</td>\n",
       "    </tr>\n",
       "  </tbody>\n",
       "</table>\n",
       "</div>"
      ],
      "text/plain": [
       "   Reaction                                           Equation\n",
       "0    R02772  C06018 + C00026 + C00010 --> C11907 + C00025 +...\n",
       "1    R00238                       2 C00024 --> C00010 + C00332\n",
       "2    R09527       C00024 + C00083 --> C00332 + C00010 + C00011\n",
       "3    R01975       C01144 + C00003 --> C00332 + C00004 + C00080\n",
       "4    R01976       C01144 + C00006 --> C00332 + C00005 + C00080\n",
       "5    R03026                         C01144 --> C00877 + C00001\n",
       "6    R01171       C00136 + C00003 --> C00877 + C00004 + C00080\n",
       "7    R01175                C00136 + C00016 --> C01352 + C00877\n",
       "8    R09738       C00136 + C00006 --> C00877 + C00005 + C00080\n",
       "9    R11675  C00136 + 2 C00003 + 2 C00138 --> C00877 + 2 C0...\n",
       "10   R01172  C01412 + C00010 + C00003 --> C00136 + C00004 +...\n",
       "11   R01173  C01412 + C00010 + C00006 --> C00136 + C00005 +...\n",
       "12   R03544       C01412 + C00004 + C00080 --> C06142 + C00003\n",
       "13   R03545       C01412 + C00005 + C00080 --> C06142 + C00006"
      ]
     },
     "execution_count": 47,
     "metadata": {},
     "output_type": "execute_result"
    }
   ],
   "source": [
    "reactions = [['R02772'], ['R00238', 'R09527'], ['R01975', 'R01976'], ['R03026'], ['R01171', 'R01175', 'R09738', 'R11675'], ['R01172', 'R01173'], ['R03544', 'R03545']]\n",
    "\n",
    "RXN_NAMES = []\n",
    "RXN_EQS = []\n",
    "for r in reactions:\n",
    "    for r_i in r:\n",
    "        rxn_eq = data.reactions[r_i].equation\n",
    "        # Replace <=> with --> \n",
    "        rxn_eq = rxn_eq.replace('<=>', '-->')\n",
    "        RXN_NAMES.append(r_i)\n",
    "        RXN_EQS.append(rxn_eq)\n",
    "\n",
    "# Create a dataframe with the reactions\n",
    "df = pd.DataFrame({'Reaction': RXN_NAMES, 'Equation': RXN_EQS})\n",
    "df"
   ]
  },
  {
   "cell_type": "code",
   "execution_count": 66,
   "metadata": {},
   "outputs": [
    {
     "data": {
      "text/plain": [
       "'[\"CoA\", \"Coenzyme A\", \"CoA-SH\"]'"
      ]
     },
     "execution_count": 66,
     "metadata": {},
     "output_type": "execute_result"
    }
   ],
   "source": [
    "data.compounds['C00010'].name"
   ]
  },
  {
   "cell_type": "code",
   "execution_count": null,
   "metadata": {},
   "outputs": [],
   "source": []
  },
  {
   "cell_type": "code",
   "execution_count": 69,
   "metadata": {},
   "outputs": [
    {
     "data": {
      "text/html": [
       "\n",
       "        <table>\n",
       "            <tr>\n",
       "                <td><strong>Metabolite identifier</strong></td><td>coa_c</td>\n",
       "            </tr><tr>\n",
       "                <td><strong>Name</strong></td><td>Coenzyme A</td>\n",
       "            </tr><tr>\n",
       "                <td><strong>Memory address</strong></td>\n",
       "                <td>0x7fbcab9fe260</td>\n",
       "            </tr><tr>\n",
       "                <td><strong>Formula</strong></td><td>C21H32N7O16P3S</td>\n",
       "            </tr><tr>\n",
       "                <td><strong>Compartment</strong></td><td>c</td>\n",
       "            </tr><tr>\n",
       "                <td><strong>In 9 reaction(s)</strong></td><td>\n",
       "                    PFL, MALS, ACALD, SUCOAS, Biomass_Ecoli_core, AKGDH, CS, PTAr, PDH\n",
       "                    </td>\n",
       "            </tr>\n",
       "        </table>"
      ],
      "text/plain": [
       "<Metabolite coa_c at 0x7fbcab9fe260>"
      ]
     },
     "execution_count": 69,
     "metadata": {},
     "output_type": "execute_result"
    }
   ],
   "source": [
    "ecoli.metabolites.coa_c"
   ]
  },
  {
   "cell_type": "code",
   "execution_count": null,
   "metadata": {},
   "outputs": [],
   "source": []
  },
  {
   "cell_type": "code",
   "execution_count": null,
   "metadata": {},
   "outputs": [],
   "source": []
  },
  {
   "cell_type": "markdown",
   "metadata": {},
   "source": [
    "### Find pathways for all source compounds"
   ]
  },
  {
   "cell_type": "code",
   "execution_count": null,
   "metadata": {},
   "outputs": [],
   "source": [
    "for src in src_list[:11]:\n",
    "    pathway.initialize(src, butanol_KEGG, graph)\n",
    "    pathway.get_pathway()\n",
    "    pathway.print_pathway(with_reactions=True, to_bigg=True)    \n",
    "    print('--------------------------------------')    "
   ]
  }
 ],
 "metadata": {
  "kernelspec": {
   "display_name": "Python 3 (ipykernel)",
   "language": "python",
   "name": "python3"
  },
  "language_info": {
   "codemirror_mode": {
    "name": "ipython",
    "version": 3
   },
   "file_extension": ".py",
   "mimetype": "text/x-python",
   "name": "python",
   "nbconvert_exporter": "python",
   "pygments_lexer": "ipython3",
   "version": "3.10.12"
  }
 },
 "nbformat": 4,
 "nbformat_minor": 2
}
