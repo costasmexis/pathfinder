{
 "cells": [
  {
   "cell_type": "markdown",
   "metadata": {},
   "source": [
    "# Load microorganism"
   ]
  },
  {
   "cell_type": "code",
   "execution_count": 1,
   "metadata": {},
   "outputs": [
    {
     "name": "stdout",
     "output_type": "stream",
     "text": [
      "e_coli_core (72 metabolites, 95 reactions)\n"
     ]
    }
   ],
   "source": [
    "# Add path to the model\n",
    "import sys\n",
    "sys.path.append(\"../\")\n",
    "import cobra\n",
    "from microorganism import Microorganism\n",
    "\n",
    "# Read E. coli model from cobrapy\n",
    "ecoli = cobra.io.load_json_model(\"../data/original/e_coli_core.json\")\n",
    "# Create a microorganism object\n",
    "cobra_model = Microorganism(cobra_model=ecoli)\n",
    "print(cobra_model)"
   ]
  },
  {
   "cell_type": "markdown",
   "metadata": {},
   "source": [
    "### Create Metabolic Network"
   ]
  },
  {
   "cell_type": "code",
   "execution_count": 2,
   "metadata": {},
   "outputs": [
    {
     "name": "stdout",
     "output_type": "stream",
     "text": [
      "# nodes: 7997 \n",
      "# edges: 11783\n"
     ]
    },
    {
     "name": "stderr",
     "output_type": "stream",
     "text": [
      "100%|██████████| 7997/7997 [00:33<00:00, 238.99it/s]\n",
      "100%|██████████| 11783/11783 [00:00<00:00, 135884.55it/s]\n",
      "100%|██████████| 11783/11783 [01:25<00:00, 137.96it/s]\n"
     ]
    }
   ],
   "source": [
    "# add folder for imports\n",
    "import sys\n",
    "sys.path.append('../')\n",
    "\n",
    "import pandas as pd\n",
    "import numpy as np\n",
    "import json\n",
    "import networkx as nx\n",
    "from tqdm import tqdm\n",
    "from compound import Compound\n",
    "from reaction import Reaction\n",
    "from graph import Graph\n",
    "from data import Data\n",
    "from pathway import Pathway\n",
    "from utils import create_compound, create_reaction\n",
    "# suppres rdkit warnings\n",
    "import rdkit\n",
    "from rdkit import RDLogger\n",
    "from utils import check_list\n",
    "\n",
    "RDLogger.DisableLog('rdApp.*')\n",
    "\n",
    "\n",
    "# read data from csv\n",
    "cpds = pd.read_csv('../data/compounds_final.csv', index_col=0) # containing toxicity\n",
    "rxns = pd.read_csv('../data/reactions_final.csv', index_col=0)\n",
    "pairs = pd.read_csv('../data/pairs_final_RPAIRS_pred.csv', index_col=0)\n",
    "cofactors = pd.read_csv('../data/original/cofactors_KEGG.csv')\n",
    "\n",
    "# create class instances\n",
    "data = Data()\n",
    "graph = Graph(pairs=pairs)\n",
    "pathway = Pathway()\n",
    "\n",
    "data = create_compound(data, cpds, cofactors)\n",
    "data = create_reaction(data, rxns)\n",
    "\n",
    "# CREATE GRAPH\n",
    "graph.create_graph(data=data, pairs=pairs)\n",
    "\n",
    "graph.calculate_edge_mol_weight(data)\n",
    "graph.calculate_smiles_similarity(data)"
   ]
  },
  {
   "cell_type": "markdown",
   "metadata": {},
   "source": [
    "#### Get KEGG source and target"
   ]
  },
  {
   "cell_type": "code",
   "execution_count": 3,
   "metadata": {},
   "outputs": [],
   "source": [
    "# define target compound\n",
    "butanol_KEGG = 'C06142'\n",
    "# define example source compound\n",
    "oxoglatarate_KEGG = 'C00026'\n",
    "# define source list\n",
    "src_list = ['C00084', 'C00024', 'C00074', 'C00022', 'C00497', 'C00149', \\\n",
    "            'C00122', 'C00042', 'C00036', 'C00091', 'C00111', 'C00158']"
   ]
  },
  {
   "cell_type": "markdown",
   "metadata": {},
   "source": [
    "#### Find metabolic pathways from src to trg"
   ]
  },
  {
   "cell_type": "markdown",
   "metadata": {},
   "source": [
    "Find metabolic pathways from `Acetyl-coA` to `n-Butanol`"
   ]
  },
  {
   "cell_type": "code",
   "execution_count": 4,
   "metadata": {},
   "outputs": [],
   "source": [
    "pathway.initialize(src_list[1], butanol_KEGG, graph)\n",
    "pathway.get_pathway()\n",
    "# pathway.print_pathway(with_reactions=True)"
   ]
  },
  {
   "cell_type": "code",
   "execution_count": 5,
   "metadata": {},
   "outputs": [
    {
     "data": {
      "text/plain": [
       "(['C00024', 'C00332', 'C01144', 'C00877', 'C00136', 'C01412', 'C06142'],\n",
       " [['R00238', 'R09527'],\n",
       "  ['R01975', 'R01976'],\n",
       "  ['R03026'],\n",
       "  ['R01171', 'R01175', 'R09738', 'R11675'],\n",
       "  ['R01172', 'R01173'],\n",
       "  ['R03544', 'R03545']])"
      ]
     },
     "execution_count": 5,
     "metadata": {},
     "output_type": "execute_result"
    }
   ],
   "source": [
    "pathway.single_pathway(pathway.pred_paths[pathway.idx_smi[0]])"
   ]
  },
  {
   "cell_type": "code",
   "execution_count": 7,
   "metadata": {},
   "outputs": [
    {
     "name": "stdout",
     "output_type": "stream",
     "text": [
      "R00238 : 2 C00024 <=> C00010 + C00332\n",
      "R01975 : C01144 + C00003 <=> C00332 + C00004 + C00080\n",
      "R03026 : C01144 <=> C00877 + C00001\n",
      "R01171 : C00136 + C00003 <=> C00877 + C00004 + C00080\n",
      "R01172 : C01412 + C00010 + C00003 <=> C00136 + C00004 + C00080\n",
      "R03544 : C01412 + C00004 + C00080 <=> C06142 + C00003\n"
     ]
    }
   ],
   "source": [
    "pathway.select_reactions(data, cobra_model)\n",
    "\n",
    "for r in pathway.selected_pathway_reactions:\n",
    "    print(r, ':', data.reactions[r].equation)"
   ]
  },
  {
   "cell_type": "code",
   "execution_count": 8,
   "metadata": {},
   "outputs": [],
   "source": [
    "eqs_metabolites = pathway.reactions_add_gem(data, cobra_model, 'metabolites', save=True)"
   ]
  },
  {
   "cell_type": "code",
   "execution_count": 9,
   "metadata": {},
   "outputs": [],
   "source": [
    "eqs_seed = pathway.reactions_add_gem(data, cobra_model, 'seed', save=True)"
   ]
  },
  {
   "cell_type": "markdown",
   "metadata": {},
   "source": [
    "#### Extract reactions to add for all src"
   ]
  },
  {
   "cell_type": "code",
   "execution_count": 11,
   "metadata": {},
   "outputs": [
    {
     "name": "stdout",
     "output_type": "stream",
     "text": [
      "C00084\n",
      "C00024\n",
      "C00074\n",
      "C00022\n",
      "C00497\n",
      "No pathway found\n",
      "C00149\n",
      "C00122\n",
      "C00042\n",
      "No pathway found\n",
      "C00036\n",
      "No pathway found\n",
      "C00091\n",
      "No pathway found\n",
      "C00111\n",
      "C00158\n"
     ]
    }
   ],
   "source": [
    "for s in src_list:\n",
    "    print(s)\n",
    "    pathway.initialize(s, butanol_KEGG, graph)\n",
    "    pathway.get_pathway()\n",
    "    pathway.single_pathway(pathway.pred_paths[pathway.idx_smi[0]])\n",
    "    try:\n",
    "        pathway.select_reactions(data, cobra_model)\n",
    "    except ValueError:\n",
    "        print('No pathway found')\n",
    "        continue\n",
    "    eqs_metabolites = pathway.reactions_add_gem(data, cobra_model, 'metabolites', save=True)\n",
    "    eqs_seed = pathway.reactions_add_gem(data, cobra_model, 'seed', save=True)"
   ]
  },
  {
   "cell_type": "code",
   "execution_count": null,
   "metadata": {},
   "outputs": [],
   "source": []
  }
 ],
 "metadata": {
  "kernelspec": {
   "display_name": "Python 3 (ipykernel)",
   "language": "python",
   "name": "python3"
  },
  "language_info": {
   "codemirror_mode": {
    "name": "ipython",
    "version": 3
   },
   "file_extension": ".py",
   "mimetype": "text/x-python",
   "name": "python",
   "nbconvert_exporter": "python",
   "pygments_lexer": "ipython3",
   "version": "3.11.2"
  }
 },
 "nbformat": 4,
 "nbformat_minor": 2
}
