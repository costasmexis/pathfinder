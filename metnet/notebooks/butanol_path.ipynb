{
 "cells": [
  {
   "cell_type": "markdown",
   "metadata": {},
   "source": [
    "# Load microorganism"
   ]
  },
  {
   "cell_type": "code",
   "execution_count": 2,
   "metadata": {},
   "outputs": [],
   "source": [
    "# Add path to the model\n",
    "import sys\n",
    "sys.path.append(\"../\")\n",
    "import pandas as pd\n",
    "import cobra\n",
    "from microorganism import Microorganism\n",
    "\n",
    "# Read E. coli model from cobrapy\n",
    "ecoli = cobra.io.load_json_model(\"../data/original/e_coli_core.json\")\n",
    "\n",
    "# Create a microorganism object\n",
    "cobra_model = Microorganism(cobra_model=ecoli)"
   ]
  },
  {
   "cell_type": "markdown",
   "metadata": {},
   "source": [
    "### Create Metabolic Network"
   ]
  },
  {
   "cell_type": "code",
   "execution_count": 3,
   "metadata": {},
   "outputs": [
    {
     "name": "stdout",
     "output_type": "stream",
     "text": [
      "# nodes: 7997 \n",
      "# edges: 11783\n"
     ]
    },
    {
     "name": "stderr",
     "output_type": "stream",
     "text": [
      "100%|██████████| 7997/7997 [00:09<00:00, 837.53it/s]\n",
      "100%|██████████| 11783/11783 [00:00<00:00, 403078.74it/s]\n",
      "100%|██████████| 11783/11783 [00:25<00:00, 453.91it/s]\n"
     ]
    }
   ],
   "source": [
    "# add folder for imports\n",
    "import sys\n",
    "sys.path.append('../')\n",
    "\n",
    "import pandas as pd\n",
    "import numpy as np\n",
    "import json\n",
    "import networkx as nx\n",
    "from tqdm import tqdm\n",
    "from compound import Compound\n",
    "from reaction import Reaction\n",
    "from graph import Graph\n",
    "from data import Data\n",
    "from pathway import Pathway\n",
    "from utils import create_compound, create_reaction\n",
    "# suppres rdkit warnings\n",
    "import rdkit\n",
    "from rdkit import RDLogger\n",
    "RDLogger.DisableLog('rdApp.*')\n",
    "\n",
    "\n",
    "# read data from csv\n",
    "cpds = pd.read_csv('../data/compounds_final.csv', index_col=0) # containing toxicity\n",
    "rxns = pd.read_csv('../data/reactions_final.csv', index_col=0)\n",
    "pairs = pd.read_csv('../data/pairs_final_RPAIRS_pred.csv', index_col=0)\n",
    "cofactors = pd.read_csv('../data/original/cofactors_KEGG.csv')\n",
    "\n",
    "# create class instances\n",
    "data = Data()\n",
    "graph = Graph(pairs=pairs)\n",
    "pathway = Pathway()\n",
    "\n",
    "data = create_compound(data, cpds, cofactors)\n",
    "data = create_reaction(data, rxns)\n",
    "\n",
    "# CREATE GRAPH\n",
    "graph.create_graph(data=data, pairs=pairs)\n",
    "\n",
    "graph.calculate_edge_mol_weight(data)\n",
    "graph.calculate_smiles_similarity(data)"
   ]
  },
  {
   "cell_type": "markdown",
   "metadata": {},
   "source": [
    "#### Get KEGG source and target"
   ]
  },
  {
   "cell_type": "code",
   "execution_count": 4,
   "metadata": {},
   "outputs": [],
   "source": [
    "# define target compound\n",
    "butanol_KEGG = 'C06142'\n",
    "oxoglatarate_KEGG = 'C00026'\n",
    "\n",
    "# define source list\n",
    "src_list = ['C00084', 'C00024', 'C00074', 'C00022', 'C00497', 'C00149', \\\n",
    "            'C00122', 'C00042', 'C00036', 'C00091', 'C00111', 'C00158']"
   ]
  },
  {
   "cell_type": "markdown",
   "metadata": {},
   "source": [
    "#### Find metabolic pathways from src to trg"
   ]
  },
  {
   "cell_type": "markdown",
   "metadata": {},
   "source": [
    "Find metabolic pathways from `Acetyl-coA` to `n-Butanol`"
   ]
  },
  {
   "cell_type": "code",
   "execution_count": 14,
   "metadata": {},
   "outputs": [
    {
     "name": "stdout",
     "output_type": "stream",
     "text": [
      "Pathway from C00024 to C06142:\n",
      "['C00024', 'C00332', 'C01144', 'C00877', 'C00136', 'C01412', 'C06142']\n",
      "[['R00238', 'R09527'], ['R01975', 'R01976'], ['R03026'], ['R01171', 'R01175', 'R09738', 'R11675'], ['R01172', 'R01173'], ['R03544', 'R03545']]\n",
      "['C00024', 'C00332', 'C03561', 'C00877', 'C00136', 'C01412', 'C06142']\n",
      "[['R00238', 'R09527'], ['R01977'], ['R03027'], ['R01171', 'R01175', 'R09738', 'R11675'], ['R01172', 'R01173'], ['R03544', 'R03545']]\n",
      "['C00024', 'C00332', 'C01144', 'C03561', 'C00877', 'C00136', 'C01412', 'C06142']\n",
      "[['R00238', 'R09527'], ['R01975', 'R01976'], ['R03276'], ['R03027'], ['R01171', 'R01175', 'R09738', 'R11675'], ['R01172', 'R01173'], ['R03544', 'R03545']]\n",
      "['C00024', 'C00332', 'C05116', 'C00877', 'C00136', 'C01412', 'C06142']\n",
      "[['R00238', 'R09527'], ['R05576'], ['R05595'], ['R01171', 'R01175', 'R09738', 'R11675'], ['R01172', 'R01173'], ['R03544', 'R03545']]\n",
      "['C00024', 'C00332', 'C03561', 'C01144', 'C00877', 'C00136', 'C01412', 'C06142']\n",
      "[['R00238', 'R09527'], ['R01977'], ['R03276'], ['R03026'], ['R01171', 'R01175', 'R09738', 'R11675'], ['R01172', 'R01173'], ['R03544', 'R03545']]\n",
      "['C00024', 'C00332', 'C01144', 'C00877', 'C18026', 'C00136', 'C01412', 'C06142']\n",
      "[['R00238', 'R09527'], ['R01975', 'R01976'], ['R03026'], ['R09291'], ['R09958'], ['R01172', 'R01173'], ['R03544', 'R03545']]\n",
      "['C00024', 'C00332', 'C03561', 'C00877', 'C18026', 'C00136', 'C01412', 'C06142']\n",
      "[['R00238', 'R09527'], ['R01977'], ['R03027'], ['R09291'], ['R09958'], ['R01172', 'R01173'], ['R03544', 'R03545']]\n",
      "['C00024', 'C00332', 'C01144', 'C03561', 'C00877', 'C18026', 'C00136', 'C01412', 'C06142']\n",
      "[['R00238', 'R09527'], ['R01975', 'R01976'], ['R03276'], ['R03027'], ['R09291'], ['R09958'], ['R01172', 'R01173'], ['R03544', 'R03545']]\n",
      "['C00024', 'C00332', 'C05116', 'C00877', 'C18026', 'C00136', 'C01412', 'C06142']\n",
      "[['R00238', 'R09527'], ['R05576'], ['R05595'], ['R09291'], ['R09958'], ['R01172', 'R01173'], ['R03544', 'R03545']]\n",
      "['C00024', 'C01011', 'C18323', 'C06028', 'C18324', 'C20238', 'C18026', 'C00136', 'C01412', 'C06142']\n",
      "[['R02955', 'R03153'], ['R09282'], ['R09283'], ['R09293'], ['R09292'], ['R09979'], ['R09958'], ['R01172', 'R01173'], ['R03544', 'R03545']]\n"
     ]
    }
   ],
   "source": [
    "pathway.initialize(src_list[1], butanol_KEGG, graph)\n",
    "pathway.get_pathway()\n",
    "pathway.print_pathway(with_reactions=True)"
   ]
  },
  {
   "cell_type": "code",
   "execution_count": 96,
   "metadata": {},
   "outputs": [
    {
     "name": "stdout",
     "output_type": "stream",
     "text": [
      "0\n",
      "Kept ['R00238'], products so far []\n",
      "1\n",
      "Kept ['R01976'], products so far [['C00010', 'C00332']]\n",
      "2\n",
      "Kept [], products so far ['C00010', 'C00332', 'C00332', 'C00005', 'C00080']\n"
     ]
    },
    {
     "ename": "IndexError",
     "evalue": "list index out of range",
     "output_type": "error",
     "traceback": [
      "\u001b[0;31m---------------------------------------------------------------------------\u001b[0m",
      "\u001b[0;31mIndexError\u001b[0m                                Traceback (most recent call last)",
      "\u001b[1;32m/home/WUR/g0012069/pathfinder/metnet/notebooks/butanol_path.ipynb Cell 10\u001b[0m line \u001b[0;36m2\n\u001b[1;32m     <a href='vscode-notebook-cell://ssh-remote%2Bbioind4.wur.nl/home/WUR/g0012069/pathfinder/metnet/notebooks/butanol_path.ipynb#X12sdnNjb2RlLXJlbW90ZQ%3D%3D?line=20'>21</a>\u001b[0m         \u001b[39mcontinue\u001b[39;00m\n\u001b[1;32m     <a href='vscode-notebook-cell://ssh-remote%2Bbioind4.wur.nl/home/WUR/g0012069/pathfinder/metnet/notebooks/butanol_path.ipynb#X12sdnNjb2RlLXJlbW90ZQ%3D%3D?line=21'>22</a>\u001b[0m \u001b[39mprint\u001b[39m(\u001b[39mf\u001b[39m\u001b[39m'\u001b[39m\u001b[39mKept \u001b[39m\u001b[39m{\u001b[39;00mr\u001b[39m}\u001b[39;00m\u001b[39m, products so far \u001b[39m\u001b[39m{\u001b[39;00mproducts\u001b[39m}\u001b[39;00m\u001b[39m'\u001b[39m)\n\u001b[0;32m---> <a href='vscode-notebook-cell://ssh-remote%2Bbioind4.wur.nl/home/WUR/g0012069/pathfinder/metnet/notebooks/butanol_path.ipynb#X12sdnNjb2RlLXJlbW90ZQ%3D%3D?line=22'>23</a>\u001b[0m products\u001b[39m.\u001b[39mappend(data\u001b[39m.\u001b[39mreactions[r[\u001b[39m0\u001b[39;49m]]\u001b[39m.\u001b[39mcompounds[\u001b[39m1\u001b[39m])\n\u001b[1;32m     <a href='vscode-notebook-cell://ssh-remote%2Bbioind4.wur.nl/home/WUR/g0012069/pathfinder/metnet/notebooks/butanol_path.ipynb#X12sdnNjb2RlLXJlbW90ZQ%3D%3D?line=23'>24</a>\u001b[0m \u001b[39mif\u001b[39;00m i\u001b[39m>\u001b[39m\u001b[39m0\u001b[39m:\n\u001b[1;32m     <a href='vscode-notebook-cell://ssh-remote%2Bbioind4.wur.nl/home/WUR/g0012069/pathfinder/metnet/notebooks/butanol_path.ipynb#X12sdnNjb2RlLXJlbW90ZQ%3D%3D?line=24'>25</a>\u001b[0m     products \u001b[39m=\u001b[39m [item \u001b[39mfor\u001b[39;00m sublist \u001b[39min\u001b[39;00m products \u001b[39mfor\u001b[39;00m item \u001b[39min\u001b[39;00m sublist]\n",
      "\u001b[0;31mIndexError\u001b[0m: list index out of range"
     ]
    }
   ],
   "source": [
    "pathway.single_pathway(pathway.pred_paths[pathway.idx_smi[0]])\n",
    "\n",
    "# Given 2 lists, check if the elements of the first list are in the second list\n",
    "def check_list(l1, l2):\n",
    "    for i in l1:\n",
    "        if i not in l2:\n",
    "            return False\n",
    "    return True\n",
    "\n",
    "# print(pathway.path_reactions)\n",
    "\n",
    "products = [] # store products of i-1 reactions\n",
    "for i, r in enumerate(pathway.path_reactions):\n",
    "    print(i)\n",
    "    for r_i in r:\n",
    "        reactants = data.reactions[r_i].compounds[0]\n",
    "        cobra_kegg = cobra_model.metabolites_df['kegg'].values.tolist()\n",
    "        # if condition if False drop the r_i from r and continue\n",
    "        if (not check_list(reactants, cobra_kegg)) &  (not check_list(reactants, products)):\n",
    "            r.remove(r_i)\n",
    "            continue\n",
    "    print(f'Kept {r}, products so far {products}')\n",
    "    products.append(data.reactions[r[0]].compounds[1])\n",
    "    if i>0:\n",
    "        products = [item for sublist in products for item in sublist]\n",
    "\n",
    "print(pathway.path_reactions)"
   ]
  },
  {
   "cell_type": "code",
   "execution_count": null,
   "metadata": {},
   "outputs": [],
   "source": []
  },
  {
   "cell_type": "code",
   "execution_count": null,
   "metadata": {},
   "outputs": [],
   "source": []
  },
  {
   "cell_type": "code",
   "execution_count": null,
   "metadata": {},
   "outputs": [],
   "source": []
  },
  {
   "cell_type": "code",
   "execution_count": 35,
   "metadata": {},
   "outputs": [
    {
     "data": {
      "text/plain": [
       "'C06018 + akg_c + coa_c <=> C11907 + glu__L_c + accoa_c'"
      ]
     },
     "execution_count": 35,
     "metadata": {},
     "output_type": "execute_result"
    }
   ],
   "source": [
    "# In a string map some words to others using a df\n",
    "def str_map(string, df):\n",
    "    for i in range(len(df)):\n",
    "        string = string.replace(df.iloc[i, 1], df.iloc[i, 0])\n",
    "    return string\n",
    "\n",
    "s = str_map(eq, cobra_model.metabolites_df)\n",
    "s"
   ]
  },
  {
   "cell_type": "code",
   "execution_count": 42,
   "metadata": {},
   "outputs": [
    {
     "data": {
      "text/html": [
       "<div>\n",
       "<style scoped>\n",
       "    .dataframe tbody tr th:only-of-type {\n",
       "        vertical-align: middle;\n",
       "    }\n",
       "\n",
       "    .dataframe tbody tr th {\n",
       "        vertical-align: top;\n",
       "    }\n",
       "\n",
       "    .dataframe thead th {\n",
       "        text-align: right;\n",
       "    }\n",
       "</style>\n",
       "<table border=\"1\" class=\"dataframe\">\n",
       "  <thead>\n",
       "    <tr style=\"text-align: right;\">\n",
       "      <th></th>\n",
       "      <th>metabolites</th>\n",
       "      <th>kegg</th>\n",
       "      <th>compartment</th>\n",
       "    </tr>\n",
       "  </thead>\n",
       "  <tbody>\n",
       "  </tbody>\n",
       "</table>\n",
       "</div>"
      ],
      "text/plain": [
       "Empty DataFrame\n",
       "Columns: [metabolites, kegg, compartment]\n",
       "Index: []"
      ]
     },
     "execution_count": 42,
     "metadata": {},
     "output_type": "execute_result"
    }
   ],
   "source": [
    "cobra_model.metabolites_df[cobra_model.metabolites_df['kegg'] == 'C06018']"
   ]
  },
  {
   "cell_type": "markdown",
   "metadata": {},
   "source": [
    "### Find pathways for all source compounds"
   ]
  },
  {
   "cell_type": "code",
   "execution_count": null,
   "metadata": {},
   "outputs": [],
   "source": [
    "for src in src_list[:11]:\n",
    "    pathway.initialize(src, butanol_KEGG, graph)\n",
    "    pathway.get_pathway()\n",
    "    pathway.print_pathway(with_reactions=True, to_bigg=True)    \n",
    "    print('--------------------------------------')    "
   ]
  },
  {
   "cell_type": "code",
   "execution_count": null,
   "metadata": {},
   "outputs": [],
   "source": []
  }
 ],
 "metadata": {
  "kernelspec": {
   "display_name": "Python 3 (ipykernel)",
   "language": "python",
   "name": "python3"
  },
  "language_info": {
   "codemirror_mode": {
    "name": "ipython",
    "version": 3
   },
   "file_extension": ".py",
   "mimetype": "text/x-python",
   "name": "python",
   "nbconvert_exporter": "python",
   "pygments_lexer": "ipython3",
   "version": "3.10.12"
  }
 },
 "nbformat": 4,
 "nbformat_minor": 2
}
