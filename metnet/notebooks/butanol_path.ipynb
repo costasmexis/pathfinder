{
 "cells": [
  {
   "cell_type": "markdown",
   "metadata": {},
   "source": [
    "# Load microorganism"
   ]
  },
  {
   "cell_type": "code",
   "execution_count": 1,
   "metadata": {},
   "outputs": [
    {
     "name": "stdout",
     "output_type": "stream",
     "text": [
      "e_coli_core (72 metabolites, 95 reactions)\n"
     ]
    }
   ],
   "source": [
    "# Add path to the model\n",
    "import sys\n",
    "sys.path.append(\"../\")\n",
    "import cobra\n",
    "from microorganism import Microorganism\n",
    "\n",
    "# Read E. coli model from cobrapy\n",
    "ecoli = cobra.io.load_json_model(\"../data/original/e_coli_core.json\")\n",
    "# Create a microorganism object\n",
    "cobra_model = Microorganism(cobra_model=ecoli)\n",
    "print(cobra_model)"
   ]
  },
  {
   "cell_type": "markdown",
   "metadata": {},
   "source": [
    "### Create Metabolic Network"
   ]
  },
  {
   "cell_type": "code",
   "execution_count": 2,
   "metadata": {},
   "outputs": [
    {
     "name": "stdout",
     "output_type": "stream",
     "text": [
      "# nodes: 7997 \n",
      "# edges: 11783\n"
     ]
    },
    {
     "name": "stderr",
     "output_type": "stream",
     "text": [
      "100%|██████████| 7997/7997 [00:13<00:00, 590.05it/s]\n",
      "100%|██████████| 11783/11783 [00:00<00:00, 387118.51it/s]\n",
      "100%|██████████| 11783/11783 [01:01<00:00, 192.86it/s]\n"
     ]
    }
   ],
   "source": [
    "# add folder for imports\n",
    "import sys\n",
    "sys.path.append('../')\n",
    "\n",
    "import pandas as pd\n",
    "import numpy as np\n",
    "import json\n",
    "import networkx as nx\n",
    "from tqdm import tqdm\n",
    "from compound import Compound\n",
    "from reaction import Reaction\n",
    "from graph import Graph\n",
    "from data import Data\n",
    "from pathway import Pathway\n",
    "from utils import create_compound, create_reaction\n",
    "# suppres rdkit warnings\n",
    "import rdkit\n",
    "from rdkit import RDLogger\n",
    "from utils import check_list\n",
    "\n",
    "RDLogger.DisableLog('rdApp.*')\n",
    "\n",
    "\n",
    "# read data from csv\n",
    "cpds = pd.read_csv('../data/compounds_final.csv', index_col=0) # containing toxicity\n",
    "rxns = pd.read_csv('../data/reactions_final.csv', index_col=0)\n",
    "pairs = pd.read_csv('../data/pairs_final_RPAIRS_pred.csv', index_col=0)\n",
    "cofactors = pd.read_csv('../data/original/cofactors_KEGG.csv')\n",
    "\n",
    "# create class instances\n",
    "data = Data()\n",
    "graph = Graph(pairs=pairs)\n",
    "pathway = Pathway()\n",
    "\n",
    "data = create_compound(data, cpds, cofactors)\n",
    "data = create_reaction(data, rxns)\n",
    "\n",
    "# CREATE GRAPH\n",
    "graph.create_graph(data=data, pairs=pairs)\n",
    "\n",
    "graph.calculate_edge_mol_weight(data)\n",
    "graph.calculate_smiles_similarity(data)"
   ]
  },
  {
   "cell_type": "markdown",
   "metadata": {},
   "source": [
    "#### Get KEGG source and target"
   ]
  },
  {
   "cell_type": "code",
   "execution_count": 3,
   "metadata": {},
   "outputs": [],
   "source": [
    "# define target compound\n",
    "butanol_KEGG = 'C06142'\n",
    "# define example source compound\n",
    "oxoglatarate_KEGG = 'C00026'\n",
    "# define source list\n",
    "src_list = ['C00084', 'C00024', 'C00074', 'C00022', 'C00497', 'C00149', \\\n",
    "            'C00122', 'C00042', 'C00036', 'C00091', 'C00111', 'C00158']"
   ]
  },
  {
   "cell_type": "markdown",
   "metadata": {},
   "source": [
    "#### Find metabolic pathways from src to trg"
   ]
  },
  {
   "cell_type": "markdown",
   "metadata": {},
   "source": [
    "Find metabolic pathways from `Acetyl-coA` to `n-Butanol`"
   ]
  },
  {
   "cell_type": "code",
   "execution_count": 4,
   "metadata": {},
   "outputs": [],
   "source": [
    "pathway.initialize(src_list[1], butanol_KEGG, graph)\n",
    "pathway.get_pathway()\n",
    "# pathway.print_pathway(with_reactions=True)"
   ]
  },
  {
   "cell_type": "code",
   "execution_count": 5,
   "metadata": {},
   "outputs": [
    {
     "data": {
      "text/plain": [
       "(['C00024', 'C00332', 'C01144', 'C00877', 'C00136', 'C01412', 'C06142'],\n",
       " [['R00238', 'R09527'],\n",
       "  ['R01975', 'R01976'],\n",
       "  ['R03026'],\n",
       "  ['R01171', 'R01175', 'R09738', 'R11675'],\n",
       "  ['R01172', 'R01173'],\n",
       "  ['R03544', 'R03545']])"
      ]
     },
     "execution_count": 5,
     "metadata": {},
     "output_type": "execute_result"
    }
   ],
   "source": [
    "pathway.single_pathway(pathway.pred_paths[pathway.idx_smi[0]])"
   ]
  },
  {
   "cell_type": "code",
   "execution_count": 6,
   "metadata": {},
   "outputs": [
    {
     "name": "stdout",
     "output_type": "stream",
     "text": [
      "['R00238', 'R01975', 'R03026', 'R01171', 'R01172', 'R03544']\n"
     ]
    }
   ],
   "source": [
    "pathway.select_reactions(data, cobra_model)\n",
    "print(pathway.selected_pathway_reactions)"
   ]
  },
  {
   "cell_type": "code",
   "execution_count": 7,
   "metadata": {},
   "outputs": [
    {
     "name": "stdout",
     "output_type": "stream",
     "text": [
      "2 accoa_c --> coa_c + C00332\n",
      "C01144 + nad_c --> C00332 + nadh_c + h_c\n",
      "C01144 --> C00877 + h2o_c\n",
      "C00136 + nad_c --> C00877 + nadh_c + h_c\n",
      "C01412 + coa_c + nad_c --> C00136 + nadh_c + h_c\n",
      "C01412 + nadh_c + h_c --> C06142 + nad_c\n"
     ]
    }
   ],
   "source": [
    "eqs_metabolites = pathway.reactions_add_gem(data, cobra_model, 'metabolites', save=True)"
   ]
  },
  {
   "cell_type": "code",
   "execution_count": 8,
   "metadata": {},
   "outputs": [
    {
     "name": "stdout",
     "output_type": "stream",
     "text": [
      "2 cpd00022 --> cpd22528 + C00332\n",
      "C01144 + cpd00003 --> C00332 + cpd00004 + cpd00067\n",
      "C01144 --> C00877 + cpd27222\n",
      "C00136 + cpd00003 --> C00877 + cpd00004 + cpd00067\n",
      "C01412 + cpd22528 + cpd00003 --> C00136 + cpd00004 + cpd00067\n",
      "C01412 + cpd00004 + cpd00067 --> C06142 + cpd00003\n"
     ]
    }
   ],
   "source": [
    "eqs_seed = pathway.reactions_add_gem(data, cobra_model, 'seed', save=True)"
   ]
  },
  {
   "cell_type": "markdown",
   "metadata": {},
   "source": [
    "#### Extract reactions to add for all src"
   ]
  },
  {
   "cell_type": "code",
   "execution_count": 10,
   "metadata": {},
   "outputs": [
    {
     "name": "stdout",
     "output_type": "stream",
     "text": [
      "acald_c + coa_c + nad_c --> accoa_c + nadh_c + h_c\n",
      "2 accoa_c --> coa_c + C00332\n",
      "C01144 + nad_c --> C00332 + nadh_c + h_c\n",
      "C01144 --> C00877 + h2o_c\n",
      "C00136 + nad_c --> C00877 + nadh_c + h_c\n",
      "C01412 + coa_c + nad_c --> C00136 + nadh_c + h_c\n",
      "C01412 + nadh_c + h_c --> C06142 + nad_c\n",
      "cpd00071 + cpd22528 + cpd00003 --> cpd00022 + cpd00004 + cpd00067\n",
      "2 cpd00022 --> cpd22528 + C00332\n",
      "C01144 + cpd00003 --> C00332 + cpd00004 + cpd00067\n",
      "C01144 --> C00877 + cpd27222\n",
      "C00136 + cpd00003 --> C00877 + cpd00004 + cpd00067\n",
      "C01412 + cpd22528 + cpd00003 --> C00136 + cpd00004 + cpd00067\n",
      "C01412 + cpd00004 + cpd00067 --> C06142 + cpd00003\n",
      "2 accoa_c --> coa_c + C00332\n",
      "C01144 + nad_c --> C00332 + nadh_c + h_c\n",
      "C01144 --> C00877 + h2o_c\n",
      "C00136 + nad_c --> C00877 + nadh_c + h_c\n",
      "C01412 + coa_c + nad_c --> C00136 + nadh_c + h_c\n",
      "C01412 + nadh_c + h_c --> C06142 + nad_c\n",
      "2 cpd00022 --> cpd22528 + C00332\n",
      "C01144 + cpd00003 --> C00332 + cpd00004 + cpd00067\n",
      "C01144 --> C00877 + cpd27222\n",
      "C00136 + cpd00003 --> C00877 + cpd00004 + cpd00067\n",
      "C01412 + cpd22528 + cpd00003 --> C00136 + cpd00004 + cpd00067\n",
      "C01412 + cpd00004 + cpd00067 --> C06142 + cpd00003\n",
      "2pg_c --> pep_c + h2o_c\n",
      "2pg_c --> 3pg_c\n",
      "C00118 + nadp_c + h2o_c --> 3pg_c + nadph_c + h_c\n",
      "C00118 --> dhap_c\n",
      "dhap_c + accoa_c --> C20960 + coa_c\n",
      "dhap_c + accoa_c --> C20960 + coa_c\n",
      "2 accoa_c --> coa_c + C00332\n",
      "C01144 + nad_c --> C00332 + nadh_c + h_c\n",
      "C01144 --> C00877 + h2o_c\n",
      "C00136 + nad_c --> C00877 + nadh_c + h_c\n",
      "C01412 + coa_c + nad_c --> C00136 + nadh_c + h_c\n",
      "C01412 + nadh_c + h_c --> C06142 + nad_c\n",
      "cpd00482 --> cpd00061 + cpd27222\n",
      "cpd00482 --> cpd00169\n",
      "C00118 + cpd00006 + cpd27222 --> cpd00169 + cpd00005 + cpd00067\n",
      "C00118 --> cpd00095\n",
      "cpd00095 + cpd00022 --> C20960 + cpd22528\n",
      "cpd00095 + cpd00022 --> C20960 + cpd22528\n",
      "2 cpd00022 --> cpd22528 + C00332\n",
      "C01144 + cpd00003 --> C00332 + cpd00004 + cpd00067\n",
      "C01144 --> C00877 + cpd27222\n",
      "C00136 + cpd00003 --> C00877 + cpd00004 + cpd00067\n",
      "C01412 + cpd22528 + cpd00003 --> C00136 + cpd00004 + cpd00067\n",
      "C01412 + cpd00004 + cpd00067 --> C06142 + cpd00003\n",
      "pyr_c + coa_c + nad_c --> accoa_c + co2_c + nadh_c + h_c\n",
      "2 accoa_c --> coa_c + C00332\n",
      "C01144 + nad_c --> C00332 + nadh_c + h_c\n",
      "C01144 --> C00877 + h2o_c\n",
      "C00136 + nad_c --> C00877 + nadh_c + h_c\n",
      "C01412 + coa_c + nad_c --> C00136 + nadh_c + h_c\n",
      "C01412 + nadh_c + h_c --> C06142 + nad_c\n",
      "cpd00020 + cpd22528 + cpd00003 --> cpd00022 + cpd00011 + cpd00004 + cpd00067\n",
      "2 cpd00022 --> cpd22528 + C00332\n",
      "C01144 + cpd00003 --> C00332 + cpd00004 + cpd00067\n",
      "C01144 --> C00877 + cpd27222\n",
      "C00136 + cpd00003 --> C00877 + cpd00004 + cpd00067\n",
      "C01412 + cpd22528 + cpd00003 --> C00136 + cpd00004 + cpd00067\n",
      "C01412 + cpd00004 + cpd00067 --> C06142 + cpd00003\n",
      "C01384 --> fum_c\n",
      "mal__L_c --> fum_c + h2o_c\n",
      "mal__L_c + coa_c --> accoa_c + h2o_c + glx_c\n",
      "2 accoa_c --> coa_c + C00332\n",
      "C01144 + nad_c --> C00332 + nadh_c + h_c\n",
      "C01144 --> C00877 + h2o_c\n",
      "C00136 + nad_c --> C00877 + nadh_c + h_c\n",
      "C01412 + coa_c + nad_c --> C00136 + nadh_c + h_c\n",
      "C01412 + nadh_c + h_c --> C06142 + nad_c\n",
      "C01384 --> cpd00106\n",
      "cpd00130 --> cpd00106 + cpd27222\n",
      "cpd00130 + cpd22528 --> cpd00022 + cpd27222 + cpd00040\n",
      "2 cpd00022 --> cpd22528 + C00332\n",
      "C01144 + cpd00003 --> C00332 + cpd00004 + cpd00067\n",
      "C01144 --> C00877 + cpd27222\n",
      "C00136 + cpd00003 --> C00877 + cpd00004 + cpd00067\n",
      "C01412 + cpd22528 + cpd00003 --> C00136 + cpd00004 + cpd00067\n",
      "C01412 + cpd00004 + cpd00067 --> C06142 + cpd00003\n",
      "mal__L_c + coa_c --> accoa_c + h2o_c + glx_c\n",
      "2 accoa_c --> coa_c + C00332\n",
      "C01144 + nad_c --> C00332 + nadh_c + h_c\n",
      "C01144 --> C00877 + h2o_c\n",
      "C00136 + nad_c --> C00877 + nadh_c + h_c\n",
      "C01412 + coa_c + nad_c --> C00136 + nadh_c + h_c\n",
      "C01412 + nadh_c + h_c --> C06142 + nad_c\n",
      "cpd00130 + cpd22528 --> cpd00022 + cpd27222 + cpd00040\n",
      "2 cpd00022 --> cpd22528 + C00332\n",
      "C01144 + cpd00003 --> C00332 + cpd00004 + cpd00067\n",
      "C01144 --> C00877 + cpd27222\n",
      "C00136 + cpd00003 --> C00877 + cpd00004 + cpd00067\n",
      "C01412 + cpd22528 + cpd00003 --> C00136 + cpd00004 + cpd00067\n",
      "C01412 + cpd00004 + cpd00067 --> C06142 + cpd00003\n",
      "mal__L_c --> fum_c + h2o_c\n",
      "mal__L_c + coa_c --> accoa_c + h2o_c + glx_c\n",
      "2 accoa_c --> coa_c + C00332\n",
      "C01144 + nad_c --> C00332 + nadh_c + h_c\n",
      "C01144 --> C00877 + h2o_c\n",
      "C00136 + nad_c --> C00877 + nadh_c + h_c\n",
      "C01412 + coa_c + nad_c --> C00136 + nadh_c + h_c\n",
      "C01412 + nadh_c + h_c --> C06142 + nad_c\n",
      "cpd00130 --> cpd00106 + cpd27222\n",
      "cpd00130 + cpd22528 --> cpd00022 + cpd27222 + cpd00040\n",
      "2 cpd00022 --> cpd22528 + C00332\n",
      "C01144 + cpd00003 --> C00332 + cpd00004 + cpd00067\n",
      "C01144 --> C00877 + cpd27222\n",
      "C00136 + cpd00003 --> C00877 + cpd00004 + cpd00067\n",
      "C01412 + cpd22528 + cpd00003 --> C00136 + cpd00004 + cpd00067\n",
      "C01412 + cpd00004 + cpd00067 --> C06142 + cpd00003\n",
      "C00152 + h2o_c --> C00049 + nh4_c\n",
      "C00049 + akg_c --> oaa_c + glu__L_c\n",
      "mal__L_c + coa_c --> accoa_c + h2o_c + glx_c\n",
      "2 accoa_c --> coa_c + C00332\n",
      "C01144 + nad_c --> C00332 + nadh_c + h_c\n",
      "C01144 --> C00877 + h2o_c\n",
      "C00136 + nad_c --> C00877 + nadh_c + h_c\n",
      "C01412 + coa_c + nad_c --> C00136 + nadh_c + h_c\n",
      "C01412 + nadh_c + h_c --> C06142 + nad_c\n",
      "C00152 + cpd27222 --> C00049 + cpd19013\n",
      "C00049 + cpd00024 --> cpd00032 + cpd27177\n",
      "cpd00130 + cpd22528 --> cpd00022 + cpd27222 + cpd00040\n",
      "2 cpd00022 --> cpd22528 + C00332\n",
      "C01144 + cpd00003 --> C00332 + cpd00004 + cpd00067\n",
      "C01144 --> C00877 + cpd27222\n",
      "C00136 + cpd00003 --> C00877 + cpd00004 + cpd00067\n",
      "C01412 + cpd22528 + cpd00003 --> C00136 + cpd00004 + cpd00067\n",
      "C01412 + cpd00004 + cpd00067 --> C06142 + cpd00003\n",
      "C01213 --> C00683\n",
      "C01213 --> succoa_c\n",
      "C18323 + h2o_c --> C01011\n",
      "C06028 --> C18323\n",
      "C20238 --> C18324\n",
      "C18026 --> C20238\n",
      "C18026 --> C00136 + co2_c\n",
      "C01412 + coa_c + nad_c --> C00136 + nadh_c + h_c\n",
      "C01412 + nadh_c + h_c --> C06142 + nad_c\n",
      "C01213 --> C00683\n",
      "C01213 --> cpd00078\n",
      "C18323 + cpd27222 --> C01011\n",
      "C06028 --> C18323\n",
      "C20238 --> C18324\n",
      "C18026 --> C20238\n",
      "C18026 --> C00136 + cpd00011\n",
      "C01412 + cpd22528 + cpd00003 --> C00136 + cpd00004 + cpd00067\n",
      "C01412 + cpd00004 + cpd00067 --> C06142 + cpd00003\n",
      "C01011 --> accoa_c + pyr_c\n",
      "2 accoa_c --> coa_c + C00332\n",
      "C01144 + nad_c --> C00332 + nadh_c + h_c\n",
      "C01144 --> C00877 + h2o_c\n",
      "C00136 + nad_c --> C00877 + nadh_c + h_c\n",
      "C01412 + coa_c + nad_c --> C00136 + nadh_c + h_c\n",
      "C01412 + nadh_c + h_c --> C06142 + nad_c\n",
      "C01011 --> cpd00022 + cpd00020\n",
      "2 cpd00022 --> cpd22528 + C00332\n",
      "C01144 + cpd00003 --> C00332 + cpd00004 + cpd00067\n",
      "C01144 --> C00877 + cpd27222\n",
      "C00136 + cpd00003 --> C00877 + cpd00004 + cpd00067\n",
      "C01412 + cpd22528 + cpd00003 --> C00136 + cpd00004 + cpd00067\n",
      "C01412 + cpd00004 + cpd00067 --> C06142 + cpd00003\n",
      "dhap_c + accoa_c --> C20960 + coa_c\n",
      "dhap_c + accoa_c --> C20960 + coa_c\n",
      "2 accoa_c --> coa_c + C00332\n",
      "C01144 + nad_c --> C00332 + nadh_c + h_c\n",
      "C01144 --> C00877 + h2o_c\n",
      "C00136 + nad_c --> C00877 + nadh_c + h_c\n",
      "C01412 + coa_c + nad_c --> C00136 + nadh_c + h_c\n",
      "C01412 + nadh_c + h_c --> C06142 + nad_c\n",
      "cpd00095 + cpd00022 --> C20960 + cpd22528\n",
      "cpd00095 + cpd00022 --> C20960 + cpd22528\n",
      "2 cpd00022 --> cpd22528 + C00332\n",
      "C01144 + cpd00003 --> C00332 + cpd00004 + cpd00067\n",
      "C01144 --> C00877 + cpd27222\n",
      "C00136 + cpd00003 --> C00877 + cpd00004 + cpd00067\n",
      "C01412 + cpd22528 + cpd00003 --> C00136 + cpd00004 + cpd00067\n",
      "C01412 + cpd00004 + cpd00067 --> C06142 + cpd00003\n",
      "atp_c + cit_c + coa_c --> adp_c + pi_c + C00566\n",
      "C00566 --> accoa_c + oaa_c\n",
      "2 accoa_c --> coa_c + C00332\n",
      "C01144 + nad_c --> C00332 + nadh_c + h_c\n",
      "C01144 --> C00877 + h2o_c\n",
      "C00136 + nad_c --> C00877 + nadh_c + h_c\n",
      "C01412 + coa_c + nad_c --> C00136 + nadh_c + h_c\n",
      "C01412 + nadh_c + h_c --> C06142 + nad_c\n",
      "cpd00002 + cpd00137 + cpd22528 --> cpd00008 + cpd27787 + C00566\n",
      "C00566 --> cpd00022 + cpd00032\n",
      "2 cpd00022 --> cpd22528 + C00332\n",
      "C01144 + cpd00003 --> C00332 + cpd00004 + cpd00067\n",
      "C01144 --> C00877 + cpd27222\n",
      "C00136 + cpd00003 --> C00877 + cpd00004 + cpd00067\n",
      "C01412 + cpd22528 + cpd00003 --> C00136 + cpd00004 + cpd00067\n",
      "C01412 + cpd00004 + cpd00067 --> C06142 + cpd00003\n"
     ]
    }
   ],
   "source": [
    "for s in src_list:\n",
    "    pathway.initialize(s, butanol_KEGG, graph)\n",
    "    pathway.get_pathway()\n",
    "    pathway.single_pathway(pathway.pred_paths[pathway.idx_smi[0]])\n",
    "    pathway.select_reactions(data, cobra_model)\n",
    "    eqs_metabolites = pathway.reactions_add_gem(data, cobra_model, 'metabolites', save=True)\n",
    "    eqs_seed = pathway.reactions_add_gem(data, cobra_model, 'seed', save=True)"
   ]
  }
 ],
 "metadata": {
  "kernelspec": {
   "display_name": "Python 3 (ipykernel)",
   "language": "python",
   "name": "python3"
  },
  "language_info": {
   "codemirror_mode": {
    "name": "ipython",
    "version": 3
   },
   "file_extension": ".py",
   "mimetype": "text/x-python",
   "name": "python",
   "nbconvert_exporter": "python",
   "pygments_lexer": "ipython3",
   "version": "3.11.2"
  }
 },
 "nbformat": 4,
 "nbformat_minor": 2
}
