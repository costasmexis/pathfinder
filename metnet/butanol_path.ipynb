{
 "cells": [
  {
   "cell_type": "markdown",
   "metadata": {},
   "source": [
    "#### Create metabolic network as `networkx` graph"
   ]
  },
  {
   "cell_type": "code",
   "execution_count": 1,
   "metadata": {},
   "outputs": [
    {
     "name": "stdout",
     "output_type": "stream",
     "text": [
      "# nodes: 8481 \n",
      "# edges: 25809\n"
     ]
    },
    {
     "name": "stderr",
     "output_type": "stream",
     "text": [
      "100%|██████████| 8481/8481 [00:06<00:00, 1300.47it/s]\n",
      "100%|██████████| 25809/25809 [00:00<00:00, 564414.72it/s]\n",
      "100%|██████████| 25809/25809 [00:54<00:00, 474.04it/s] \n"
     ]
    }
   ],
   "source": [
    "import pandas as pd\n",
    "import numpy as np\n",
    "import json\n",
    "import networkx as nx\n",
    "from tqdm import tqdm\n",
    "from compound import Compound\n",
    "from reaction import Reaction\n",
    "from graph import Graph\n",
    "from data import Data\n",
    "from pathway import Pathway\n",
    "\n",
    "# suppres rdkit warnings\n",
    "import rdkit\n",
    "from rdkit import RDLogger\n",
    "RDLogger.DisableLog('rdApp.*')\n",
    "\n",
    "\n",
    "# read data from csv\n",
    "cpds = pd.read_csv('../GNN_toxic/data/raw/compounds_final.csv', index_col=0) # containing toxicity\n",
    "rxns = pd.read_csv('data/reactions_final.csv', index_col=0)\n",
    "pairs = pd.read_csv('data/pairs_final_RPAIRS.csv', index_col=0)\n",
    "cofactors = pd.read_csv('data/original/cofactors_KEGG.csv')\n",
    "\n",
    "# create class instances\n",
    "data = Data()\n",
    "graph = Graph(pairs=pairs)\n",
    "pathway = Pathway()\n",
    "\n",
    "# Create a Compound object for each row in the DataFrame and add it to the data\n",
    "for index, row in cpds.iterrows():\n",
    "    entry = row['Entry']\n",
    "    name = row['Names']\n",
    "    formula = row['Formula']\n",
    "    mw = row['mol_weight']\n",
    "    smiles = row['SMILES']\n",
    "    is_cofactor = row['Entry'] in cofactors['Entry'].values\n",
    "    is_toxic = row['toxic']\n",
    "    is_polymer = row['polymer']\n",
    "\n",
    "    compound = Compound(entry, name, formula, mw, smiles, is_cofactor, is_polymer, is_toxic)\n",
    "    data.add_element('compound', compound)\n",
    "\n",
    "# Create a Reaction object for each row in the DataFrame and add it to the data\n",
    "for index, row in rxns.iterrows():\n",
    "    entry = row['Entry']\n",
    "    name = row['Names']\n",
    "    compounds = row['Compound']\n",
    "    enzyme = row['EC Number']\n",
    "\n",
    "    reaction = Reaction(entry, name, compounds, enzyme)\n",
    "    data.add_element('reaction', reaction)\n",
    "\n",
    "# CREATE GRAPH\n",
    "graph.create_graph(data=data, pairs=pairs)\n",
    "\n",
    "graph.calculate_edge_mol_weight(data)\n",
    "graph.calculate_smiles_similarity(data)"
   ]
  },
  {
   "cell_type": "markdown",
   "metadata": {},
   "source": [
    "#### Get KEGG and BIGG names of source and target"
   ]
  },
  {
   "cell_type": "code",
   "execution_count": 2,
   "metadata": {},
   "outputs": [],
   "source": [
    "# define target compound\n",
    "butanol_KEGG = 'C06142'\n",
    "butanol_BIGG = pathway.kegg_to_bigg_compound(butanol_KEGG)\n",
    "\n",
    "# define source list\n",
    "src_list = ['C00084', 'C00024', 'C00074', 'C00022', 'C00497', 'C00149', 'C00122', 'C00042', 'C00036', 'C00091', 'C00111', 'C00158']\n",
    "\n",
    "''' Create dataframe with columns the two lists above'''\n",
    "src = pd.DataFrame({'source': src_list})\n",
    "src['bigg'] = src['source'].apply(lambda x: pathway.kegg_to_bigg_compound(x))"
   ]
  },
  {
   "cell_type": "markdown",
   "metadata": {},
   "source": [
    "#### Simple Pathway example for investigation"
   ]
  },
  {
   "cell_type": "code",
   "execution_count": 3,
   "metadata": {},
   "outputs": [
    {
     "name": "stdout",
     "output_type": "stream",
     "text": [
      "Pathway from C00084 to C06142\n",
      "Pathway from C00084 to C06142:\n",
      "['C00084', 'C00024', 'C05231', 'C00877', 'C00136', 'C01412', 'C06142']\n",
      "[['R00228'], ['R10564'], ['R03030'], ['R01171', 'R01175', 'R09738', 'R11675'], ['R01172', 'R01173'], ['R03544', 'R03545']]\n",
      "['acald', 'accoa', 'Not found', 'b2coa', 'btcoa', 'btal', '1btol']\n",
      "[['ACALD'], ['Not found'], ['Not found'], ['ACOAD1', 'ACOA40OR', 'Not found', 'Not found'], ['BTCOARx', 'Not found'], ['BTS', 'BTS_nadph']]\n",
      "\n",
      "\n",
      "['C00084', 'C00024', 'C00332', 'C01144', 'C00877', 'C00136', 'C01412', 'C06142']\n",
      "[['R00228'], ['R00238', 'R09527'], ['R01975', 'R01976'], ['R03026'], ['R01171', 'R01175', 'R09738', 'R11675'], ['R01172', 'R01173'], ['R03544', 'R03545']]\n",
      "['acald', 'accoa', 'aacoa', '3hbcoa', 'b2coa', 'btcoa', 'btal', '1btol']\n",
      "[['ACALD'], ['ACACT1m', 'Not found'], ['HACD1', 'HBCO_nadp'], ['ECOAH1m'], ['ACOAD1', 'ACOA40OR', 'Not found', 'Not found'], ['BTCOARx', 'Not found'], ['ALCD4', 'ALCD4y']]\n",
      "\n",
      "\n",
      "['C00084', 'C00024', 'C00332', 'C03561', 'C00877', 'C00136', 'C01412', 'C06142']\n",
      "[['R00228'], ['R00238', 'R09527'], ['R01977'], ['R03027'], ['R01171', 'R01175', 'R09738', 'R11675'], ['R01172', 'R01173'], ['R03544', 'R03545']]\n",
      "['acald', 'accoa', 'aacoa', 'Not found', 'b2coa', 'btcoa', 'btal', '1btol']\n",
      "[['ACALD'], ['KAT1', 'Not found'], ['Not found'], ['Not found'], ['ACOAD1', 'ACOAD1f', 'Not found', 'Not found'], ['BNORh', 'Not found'], ['ALCD4', 'BTS_nadph']]\n",
      "\n",
      "\n",
      "['C00084', 'C00024', 'C00332', 'C01144', 'C03561', 'C00877', 'C00136', 'C01412', 'C06142']\n",
      "[['R00228'], ['R00238', 'R09527'], ['R01975', 'R01976'], ['R03276'], ['R03027'], ['R01171', 'R01175', 'R09738', 'R11675'], ['R01172', 'R01173'], ['R03544', 'R03545']]\n",
      "['acald', 'accoa', 'aacoa', '3hbcoa', 'Not found', 'b2coa', 'btcoa', 'btal', 'btoh']\n",
      "[['ACALD'], ['ACACT1m', 'Not found'], ['HACD1m', 'HBCO_nadp'], ['Not found'], ['Not found'], ['ACOAD1', 'ACOA40OR', 'Not found', 'Not found'], ['BNORh', 'Not found'], ['BTS', 'ALCD4y']]\n",
      "\n",
      "\n",
      "['C00084', 'C00024', 'C00332', 'C05116', 'C00877', 'C00136', 'C01412', 'C06142']\n",
      "[['R00228'], ['R00238', 'R09527'], ['R05576'], ['R05595'], ['R01171', 'R01175', 'R09738', 'R11675'], ['R01172', 'R01173'], ['R03544', 'R03545']]\n",
      "['acald', 'accoa', 'aacoa', 'Not found', 'b2coa', 'btcoa', 'btal', '1btol']\n",
      "[['ACALD'], ['ACACT1m', 'Not found'], ['Not found'], ['Not found'], ['ACOAD1', 'ACOAD1f', 'Not found', 'Not found'], ['BNORh', 'Not found'], ['BTS', 'ALCD4y']]\n",
      "\n",
      "\n",
      "['C00084', 'C00024', 'C00332', 'C03561', 'C01144', 'C00877', 'C00136', 'C01412', 'C06142']\n",
      "[['R00228'], ['R00238', 'R09527'], ['R01977'], ['R03276'], ['R03026'], ['R01171', 'R01175', 'R09738', 'R11675'], ['R01172', 'R01173'], ['R03544', 'R03545']]\n",
      "['acald', 'accoa', 'aacoa', 'Not found', '3hbcoa', 'b2coa', 'btcoa', 'btal', 'btoh']\n",
      "[['ACALD'], ['KAT1', 'Not found'], ['Not found'], ['Not found'], ['ECOAH1'], ['ACOAD1', 'ACOA40OR', 'Not found', 'Not found'], ['BTCOARx', 'Not found'], ['ALCD4', 'BTS_nadph']]\n",
      "\n",
      "\n",
      "['C00084', 'C00024', 'C05231', 'C00877', 'C18026', 'C00136', 'C01412', 'C06142']\n",
      "[['R00228'], ['R10564'], ['R03030'], ['R09291'], ['R09958'], ['R01172', 'R01173'], ['R03544', 'R03545']]\n",
      "['acald', 'accoa', 'Not found', 'b2coa', 'Not found', 'btcoa', 'btal', '1btol']\n",
      "[['ACALD'], ['Not found'], ['Not found'], ['Not found'], ['Not found'], ['BNORh', 'Not found'], ['BTS', 'ALCD4y']]\n",
      "\n",
      "\n",
      "['C00084', 'C00024', 'C00332', 'C01144', 'C00877', 'C18026', 'C00136', 'C01412', 'C06142']\n",
      "[['R00228'], ['R00238', 'R09527'], ['R01975', 'R01976'], ['R03026'], ['R09291'], ['R09958'], ['R01172', 'R01173'], ['R03544', 'R03545']]\n",
      "['acald', 'accoa', 'aacoa', '3hbcoa', 'b2coa', 'Not found', 'btcoa', 'btal', '1btol']\n",
      "[['ACALD'], ['ACACT1m', 'Not found'], ['HACD1m', 'HBCO_nadp'], ['ECOAH1m'], ['Not found'], ['Not found'], ['BTCOARx', 'Not found'], ['ALCD4', 'ALCD4y']]\n",
      "\n",
      "\n",
      "['C00084', 'C00024', 'C00332', 'C03561', 'C00877', 'C18026', 'C00136', 'C01412', 'C06142']\n",
      "[['R00228'], ['R00238', 'R09527'], ['R01977'], ['R03027'], ['R09291'], ['R09958'], ['R01172', 'R01173'], ['R03544', 'R03545']]\n",
      "['acald', 'accoa', 'aacoa', 'Not found', 'b2coa', 'Not found', 'btcoa', 'btal', '1btol']\n",
      "[['ACALD'], ['ACACT1m', 'Not found'], ['Not found'], ['Not found'], ['Not found'], ['Not found'], ['BNORh', 'Not found'], ['ALCD4', 'BTS_nadph']]\n",
      "\n",
      "\n",
      "['C00084', 'C00024', 'C01011', 'C18323', 'C06028', 'C18324', 'C20238', 'C18026', 'C00136', 'C01412', 'C06142']\n",
      "[['R00228'], ['R02955', 'R03153'], ['R09282'], ['R09283'], ['R09293'], ['R09292'], ['R09979'], ['R09958'], ['R01172', 'R01173'], ['R03544', 'R03545']]\n",
      "['acald', 'accoa', 'Not found', 'Not found', 'Not found', 'Not found', 'Not found', 'Not found', 'btcoa', 'btal', '1btol']\n",
      "[['ACALD'], ['Not found', 'Not found'], ['Not found'], ['Not found'], ['Not found'], ['Not found'], ['Not found'], ['Not found'], ['BTCOARx', 'Not found'], ['ALCD4', 'ALCD4y']]\n",
      "\n",
      "\n"
     ]
    }
   ],
   "source": [
    "# intialize Pathway class instance\n",
    "from pathway import Pathway\n",
    "\n",
    "pathway.initialize(src_list[0], butanol_KEGG, graph)\n",
    "print(pathway)\n",
    "\n",
    "# get all possible paths\n",
    "pathway.get_pathway()\n",
    "pathway.print_pathway(with_reactions=True, to_bigg=True)"
   ]
  }
 ],
 "metadata": {
  "kernelspec": {
   "display_name": "Python 3 (ipykernel)",
   "language": "python",
   "name": "python3"
  },
  "language_info": {
   "codemirror_mode": {
    "name": "ipython",
    "version": 3
   },
   "file_extension": ".py",
   "mimetype": "text/x-python",
   "name": "python",
   "nbconvert_exporter": "python",
   "pygments_lexer": "ipython3",
   "version": "3.10.12"
  }
 },
 "nbformat": 4,
 "nbformat_minor": 2
}
