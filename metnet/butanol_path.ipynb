{
 "cells": [
  {
   "cell_type": "markdown",
   "metadata": {},
   "source": [
    "#### Create metabolic network as `networkx` graph"
   ]
  },
  {
   "cell_type": "code",
   "execution_count": 2,
   "metadata": {},
   "outputs": [
    {
     "name": "stdout",
     "output_type": "stream",
     "text": [
      "# nodes: 8063 \n",
      "# edges: 12114\n"
     ]
    },
    {
     "name": "stderr",
     "output_type": "stream",
     "text": [
      "100%|██████████| 8063/8063 [00:06<00:00, 1326.23it/s]\n",
      "100%|██████████| 12114/12114 [00:00<00:00, 415027.97it/s]\n",
      "100%|██████████| 12114/12114 [00:26<00:00, 458.15it/s]\n"
     ]
    }
   ],
   "source": [
    "import pandas as pd\n",
    "import numpy as np\n",
    "import json\n",
    "import networkx as nx\n",
    "from tqdm import tqdm\n",
    "from compound import Compound\n",
    "from reaction import Reaction\n",
    "from graph import Graph\n",
    "from data import Data\n",
    "from pathway import Pathway\n",
    "\n",
    "# suppres rdkit warnings\n",
    "import rdkit\n",
    "from rdkit import RDLogger\n",
    "RDLogger.DisableLog('rdApp.*')\n",
    "\n",
    "\n",
    "# read data from csv\n",
    "cpds = pd.read_csv('../GNN_toxic/data/raw/compounds_final.csv', index_col=0) # containing toxicity\n",
    "rxns = pd.read_csv('data/reactions_final.csv', index_col=0)\n",
    "pairs = pd.read_csv('data/pairs_final_RPAIRS_pred.csv', index_col=0)\n",
    "cofactors = pd.read_csv('data/original/cofactors_KEGG.csv')\n",
    "\n",
    "# create class instances\n",
    "data = Data()\n",
    "graph = Graph(pairs=pairs)\n",
    "pathway = Pathway()\n",
    "\n",
    "# Create a Compound object for each row in the DataFrame and add it to the data\n",
    "for index, row in cpds.iterrows():\n",
    "    entry = row['Entry']\n",
    "    name = row['Names']\n",
    "    formula = row['Formula']\n",
    "    mw = row['mol_weight']\n",
    "    smiles = row['SMILES']\n",
    "    is_cofactor = row['Entry'] in cofactors['Entry'].values\n",
    "    is_toxic = row['toxic']\n",
    "    is_polymer = row['polymer']\n",
    "\n",
    "    compound = Compound(entry, name, formula, mw, smiles, is_cofactor, is_polymer, is_toxic)\n",
    "    data.add_element('compound', compound)\n",
    "\n",
    "# Create a Reaction object for each row in the DataFrame and add it to the data\n",
    "for index, row in rxns.iterrows():\n",
    "    entry = row['Entry']\n",
    "    name = row['Names']\n",
    "    compounds = row['Compound']\n",
    "    enzyme = row['EC Number']\n",
    "\n",
    "    reaction = Reaction(entry, name, compounds, enzyme)\n",
    "    data.add_element('reaction', reaction)\n",
    "\n",
    "# CREATE GRAPH\n",
    "graph.create_graph(data=data, pairs=pairs)\n",
    "\n",
    "graph.calculate_edge_mol_weight(data)\n",
    "graph.calculate_smiles_similarity(data)"
   ]
  },
  {
   "cell_type": "markdown",
   "metadata": {},
   "source": [
    "#### Get KEGG source and target"
   ]
  },
  {
   "cell_type": "code",
   "execution_count": 3,
   "metadata": {},
   "outputs": [],
   "source": [
    "# define target compound\n",
    "butanol_KEGG = 'C06142'\n",
    "\n",
    "# define source list\n",
    "src_list = ['C00084', 'C00024', 'C00074', 'C00022', 'C00497', 'C00149', \\\n",
    "            'C00122', 'C00042', 'C00036', 'C00091', 'C00111', 'C00158']"
   ]
  },
  {
   "cell_type": "markdown",
   "metadata": {},
   "source": [
    "#### Finde metabolic pathways from src to trg"
   ]
  },
  {
   "cell_type": "code",
   "execution_count": 6,
   "metadata": {},
   "outputs": [
    {
     "name": "stdout",
     "output_type": "stream",
     "text": [
      "Pathway from C00084 to C06142:\n",
      "['C00084', 'C00024', 'C00332', 'C01144', 'C00877', 'C00136', 'C01412', 'C06142']\n",
      "['C00084', 'C00024', 'C00332', 'C03561', 'C00877', 'C00136', 'C01412', 'C06142']\n",
      "['C00084', 'C00024', 'C00332', 'C01144', 'C03561', 'C00877', 'C00136', 'C01412', 'C06142']\n",
      "['C00084', 'C00024', 'C00332', 'C05116', 'C00877', 'C00136', 'C01412', 'C06142']\n",
      "['C00084', 'C00024', 'C00332', 'C03561', 'C01144', 'C00877', 'C00136', 'C01412', 'C06142']\n",
      "['C00084', 'C00024', 'C00332', 'C01144', 'C00877', 'C18026', 'C00136', 'C01412', 'C06142']\n",
      "['C00084', 'C00024', 'C00332', 'C03561', 'C00877', 'C18026', 'C00136', 'C01412', 'C06142']\n",
      "['C00084', 'C00024', 'C00332', 'C01144', 'C03561', 'C00877', 'C18026', 'C00136', 'C01412', 'C06142']\n",
      "['C00084', 'C00024', 'C00332', 'C05116', 'C00877', 'C18026', 'C00136', 'C01412', 'C06142']\n",
      "['C00084', 'C00024', 'C01011', 'C18323', 'C06028', 'C18324', 'C20238', 'C18026', 'C00136', 'C01412', 'C06142']\n",
      "--------------------------------------\n",
      "Pathway from C00024 to C06142:\n",
      "['C00024', 'C00332', 'C01144', 'C00877', 'C00136', 'C01412', 'C06142']\n",
      "['C00024', 'C00332', 'C03561', 'C00877', 'C00136', 'C01412', 'C06142']\n",
      "['C00024', 'C00332', 'C01144', 'C03561', 'C00877', 'C00136', 'C01412', 'C06142']\n",
      "['C00024', 'C00332', 'C05116', 'C00877', 'C00136', 'C01412', 'C06142']\n",
      "['C00024', 'C00332', 'C03561', 'C01144', 'C00877', 'C00136', 'C01412', 'C06142']\n",
      "['C00024', 'C00332', 'C01144', 'C00877', 'C18026', 'C00136', 'C01412', 'C06142']\n",
      "['C00024', 'C00332', 'C03561', 'C00877', 'C18026', 'C00136', 'C01412', 'C06142']\n",
      "['C00024', 'C00332', 'C01144', 'C03561', 'C00877', 'C18026', 'C00136', 'C01412', 'C06142']\n",
      "['C00024', 'C00332', 'C05116', 'C00877', 'C18026', 'C00136', 'C01412', 'C06142']\n",
      "['C00024', 'C01011', 'C18323', 'C06028', 'C18324', 'C20238', 'C18026', 'C00136', 'C01412', 'C06142']\n",
      "--------------------------------------\n",
      "Pathway from C00074 to C06142:\n",
      "['C00074', 'C00036', 'C00683', 'C01213', 'C00091', 'C01011', 'C18323', 'C06028', 'C18324', 'C20238', 'C18026', 'C00136', 'C01412', 'C06142']\n",
      "['C00074', 'C00036', 'C00683', 'C01213', 'C00091', 'C01011', 'C18323', 'C06028', 'C18324', 'C20238', 'C18026', 'C00877', 'C00136', 'C01412', 'C06142']\n",
      "['C00074', 'C00036', 'C00149', 'C00024', 'C00332', 'C01144', 'C00877', 'C00136', 'C01412', 'C06142']\n",
      "['C00074', 'C00036', 'C00149', 'C00024', 'C00332', 'C03561', 'C00877', 'C00136', 'C01412', 'C06142']\n",
      "['C00074', 'C00036', 'C00149', 'C00024', 'C00332', 'C05116', 'C00877', 'C00136', 'C01412', 'C06142']\n",
      "['C00074', 'C00036', 'C00149', 'C00024', 'C00332', 'C01144', 'C03561', 'C00877', 'C00136', 'C01412', 'C06142']\n",
      "['C00074', 'C00036', 'C00149', 'C00024', 'C00332', 'C03561', 'C01144', 'C00877', 'C00136', 'C01412', 'C06142']\n",
      "--------------------------------------\n",
      "Pathway from C00022 to C06142:\n",
      "['C00022', 'C00024', 'C00332', 'C01144', 'C00877', 'C00136', 'C01412', 'C06142']\n",
      "['C00022', 'C00024', 'C00332', 'C03561', 'C00877', 'C00136', 'C01412', 'C06142']\n",
      "['C00022', 'C00024', 'C00332', 'C01144', 'C03561', 'C00877', 'C00136', 'C01412', 'C06142']\n",
      "['C00022', 'C00024', 'C00332', 'C05116', 'C00877', 'C00136', 'C01412', 'C06142']\n",
      "['C00022', 'C00024', 'C00332', 'C03561', 'C01144', 'C00877', 'C00136', 'C01412', 'C06142']\n",
      "['C00022', 'C01011', 'C18323', 'C06028', 'C18324', 'C20238', 'C18026', 'C00136', 'C01412', 'C06142']\n",
      "['C00022', 'C00100', 'C06027', 'C06028', 'C18324', 'C20238', 'C18026', 'C00136', 'C01412', 'C06142']\n",
      "['C00022', 'C01011', 'C18323', 'C06028', 'C18324', 'C20238', 'C18026', 'C00877', 'C00136', 'C01412', 'C06142']\n",
      "['C00022', 'C00100', 'C06027', 'C06028', 'C18324', 'C20238', 'C18026', 'C00877', 'C00136', 'C01412', 'C06142']\n",
      "--------------------------------------\n",
      "Pathway from C00497 to C06142:\n",
      "['C00497', 'C01384', 'C00122', 'C00149', 'C00024', 'C00332', 'C01144', 'C00877', 'C00136', 'C01412', 'C06142']\n",
      "['C00497', 'C01384', 'C00122', 'C00149', 'C00024', 'C00332', 'C03561', 'C00877', 'C00136', 'C01412', 'C06142']\n",
      "['C00497', 'C01384', 'C00122', 'C00149', 'C00024', 'C00332', 'C01144', 'C03561', 'C00877', 'C00136', 'C01412', 'C06142']\n",
      "['C00497', 'C01384', 'C00122', 'C00149', 'C00024', 'C00332', 'C05116', 'C00877', 'C00136', 'C01412', 'C06142']\n",
      "['C00497', 'C01384', 'C00122', 'C00149', 'C00024', 'C00332', 'C03561', 'C01144', 'C00877', 'C00136', 'C01412', 'C06142']\n",
      "['C00497', 'C01384', 'C00122', 'C00042', 'C00489', 'C00527', 'C00877', 'C00136', 'C01412', 'C06142']\n",
      "['C00497', 'C01384', 'C00122', 'C00042', 'C00489', 'C00527', 'C02411', 'C00877', 'C00136', 'C01412', 'C06142']\n",
      "['C00497', 'C01384', 'C00122', 'C00049', 'C00036', 'C00149', 'C00024', 'C00332', 'C01144', 'C00877', 'C00136', 'C01412', 'C06142']\n",
      "--------------------------------------\n",
      "Pathway from C00149 to C06142:\n",
      "['C00149', 'C00024', 'C00332', 'C01144', 'C00877', 'C00136', 'C01412', 'C06142']\n",
      "['C00149', 'C00024', 'C00332', 'C03561', 'C00877', 'C00136', 'C01412', 'C06142']\n",
      "['C00149', 'C00024', 'C00332', 'C01144', 'C03561', 'C00877', 'C00136', 'C01412', 'C06142']\n",
      "['C00149', 'C00024', 'C00332', 'C05116', 'C00877', 'C00136', 'C01412', 'C06142']\n",
      "['C00149', 'C00024', 'C00332', 'C03561', 'C01144', 'C00877', 'C00136', 'C01412', 'C06142']\n",
      "['C00149', 'C00024', 'C01011', 'C18323', 'C06028', 'C18324', 'C20238', 'C18026', 'C00136', 'C01412', 'C06142']\n",
      "['C00149', 'C00036', 'C00683', 'C01213', 'C00091', 'C01011', 'C18323', 'C06028', 'C18324', 'C20238', 'C18026', 'C00136', 'C01412', 'C06142']\n",
      "['C00149', 'C00036', 'C00683', 'C01213', 'C00091', 'C01011', 'C18323', 'C06028', 'C18324', 'C20238', 'C18026', 'C00877', 'C00136', 'C01412', 'C06142']\n",
      "--------------------------------------\n",
      "Pathway from C00122 to C06142:\n",
      "['C00122', 'C00149', 'C00024', 'C00332', 'C01144', 'C00877', 'C00136', 'C01412', 'C06142']\n",
      "['C00122', 'C00149', 'C00024', 'C00332', 'C03561', 'C00877', 'C00136', 'C01412', 'C06142']\n",
      "['C00122', 'C00149', 'C00024', 'C00332', 'C01144', 'C03561', 'C00877', 'C00136', 'C01412', 'C06142']\n",
      "['C00122', 'C00149', 'C00024', 'C00332', 'C05116', 'C00877', 'C00136', 'C01412', 'C06142']\n",
      "['C00122', 'C00149', 'C00024', 'C00332', 'C03561', 'C01144', 'C00877', 'C00136', 'C01412', 'C06142']\n",
      "['C00122', 'C00042', 'C00489', 'C00527', 'C00877', 'C00136', 'C01412', 'C06142']\n",
      "['C00122', 'C00042', 'C00489', 'C00527', 'C02411', 'C00877', 'C00136', 'C01412', 'C06142']\n",
      "['C00122', 'C00049', 'C00036', 'C00149', 'C00024', 'C00332', 'C01144', 'C00877', 'C00136', 'C01412', 'C06142']\n",
      "--------------------------------------\n",
      "Pathway from C00042 to C06142:\n",
      "['C00042', 'C00489', 'C00527', 'C00877', 'C00136', 'C01412', 'C06142']\n",
      "['C00042', 'C00489', 'C00527', 'C02411', 'C00877', 'C00136', 'C01412', 'C06142']\n",
      "['C00042', 'C00152', 'C00049', 'C00036', 'C00149', 'C00024', 'C00332', 'C01144', 'C00877', 'C00136', 'C01412', 'C06142']\n",
      "['C00042', 'C00152', 'C00049', 'C00402', 'C00036', 'C00149', 'C00024', 'C00332', 'C01144', 'C00877', 'C00136', 'C01412', 'C06142']\n",
      "['C00042', 'C00152', 'C00049', 'C00036', 'C00149', 'C00024', 'C00332', 'C03561', 'C00877', 'C00136', 'C01412', 'C06142']\n",
      "['C00042', 'C00152', 'C00049', 'C00036', 'C00149', 'C00024', 'C00332', 'C01144', 'C03561', 'C00877', 'C00136', 'C01412', 'C06142']\n",
      "['C00042', 'C00152', 'C00049', 'C00402', 'C00036', 'C00149', 'C00024', 'C00332', 'C03561', 'C00877', 'C00136', 'C01412', 'C06142']\n",
      "['C00042', 'C00152', 'C00049', 'C00402', 'C00036', 'C00149', 'C00024', 'C00332', 'C01144', 'C03561', 'C00877', 'C00136', 'C01412', 'C06142']\n",
      "--------------------------------------\n",
      "Pathway from C00036 to C06142:\n",
      "['C00036', 'C00683', 'C01213', 'C00091', 'C01011', 'C18323', 'C06028', 'C18324', 'C20238', 'C18026', 'C00136', 'C01412', 'C06142']\n",
      "['C00036', 'C00683', 'C01213', 'C00091', 'C01011', 'C18323', 'C06028', 'C18324', 'C20238', 'C18026', 'C00877', 'C00136', 'C01412', 'C06142']\n",
      "['C00036', 'C00149', 'C00024', 'C00332', 'C01144', 'C00877', 'C00136', 'C01412', 'C06142']\n",
      "['C00036', 'C00149', 'C00024', 'C00332', 'C03561', 'C00877', 'C00136', 'C01412', 'C06142']\n",
      "['C00036', 'C00149', 'C00024', 'C00332', 'C05116', 'C00877', 'C00136', 'C01412', 'C06142']\n",
      "['C00036', 'C00149', 'C00024', 'C00332', 'C01144', 'C03561', 'C00877', 'C00136', 'C01412', 'C06142']\n",
      "['C00036', 'C00149', 'C00024', 'C00332', 'C03561', 'C01144', 'C00877', 'C00136', 'C01412', 'C06142']\n",
      "--------------------------------------\n",
      "Pathway from C00091 to C06142:\n",
      "['C00091', 'C01011', 'C00024', 'C00332', 'C01144', 'C00877', 'C00136', 'C01412', 'C06142']\n",
      "['C00091', 'C01011', 'C00024', 'C00332', 'C01144', 'C03561', 'C00877', 'C00136', 'C01412', 'C06142']\n",
      "['C00091', 'C01011', 'C00024', 'C00332', 'C03561', 'C00877', 'C00136', 'C01412', 'C06142']\n",
      "['C00091', 'C20746', 'C00024', 'C00332', 'C01144', 'C00877', 'C00136', 'C01412', 'C06142']\n",
      "['C00091', 'C20746', 'C00024', 'C00332', 'C03561', 'C00877', 'C00136', 'C01412', 'C06142']\n",
      "['C00091', 'C20746', 'C00024', 'C00332', 'C01144', 'C03561', 'C00877', 'C00136', 'C01412', 'C06142']\n",
      "['C00091', 'C01011', 'C00024', 'C00332', 'C05116', 'C00877', 'C00136', 'C01412', 'C06142']\n",
      "['C00091', 'C01011', 'C18323', 'C06028', 'C18324', 'C20238', 'C18026', 'C00136', 'C01412', 'C06142']\n",
      "['C00091', 'C01011', 'C18323', 'C06028', 'C18324', 'C20238', 'C18026', 'C00877', 'C00136', 'C01412', 'C06142']\n",
      "['C00091', 'C01213', 'C00683', 'C00100', 'C06027', 'C06028', 'C18324', 'C20238', 'C18026', 'C00136', 'C01412', 'C06142']\n",
      "--------------------------------------\n",
      "Pathway from C00111 to C06142:\n",
      "['C00111', 'C04582', 'C04188', 'C00170', 'C02939', 'C03069', 'C03231', 'C00356', 'C00332', 'C01144', 'C00877', 'C00136', 'C01412', 'C06142']\n",
      "['C00111', 'C04582', 'C04188', 'C00170', 'C02939', 'C03069', 'C03231', 'C00356', 'C00332', 'C03561', 'C00877', 'C00136', 'C01412', 'C06142']\n",
      "['C00111', 'C04582', 'C04188', 'C00170', 'C02939', 'C03069', 'C03231', 'C00356', 'C00332', 'C01144', 'C03561', 'C00877', 'C00136', 'C01412', 'C06142']\n",
      "['C00111', 'C04582', 'C04188', 'C00170', 'C02939', 'C03069', 'C03231', 'C00356', 'C00332', 'C05116', 'C00877', 'C00136', 'C01412', 'C06142']\n",
      "['C00111', 'C04582', 'C04188', 'C00170', 'C02939', 'C03069', 'C03231', 'C00356', 'C00332', 'C03561', 'C01144', 'C00877', 'C00136', 'C01412', 'C06142']\n",
      "--------------------------------------\n"
     ]
    },
    {
     "ename": "KeyError",
     "evalue": "0",
     "output_type": "error",
     "traceback": [
      "\u001b[0;31m---------------------------------------------------------------------------\u001b[0m",
      "\u001b[0;31mKeyError\u001b[0m                                  Traceback (most recent call last)",
      "\u001b[0;32m/tmp/ipykernel_521549/2576450161.py\u001b[0m in \u001b[0;36m?\u001b[0;34m()\u001b[0m\n\u001b[1;32m      1\u001b[0m \u001b[0;32mfor\u001b[0m \u001b[0msrc\u001b[0m \u001b[0;32min\u001b[0m \u001b[0msrc_list\u001b[0m\u001b[0;34m:\u001b[0m\u001b[0;34m\u001b[0m\u001b[0;34m\u001b[0m\u001b[0m\n\u001b[1;32m      2\u001b[0m     \u001b[0mpathway\u001b[0m\u001b[0;34m.\u001b[0m\u001b[0minitialize\u001b[0m\u001b[0;34m(\u001b[0m\u001b[0msrc\u001b[0m\u001b[0;34m,\u001b[0m \u001b[0mbutanol_KEGG\u001b[0m\u001b[0;34m,\u001b[0m \u001b[0mgraph\u001b[0m\u001b[0;34m)\u001b[0m\u001b[0;34m\u001b[0m\u001b[0;34m\u001b[0m\u001b[0m\n\u001b[0;32m----> 3\u001b[0;31m     \u001b[0mpathway\u001b[0m\u001b[0;34m.\u001b[0m\u001b[0mget_pathway\u001b[0m\u001b[0;34m(\u001b[0m\u001b[0;34m)\u001b[0m\u001b[0;34m\u001b[0m\u001b[0;34m\u001b[0m\u001b[0m\n\u001b[0m\u001b[1;32m      4\u001b[0m     \u001b[0mpathway\u001b[0m\u001b[0;34m.\u001b[0m\u001b[0mprint_pathway\u001b[0m\u001b[0;34m(\u001b[0m\u001b[0mwith_reactions\u001b[0m\u001b[0;34m=\u001b[0m\u001b[0;32mFalse\u001b[0m\u001b[0;34m,\u001b[0m \u001b[0mto_bigg\u001b[0m\u001b[0;34m=\u001b[0m\u001b[0;32mFalse\u001b[0m\u001b[0;34m)\u001b[0m\u001b[0;34m\u001b[0m\u001b[0;34m\u001b[0m\u001b[0m\n\u001b[1;32m      5\u001b[0m     \u001b[0mprint\u001b[0m\u001b[0;34m(\u001b[0m\u001b[0;34m'--------------------------------------'\u001b[0m\u001b[0;34m)\u001b[0m\u001b[0;34m\u001b[0m\u001b[0;34m\u001b[0m\u001b[0m\n",
      "\u001b[0;32m~/pathfinder/metnet/pathway.py\u001b[0m in \u001b[0;36m?\u001b[0;34m(self)\u001b[0m\n\u001b[1;32m     23\u001b[0m     \u001b[0;32mdef\u001b[0m \u001b[0mget_pathway\u001b[0m\u001b[0;34m(\u001b[0m\u001b[0mself\u001b[0m\u001b[0;34m)\u001b[0m\u001b[0;34m:\u001b[0m\u001b[0;34m\u001b[0m\u001b[0;34m\u001b[0m\u001b[0m\n\u001b[0;32m---> 24\u001b[0;31m         \u001b[0mself\u001b[0m\u001b[0;34m.\u001b[0m\u001b[0mpred_paths\u001b[0m\u001b[0;34m,\u001b[0m \u001b[0mself\u001b[0m\u001b[0;34m.\u001b[0m\u001b[0midx_smi\u001b[0m\u001b[0;34m,\u001b[0m \u001b[0mself\u001b[0m\u001b[0;34m.\u001b[0m\u001b[0midx_com\u001b[0m \u001b[0;34m=\u001b[0m \u001b[0mself\u001b[0m\u001b[0;34m.\u001b[0m\u001b[0mgraph\u001b[0m\u001b[0;34m.\u001b[0m\u001b[0mconstrained_shortest_path\u001b[0m\u001b[0;34m(\u001b[0m\u001b[0mself\u001b[0m\u001b[0;34m.\u001b[0m\u001b[0msource\u001b[0m\u001b[0;34m,\u001b[0m \u001b[0mself\u001b[0m\u001b[0;34m.\u001b[0m\u001b[0mtarget\u001b[0m\u001b[0;34m,\u001b[0m \u001b[0mweight\u001b[0m\u001b[0;34m=\u001b[0m\u001b[0mself\u001b[0m\u001b[0;34m.\u001b[0m\u001b[0mweight\u001b[0m\u001b[0;34m)\u001b[0m\u001b[0;34m\u001b[0m\u001b[0;34m\u001b[0m\u001b[0m\n\u001b[0m",
      "\u001b[0;32m~/pathfinder/metnet/graph.py\u001b[0m in \u001b[0;36m?\u001b[0;34m(self, src, trg, weight, rxn_doubling)\u001b[0m\n\u001b[1;32m    112\u001b[0m \u001b[0;34m\u001b[0m\u001b[0m\n\u001b[1;32m    113\u001b[0m         \u001b[0;32mtry\u001b[0m\u001b[0;34m:\u001b[0m\u001b[0;34m\u001b[0m\u001b[0;34m\u001b[0m\u001b[0m\n\u001b[1;32m    114\u001b[0m             \u001b[0midx_smi\u001b[0m \u001b[0;34m=\u001b[0m \u001b[0mpd\u001b[0m\u001b[0;34m.\u001b[0m\u001b[0mDataFrame\u001b[0m\u001b[0;34m(\u001b[0m\u001b[0msmiles_sim\u001b[0m\u001b[0;34m)\u001b[0m\u001b[0;34m.\u001b[0m\u001b[0msort_values\u001b[0m\u001b[0;34m(\u001b[0m\u001b[0mby\u001b[0m\u001b[0;34m=\u001b[0m\u001b[0;36m0\u001b[0m\u001b[0;34m,\u001b[0m \u001b[0mignore_index\u001b[0m\u001b[0;34m=\u001b[0m\u001b[0;32mFalse\u001b[0m\u001b[0;34m)\u001b[0m\u001b[0;34m.\u001b[0m\u001b[0mindex\u001b[0m\u001b[0;34m.\u001b[0m\u001b[0mvalues\u001b[0m\u001b[0;34m\u001b[0m\u001b[0;34m\u001b[0m\u001b[0m\n\u001b[1;32m    115\u001b[0m             \u001b[0midx_com\u001b[0m \u001b[0;34m=\u001b[0m \u001b[0mpd\u001b[0m\u001b[0;34m.\u001b[0m\u001b[0mDataFrame\u001b[0m\u001b[0;34m(\u001b[0m\u001b[0mcomm_changes\u001b[0m\u001b[0;34m)\u001b[0m\u001b[0;34m.\u001b[0m\u001b[0msort_values\u001b[0m\u001b[0;34m(\u001b[0m\u001b[0mby\u001b[0m\u001b[0;34m=\u001b[0m\u001b[0;36m0\u001b[0m\u001b[0;34m,\u001b[0m \u001b[0mignore_index\u001b[0m\u001b[0;34m=\u001b[0m\u001b[0;32mFalse\u001b[0m\u001b[0;34m)\u001b[0m\u001b[0;34m.\u001b[0m\u001b[0mindex\u001b[0m\u001b[0;34m.\u001b[0m\u001b[0mvalues\u001b[0m\u001b[0;34m\u001b[0m\u001b[0;34m\u001b[0m\u001b[0m\n\u001b[0;32m--> 116\u001b[0;31m         \u001b[0;32mexcept\u001b[0m \u001b[0mValueError\u001b[0m\u001b[0;34m:\u001b[0m\u001b[0;34m\u001b[0m\u001b[0;34m\u001b[0m\u001b[0m\n\u001b[0m\u001b[1;32m    117\u001b[0m             \u001b[0midx_smi\u001b[0m \u001b[0;34m=\u001b[0m \u001b[0;32mNone\u001b[0m\u001b[0;34m\u001b[0m\u001b[0;34m\u001b[0m\u001b[0m\n\u001b[1;32m    118\u001b[0m             \u001b[0midx_com\u001b[0m \u001b[0;34m=\u001b[0m \u001b[0;32mNone\u001b[0m\u001b[0;34m\u001b[0m\u001b[0;34m\u001b[0m\u001b[0m\n\u001b[1;32m    119\u001b[0m \u001b[0;34m\u001b[0m\u001b[0m\n",
      "\u001b[0;32m~/env/main/lib/python3.10/site-packages/pandas/core/frame.py\u001b[0m in \u001b[0;36m?\u001b[0;34m(self, by, axis, ascending, inplace, kind, na_position, ignore_index, key)\u001b[0m\n\u001b[1;32m   6754\u001b[0m         \u001b[0;32melif\u001b[0m \u001b[0mlen\u001b[0m\u001b[0;34m(\u001b[0m\u001b[0mby\u001b[0m\u001b[0;34m)\u001b[0m\u001b[0;34m:\u001b[0m\u001b[0;34m\u001b[0m\u001b[0;34m\u001b[0m\u001b[0m\n\u001b[1;32m   6755\u001b[0m             \u001b[0;31m# len(by) == 1\u001b[0m\u001b[0;34m\u001b[0m\u001b[0;34m\u001b[0m\u001b[0m\n\u001b[1;32m   6756\u001b[0m \u001b[0;34m\u001b[0m\u001b[0m\n\u001b[1;32m   6757\u001b[0m             \u001b[0mby\u001b[0m \u001b[0;34m=\u001b[0m \u001b[0mby\u001b[0m\u001b[0;34m[\u001b[0m\u001b[0;36m0\u001b[0m\u001b[0;34m]\u001b[0m\u001b[0;34m\u001b[0m\u001b[0;34m\u001b[0m\u001b[0m\n\u001b[0;32m-> 6758\u001b[0;31m             \u001b[0mk\u001b[0m \u001b[0;34m=\u001b[0m \u001b[0mself\u001b[0m\u001b[0;34m.\u001b[0m\u001b[0m_get_label_or_level_values\u001b[0m\u001b[0;34m(\u001b[0m\u001b[0mby\u001b[0m\u001b[0;34m,\u001b[0m \u001b[0maxis\u001b[0m\u001b[0;34m=\u001b[0m\u001b[0maxis\u001b[0m\u001b[0;34m)\u001b[0m\u001b[0;34m\u001b[0m\u001b[0;34m\u001b[0m\u001b[0m\n\u001b[0m\u001b[1;32m   6759\u001b[0m \u001b[0;34m\u001b[0m\u001b[0m\n\u001b[1;32m   6760\u001b[0m             \u001b[0;31m# need to rewrap column in Series to apply key function\u001b[0m\u001b[0;34m\u001b[0m\u001b[0;34m\u001b[0m\u001b[0m\n\u001b[1;32m   6761\u001b[0m             \u001b[0;32mif\u001b[0m \u001b[0mkey\u001b[0m \u001b[0;32mis\u001b[0m \u001b[0;32mnot\u001b[0m \u001b[0;32mNone\u001b[0m\u001b[0;34m:\u001b[0m\u001b[0;34m\u001b[0m\u001b[0;34m\u001b[0m\u001b[0m\n",
      "\u001b[0;32m~/env/main/lib/python3.10/site-packages/pandas/core/generic.py\u001b[0m in \u001b[0;36m?\u001b[0;34m(self, key, axis)\u001b[0m\n\u001b[1;32m   1774\u001b[0m             \u001b[0mvalues\u001b[0m \u001b[0;34m=\u001b[0m \u001b[0mself\u001b[0m\u001b[0;34m.\u001b[0m\u001b[0mxs\u001b[0m\u001b[0;34m(\u001b[0m\u001b[0mkey\u001b[0m\u001b[0;34m,\u001b[0m \u001b[0maxis\u001b[0m\u001b[0;34m=\u001b[0m\u001b[0mother_axes\u001b[0m\u001b[0;34m[\u001b[0m\u001b[0;36m0\u001b[0m\u001b[0;34m]\u001b[0m\u001b[0;34m)\u001b[0m\u001b[0;34m.\u001b[0m\u001b[0m_values\u001b[0m\u001b[0;34m\u001b[0m\u001b[0;34m\u001b[0m\u001b[0m\n\u001b[1;32m   1775\u001b[0m         \u001b[0;32melif\u001b[0m \u001b[0mself\u001b[0m\u001b[0;34m.\u001b[0m\u001b[0m_is_level_reference\u001b[0m\u001b[0;34m(\u001b[0m\u001b[0mkey\u001b[0m\u001b[0;34m,\u001b[0m \u001b[0maxis\u001b[0m\u001b[0;34m=\u001b[0m\u001b[0maxis\u001b[0m\u001b[0;34m)\u001b[0m\u001b[0;34m:\u001b[0m\u001b[0;34m\u001b[0m\u001b[0;34m\u001b[0m\u001b[0m\n\u001b[1;32m   1776\u001b[0m             \u001b[0mvalues\u001b[0m \u001b[0;34m=\u001b[0m \u001b[0mself\u001b[0m\u001b[0;34m.\u001b[0m\u001b[0maxes\u001b[0m\u001b[0;34m[\u001b[0m\u001b[0maxis\u001b[0m\u001b[0;34m]\u001b[0m\u001b[0;34m.\u001b[0m\u001b[0mget_level_values\u001b[0m\u001b[0;34m(\u001b[0m\u001b[0mkey\u001b[0m\u001b[0;34m)\u001b[0m\u001b[0;34m.\u001b[0m\u001b[0m_values\u001b[0m\u001b[0;34m\u001b[0m\u001b[0;34m\u001b[0m\u001b[0m\n\u001b[1;32m   1777\u001b[0m         \u001b[0;32melse\u001b[0m\u001b[0;34m:\u001b[0m\u001b[0;34m\u001b[0m\u001b[0;34m\u001b[0m\u001b[0m\n\u001b[0;32m-> 1778\u001b[0;31m             \u001b[0;32mraise\u001b[0m \u001b[0mKeyError\u001b[0m\u001b[0;34m(\u001b[0m\u001b[0mkey\u001b[0m\u001b[0;34m)\u001b[0m\u001b[0;34m\u001b[0m\u001b[0;34m\u001b[0m\u001b[0m\n\u001b[0m\u001b[1;32m   1779\u001b[0m \u001b[0;34m\u001b[0m\u001b[0m\n\u001b[1;32m   1780\u001b[0m         \u001b[0;31m# Check for duplicates\u001b[0m\u001b[0;34m\u001b[0m\u001b[0;34m\u001b[0m\u001b[0m\n\u001b[1;32m   1781\u001b[0m         \u001b[0;32mif\u001b[0m \u001b[0mvalues\u001b[0m\u001b[0;34m.\u001b[0m\u001b[0mndim\u001b[0m \u001b[0;34m>\u001b[0m \u001b[0;36m1\u001b[0m\u001b[0;34m:\u001b[0m\u001b[0;34m\u001b[0m\u001b[0;34m\u001b[0m\u001b[0m\n",
      "\u001b[0;31mKeyError\u001b[0m: 0"
     ]
    }
   ],
   "source": [
    "for src in src_list:\n",
    "    pathway.initialize(src, butanol_KEGG, graph)\n",
    "    pathway.get_pathway()\n",
    "    pathway.print_pathway(with_reactions=False, to_bigg=False)    \n",
    "    print('--------------------------------------')    "
   ]
  },
  {
   "cell_type": "code",
   "execution_count": null,
   "metadata": {},
   "outputs": [],
   "source": [
    "# # intialize Pathway class instance\n",
    "# from pathway import Pathway\n",
    "\n",
    "# pathway.initialize(src_list[0], butanol_KEGG, graph)\n",
    "# print(pathway)\n",
    "\n",
    "# # get all possible paths\n",
    "# pathway.get_pathway()\n",
    "# pathway.print_pathway(with_reactions=True, to_bigg=True)"
   ]
  }
 ],
 "metadata": {
  "kernelspec": {
   "display_name": "Python 3 (ipykernel)",
   "language": "python",
   "name": "python3"
  },
  "language_info": {
   "codemirror_mode": {
    "name": "ipython",
    "version": 3
   },
   "file_extension": ".py",
   "mimetype": "text/x-python",
   "name": "python",
   "nbconvert_exporter": "python",
   "pygments_lexer": "ipython3",
   "version": "3.10.12"
  }
 },
 "nbformat": 4,
 "nbformat_minor": 2
}
