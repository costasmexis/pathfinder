{
 "cells": [
  {
   "cell_type": "code",
   "execution_count": 1,
   "metadata": {},
   "outputs": [
    {
     "name": "stdout",
     "output_type": "stream",
     "text": [
      "# nodes: 8591 \n",
      "# edges: 30026\n"
     ]
    },
    {
     "name": "stderr",
     "output_type": "stream",
     "text": [
      "100%|██████████| 8591/8591 [00:10<00:00, 858.00it/s] \n",
      "100%|██████████| 30026/30026 [00:00<00:00, 339716.96it/s]\n",
      "100%|██████████| 30026/30026 [00:45<00:00, 667.09it/s] \n"
     ]
    }
   ],
   "source": [
    "import pandas as pd\n",
    "import numpy as np\n",
    "import json\n",
    "import networkx as nx\n",
    "from tqdm import tqdm\n",
    "from compound import Compound\n",
    "from reaction import Reaction\n",
    "from graph import Graph\n",
    "from data import Data\n",
    "\n",
    "# suppres rdkit warnings\n",
    "import rdkit\n",
    "from rdkit import RDLogger\n",
    "RDLogger.DisableLog('rdApp.*')\n",
    "\n",
    "\n",
    "# read data from csv\n",
    "cpds = pd.read_csv('../GNN_toxic/data/raw/compounds_final.csv', index_col=0) # containing toxicity\n",
    "rxns = pd.read_csv('data/reactions_final.csv', index_col=0)\n",
    "pairs = pd.read_csv('data/pairs_final.csv', index_col=0)\n",
    "cofactors = pd.read_csv('data/original/cofactors_KEGG.csv')\n",
    "\n",
    "# create class instances\n",
    "data = Data()\n",
    "graph = Graph(pairs=pairs)\n",
    "\n",
    "# Create a Compound object for each row in the DataFrame and add it to the data\n",
    "for index, row in cpds.iterrows():\n",
    "    entry = row['Entry']\n",
    "    name = row['Names']\n",
    "    formula = row['Formula']\n",
    "    mw = row['mol_weight']\n",
    "    smiles = row['SMILES']\n",
    "    is_cofactor = row['Entry'] in cofactors['Entry'].values\n",
    "    is_toxic = row['toxic']\n",
    "\n",
    "    compound = Compound(entry, name, formula, mw, smiles, is_cofactor, is_toxic)\n",
    "    data.add_element('compound', compound)\n",
    "\n",
    "# Create a Reaction object for each row in the DataFrame and add it to the data\n",
    "for index, row in rxns.iterrows():\n",
    "    entry = row['Entry']\n",
    "    name = row['Names']\n",
    "    compounds = row['Compound']\n",
    "    enzyme = row['EC Number']\n",
    "\n",
    "    reaction = Reaction(entry, name, compounds, enzyme)\n",
    "    data.add_element('reaction', reaction)\n",
    "\n",
    "# CREATE GRAPH\n",
    "graph.create_graph(data=data, pairs=pairs)\n",
    "\n",
    "graph.calculate_edge_mol_weight(data)\n",
    "graph.calculate_smiles_similarity(data)"
   ]
  },
  {
   "cell_type": "code",
   "execution_count": 2,
   "metadata": {},
   "outputs": [
    {
     "data": {
      "text/html": [
       "<div>\n",
       "<style scoped>\n",
       "    .dataframe tbody tr th:only-of-type {\n",
       "        vertical-align: middle;\n",
       "    }\n",
       "\n",
       "    .dataframe tbody tr th {\n",
       "        vertical-align: top;\n",
       "    }\n",
       "\n",
       "    .dataframe thead th {\n",
       "        text-align: right;\n",
       "    }\n",
       "</style>\n",
       "<table border=\"1\" class=\"dataframe\">\n",
       "  <thead>\n",
       "    <tr style=\"text-align: right;\">\n",
       "      <th></th>\n",
       "      <th>source</th>\n",
       "      <th>source_name</th>\n",
       "    </tr>\n",
       "  </thead>\n",
       "  <tbody>\n",
       "    <tr>\n",
       "      <th>0</th>\n",
       "      <td>C00084</td>\n",
       "      <td>acald</td>\n",
       "    </tr>\n",
       "    <tr>\n",
       "      <th>1</th>\n",
       "      <td>C00024</td>\n",
       "      <td>accoa</td>\n",
       "    </tr>\n",
       "    <tr>\n",
       "      <th>2</th>\n",
       "      <td>C00074</td>\n",
       "      <td>pep</td>\n",
       "    </tr>\n",
       "  </tbody>\n",
       "</table>\n",
       "</div>"
      ],
      "text/plain": [
       "   source source_name\n",
       "0  C00084       acald\n",
       "1  C00024       accoa\n",
       "2  C00074         pep"
      ]
     },
     "execution_count": 2,
     "metadata": {},
     "output_type": "execute_result"
    }
   ],
   "source": [
    "butanol_KEGG = 'C06142'\n",
    "\n",
    "src_list_names = ['acald', 'accoa', 'pep', 'pyr', 'mal__D', 'mal__L', 'fum', 'succ', 'oaa', 'succoa', 'dhap', 'cit']\n",
    "src_list = ['C00084', 'C00024', 'C00074', 'C00022', 'C00497', 'C00149', 'C00122', 'C00042', 'C00036', 'C00091', 'C00111', 'C00158']\n",
    "\n",
    "''' Create dataframe with columns the two lists above'''\n",
    "src = pd.DataFrame({'source': src_list, 'source_name': src_list_names})\n",
    "src.head(3)"
   ]
  },
  {
   "cell_type": "code",
   "execution_count": 3,
   "metadata": {},
   "outputs": [
    {
     "name": "stdout",
     "output_type": "stream",
     "text": [
      "['C00084', 'C00024', 'C00136', 'C01412', 'C06142']\n",
      "['C00024', 'C00136', 'C01412', 'C06142']\n",
      "***** No path found between C00074 and C06142 *****\n",
      "['C00074', 'C00111', 'C20960', 'C00024', 'C00136', 'C01412', 'C06142']\n",
      "['C00022', 'C00024', 'C00136', 'C01412', 'C06142']\n",
      "***** No path found between C00497 and C06142 *****\n",
      "['C00497', 'C20747', 'C00091', 'C00332', 'C00136', 'C01412', 'C06142']\n",
      "['C00149', 'C00024', 'C00136', 'C01412', 'C06142']\n",
      "['C00122', 'C00149', 'C00024', 'C00136', 'C01412', 'C06142']\n",
      "['C00042', 'C00149', 'C00024', 'C00136', 'C01412', 'C06142']\n",
      "['C00036', 'C00083', 'C00332', 'C00136', 'C01412', 'C06142']\n",
      "['C00091', 'C00332', 'C00136', 'C01412', 'C06142']\n",
      "***** No path found between C00111 and C06142 *****\n",
      "['C00111', 'C20960', 'C00024', 'C00136', 'C01412', 'C06142']\n",
      "['C00158', 'C00024', 'C00136', 'C01412', 'C06142']\n"
     ]
    }
   ],
   "source": [
    "for s in src['source']:\n",
    "    path, idx_smi, idx_com = graph.constrained_shortest_path(s, butanol_KEGG, weight='mol_weight')\n",
    "    \n",
    "    try: print(path[idx_smi])\n",
    "    except TypeError: pass"
   ]
  },
  {
   "cell_type": "code",
   "execution_count": null,
   "metadata": {},
   "outputs": [],
   "source": []
  }
 ],
 "metadata": {
  "kernelspec": {
   "display_name": "Python 3 (ipykernel)",
   "language": "python",
   "name": "python3"
  },
  "language_info": {
   "codemirror_mode": {
    "name": "ipython",
    "version": 3
   },
   "file_extension": ".py",
   "mimetype": "text/x-python",
   "name": "python",
   "nbconvert_exporter": "python",
   "pygments_lexer": "ipython3",
   "version": "3.9.10"
  }
 },
 "nbformat": 4,
 "nbformat_minor": 2
}
