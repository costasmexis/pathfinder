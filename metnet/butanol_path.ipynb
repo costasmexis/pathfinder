{
 "cells": [
  {
   "cell_type": "markdown",
   "metadata": {},
   "source": [
    "#### Create metabolic network as `networkx` graph"
   ]
  },
  {
   "cell_type": "code",
   "execution_count": 1,
   "metadata": {},
   "outputs": [
    {
     "name": "stdout",
     "output_type": "stream",
     "text": [
      "# nodes: 8591 \n",
      "# edges: 30026\n"
     ]
    },
    {
     "name": "stderr",
     "output_type": "stream",
     "text": [
      "100%|██████████| 8591/8591 [00:08<00:00, 1038.65it/s]\n",
      "100%|██████████| 30026/30026 [00:00<00:00, 493937.17it/s]\n",
      "100%|██████████| 30026/30026 [00:40<00:00, 737.93it/s] \n"
     ]
    }
   ],
   "source": [
    "import pandas as pd\n",
    "import numpy as np\n",
    "import json\n",
    "import networkx as nx\n",
    "from tqdm import tqdm\n",
    "from compound import Compound\n",
    "from reaction import Reaction\n",
    "from graph import Graph\n",
    "from data import Data\n",
    "\n",
    "# suppres rdkit warnings\n",
    "import rdkit\n",
    "from rdkit import RDLogger\n",
    "RDLogger.DisableLog('rdApp.*')\n",
    "\n",
    "\n",
    "# read data from csv\n",
    "cpds = pd.read_csv('../GNN_toxic/data/raw/compounds_final.csv', index_col=0) # containing toxicity\n",
    "rxns = pd.read_csv('data/reactions_final.csv', index_col=0)\n",
    "pairs = pd.read_csv('data/pairs_final.csv', index_col=0)\n",
    "cofactors = pd.read_csv('data/original/cofactors_KEGG.csv')\n",
    "\n",
    "# create class instances\n",
    "data = Data()\n",
    "graph = Graph(pairs=pairs)\n",
    "\n",
    "# Create a Compound object for each row in the DataFrame and add it to the data\n",
    "for index, row in cpds.iterrows():\n",
    "    entry = row['Entry']\n",
    "    name = row['Names']\n",
    "    formula = row['Formula']\n",
    "    mw = row['mol_weight']\n",
    "    smiles = row['SMILES']\n",
    "    is_cofactor = row['Entry'] in cofactors['Entry'].values\n",
    "    is_toxic = row['toxic']\n",
    "\n",
    "    compound = Compound(entry, name, formula, mw, smiles, is_cofactor, is_toxic)\n",
    "    data.add_element('compound', compound)\n",
    "\n",
    "# Create a Reaction object for each row in the DataFrame and add it to the data\n",
    "for index, row in rxns.iterrows():\n",
    "    entry = row['Entry']\n",
    "    name = row['Names']\n",
    "    compounds = row['Compound']\n",
    "    enzyme = row['EC Number']\n",
    "\n",
    "    reaction = Reaction(entry, name, compounds, enzyme)\n",
    "    data.add_element('reaction', reaction)\n",
    "\n",
    "# CREATE GRAPH\n",
    "graph.create_graph(data=data, pairs=pairs)\n",
    "\n",
    "graph.calculate_edge_mol_weight(data)\n",
    "graph.calculate_smiles_similarity(data)"
   ]
  },
  {
   "cell_type": "markdown",
   "metadata": {},
   "source": [
    "#### Get KEGG and BIGG names of source and target"
   ]
  },
  {
   "cell_type": "code",
   "execution_count": 2,
   "metadata": {},
   "outputs": [],
   "source": [
    "butanol_KEGG = 'C06142'\n",
    "butanol_BIGG = graph.kegg_to_bigg_compound(butanol_KEGG)\n",
    "\n",
    "src_list = ['C00084', 'C00024', 'C00074', 'C00022', 'C00497', 'C00149', 'C00122', 'C00042', 'C00036', 'C00091', 'C00111', 'C00158']\n",
    "\n",
    "''' Create dataframe with columns the two lists above'''\n",
    "src = pd.DataFrame({'source': src_list})\n",
    "src['bigg'] = src['source'].apply(lambda x: graph.kegg_to_bigg_compound(x))"
   ]
  },
  {
   "cell_type": "markdown",
   "metadata": {},
   "source": [
    "#### Get pathway from every source to target"
   ]
  },
  {
   "cell_type": "code",
   "execution_count": 3,
   "metadata": {},
   "outputs": [
    {
     "name": "stdout",
     "output_type": "stream",
     "text": [
      "0 Starting from: C00084 ['C00084', 'C00024', 'C00136', 'C01412', 'C06142']\n",
      "------------------\n",
      "1 Starting from: C00024 ['C00024', 'C00136', 'C01412', 'C06142']\n",
      "------------------\n",
      "2 Starting from: C00074 ['C00074', 'C00111', 'C20960', 'C00024', 'C00136', 'C01412', 'C06142']\n",
      "------------------\n",
      "3 Starting from: C00022 ['C00022', 'C00024', 'C00136', 'C01412', 'C06142']\n",
      "------------------\n",
      "4 Starting from: C00497 ['C00497', 'C20747', 'C00091', 'C00332', 'C00136', 'C01412', 'C06142']\n",
      "------------------\n",
      "5 Starting from: C00149 ['C00149', 'C00024', 'C00136', 'C01412', 'C06142']\n",
      "------------------\n",
      "6 Starting from: C00122 ['C00122', 'C00149', 'C00024', 'C00136', 'C01412', 'C06142']\n",
      "------------------\n",
      "7 Starting from: C00042 ['C00042', 'C00149', 'C00024', 'C00136', 'C01412', 'C06142']\n",
      "------------------\n",
      "8 Starting from: C00036 ['C00036', 'C00083', 'C00332', 'C00136', 'C01412', 'C06142']\n",
      "------------------\n",
      "9 Starting from: C00091 ['C00091', 'C00332', 'C00136', 'C01412', 'C06142']\n",
      "------------------\n",
      "10 Starting from: C00111 ['C00111', 'C20960', 'C00024', 'C00136', 'C01412', 'C06142']\n",
      "------------------\n",
      "11 Starting from: C00158 ['C00158', 'C00024', 'C00136', 'C01412', 'C06142']\n",
      "------------------\n"
     ]
    }
   ],
   "source": [
    "pathways = []\n",
    "for index, row in src.iterrows():\n",
    "  \n",
    "    # get the shortest path between the source and the target\n",
    "    pred_path, idx_smi, idx_com = graph.constrained_shortest_path(row['source'], butanol_KEGG, \n",
    "                                                                  weight='mol_weight')\n",
    "    print(index, 'Starting from:', row['source'], pred_path[idx_smi])\n",
    "    pathways.append(pred_path[idx_smi])\n",
    "    print('------------------')"
   ]
  },
  {
   "cell_type": "markdown",
   "metadata": {},
   "source": [
    "#### Add the pathways to the `src` dataframe"
   ]
  },
  {
   "cell_type": "code",
   "execution_count": 4,
   "metadata": {},
   "outputs": [
    {
     "data": {
      "text/html": [
       "<div>\n",
       "<style scoped>\n",
       "    .dataframe tbody tr th:only-of-type {\n",
       "        vertical-align: middle;\n",
       "    }\n",
       "\n",
       "    .dataframe tbody tr th {\n",
       "        vertical-align: top;\n",
       "    }\n",
       "\n",
       "    .dataframe thead th {\n",
       "        text-align: right;\n",
       "    }\n",
       "</style>\n",
       "<table border=\"1\" class=\"dataframe\">\n",
       "  <thead>\n",
       "    <tr style=\"text-align: right;\">\n",
       "      <th></th>\n",
       "      <th>source</th>\n",
       "      <th>bigg</th>\n",
       "      <th>pathway</th>\n",
       "    </tr>\n",
       "  </thead>\n",
       "  <tbody>\n",
       "    <tr>\n",
       "      <th>0</th>\n",
       "      <td>C00084</td>\n",
       "      <td>acald</td>\n",
       "      <td>[C00084, C00024, C00136, C01412, C06142]</td>\n",
       "    </tr>\n",
       "    <tr>\n",
       "      <th>1</th>\n",
       "      <td>C00024</td>\n",
       "      <td>accoa</td>\n",
       "      <td>[C00024, C00136, C01412, C06142]</td>\n",
       "    </tr>\n",
       "    <tr>\n",
       "      <th>2</th>\n",
       "      <td>C00074</td>\n",
       "      <td>pep</td>\n",
       "      <td>[C00074, C00111, C20960, C00024, C00136, C0141...</td>\n",
       "    </tr>\n",
       "  </tbody>\n",
       "</table>\n",
       "</div>"
      ],
      "text/plain": [
       "   source   bigg                                            pathway\n",
       "0  C00084  acald           [C00084, C00024, C00136, C01412, C06142]\n",
       "1  C00024  accoa                   [C00024, C00136, C01412, C06142]\n",
       "2  C00074    pep  [C00074, C00111, C20960, C00024, C00136, C0141..."
      ]
     },
     "execution_count": 4,
     "metadata": {},
     "output_type": "execute_result"
    }
   ],
   "source": [
    "src['pathway'] = pathways\n",
    "src.head(3)"
   ]
  },
  {
   "cell_type": "code",
   "execution_count": 20,
   "metadata": {},
   "outputs": [],
   "source": [
    "reactions = []\n",
    "for index, row in src.iterrows():\n",
    "    rxn = []\n",
    "    # iterate through pairs of compounds in the pathway\n",
    "    for cpd in range(len(row['pathway'])-1):\n",
    "        cpd_a = row['pathway'][cpd]\n",
    "        cpd_b = row['pathway'][cpd+1]\n",
    "\n",
    "        # get the reaction between the two compounds\n",
    "        rxn.append(graph.get_reaction_by_compounds(cpd_a, cpd_b))\n",
    "    reactions.append(rxn)"
   ]
  },
  {
   "cell_type": "code",
   "execution_count": 25,
   "metadata": {},
   "outputs": [],
   "source": [
    "''' list of arrays to list of lists '''\n",
    "def list_of_arrays_to_list_of_lists(list_of_arrays):\n",
    "    return [list(array) for array in list_of_arrays]\n",
    "\n",
    "''' apply function to every element of reactions '''\n",
    "reactions = list(map(list_of_arrays_to_list_of_lists, reactions))"
   ]
  },
  {
   "cell_type": "markdown",
   "metadata": {},
   "source": [
    "#### Add the reactions to the `src` dataframe"
   ]
  },
  {
   "cell_type": "code",
   "execution_count": 26,
   "metadata": {},
   "outputs": [
    {
     "data": {
      "text/html": [
       "<div>\n",
       "<style scoped>\n",
       "    .dataframe tbody tr th:only-of-type {\n",
       "        vertical-align: middle;\n",
       "    }\n",
       "\n",
       "    .dataframe tbody tr th {\n",
       "        vertical-align: top;\n",
       "    }\n",
       "\n",
       "    .dataframe thead th {\n",
       "        text-align: right;\n",
       "    }\n",
       "</style>\n",
       "<table border=\"1\" class=\"dataframe\">\n",
       "  <thead>\n",
       "    <tr style=\"text-align: right;\">\n",
       "      <th></th>\n",
       "      <th>source</th>\n",
       "      <th>bigg</th>\n",
       "      <th>pathway</th>\n",
       "      <th>reactions</th>\n",
       "    </tr>\n",
       "  </thead>\n",
       "  <tbody>\n",
       "    <tr>\n",
       "      <th>0</th>\n",
       "      <td>C00084</td>\n",
       "      <td>acald</td>\n",
       "      <td>[C00084, C00024, C00136, C01412, C06142]</td>\n",
       "      <td>[[R00228], [R01179], [R01172, R01173], [R03544...</td>\n",
       "    </tr>\n",
       "    <tr>\n",
       "      <th>1</th>\n",
       "      <td>C00024</td>\n",
       "      <td>accoa</td>\n",
       "      <td>[C00024, C00136, C01412, C06142]</td>\n",
       "      <td>[[R01179], [R01172, R01173], [R03544, R03545]]</td>\n",
       "    </tr>\n",
       "    <tr>\n",
       "      <th>2</th>\n",
       "      <td>C00074</td>\n",
       "      <td>pep</td>\n",
       "      <td>[C00074, C00111, C20960, C00024, C00136, C0141...</td>\n",
       "      <td>[[R01012], [R11182], [R11182], [R01179], [R011...</td>\n",
       "    </tr>\n",
       "  </tbody>\n",
       "</table>\n",
       "</div>"
      ],
      "text/plain": [
       "   source   bigg                                            pathway  \\\n",
       "0  C00084  acald           [C00084, C00024, C00136, C01412, C06142]   \n",
       "1  C00024  accoa                   [C00024, C00136, C01412, C06142]   \n",
       "2  C00074    pep  [C00074, C00111, C20960, C00024, C00136, C0141...   \n",
       "\n",
       "                                           reactions  \n",
       "0  [[R00228], [R01179], [R01172, R01173], [R03544...  \n",
       "1     [[R01179], [R01172, R01173], [R03544, R03545]]  \n",
       "2  [[R01012], [R11182], [R11182], [R01179], [R011...  "
      ]
     },
     "execution_count": 26,
     "metadata": {},
     "output_type": "execute_result"
    }
   ],
   "source": [
    "src['reactions'] = reactions\n",
    "src.head(3)"
   ]
  },
  {
   "cell_type": "markdown",
   "metadata": {},
   "source": [
    "#### From KEGG to BIGG "
   ]
  },
  {
   "cell_type": "code",
   "execution_count": 31,
   "metadata": {},
   "outputs": [
    {
     "name": "stdout",
     "output_type": "stream",
     "text": [
      "['C00084', 'C00024', 'C00136', 'C01412', 'C06142']\n",
      "[['R00228'], ['R01179'], ['R01172', 'R01173'], ['R03544', 'R03545']]\n",
      "------------------\n"
     ]
    }
   ],
   "source": [
    "for path, rxn in zip(src['pathway'], src['reactions']):\n",
    "    print(path)\n",
    "    print(rxn)\n",
    "    print('------------------')\n",
    "    break"
   ]
  }
 ],
 "metadata": {
  "kernelspec": {
   "display_name": "Python 3 (ipykernel)",
   "language": "python",
   "name": "python3"
  },
  "language_info": {
   "codemirror_mode": {
    "name": "ipython",
    "version": 3
   },
   "file_extension": ".py",
   "mimetype": "text/x-python",
   "name": "python",
   "nbconvert_exporter": "python",
   "pygments_lexer": "ipython3",
   "version": "3.9.10"
  }
 },
 "nbformat": 4,
 "nbformat_minor": 2
}
