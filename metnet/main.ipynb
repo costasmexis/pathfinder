{
 "cells": [
  {
   "cell_type": "markdown",
   "metadata": {},
   "source": [
    "### Main notebook"
   ]
  },
  {
   "cell_type": "code",
   "execution_count": 1,
   "metadata": {},
   "outputs": [],
   "source": [
    "import pandas as pd\n",
    "import numpy as np\n",
    "import json\n",
    "import networkx as nx\n",
    "from tqdm import tqdm\n",
    "from compound import Compound\n",
    "from reaction import Reaction\n",
    "from graph import Graph\n",
    "from data import Data\n",
    "\n",
    "# read data from csv\n",
    "cpds = pd.read_csv('../GNN_toxic/data/raw/compounds_final.csv', index_col=0) # containing toxicity\n",
    "rxns = pd.read_csv('data/reactions_final.csv', index_col=0)\n",
    "pairs = pd.read_csv('data/pairs_final.csv', index_col=0)\n",
    "cofactors = pd.read_csv('data/original/cofactors_KEGG.csv')\n",
    "\n",
    "# create class instances\n",
    "data = Data()\n",
    "graph = Graph(pairs=pairs)"
   ]
  },
  {
   "cell_type": "code",
   "execution_count": 2,
   "metadata": {},
   "outputs": [],
   "source": [
    "# Create a Compound object for each row in the DataFrame and add it to the data\n",
    "for index, row in cpds.iterrows():\n",
    "    entry = row['Entry']\n",
    "    name = row['Names']\n",
    "    formula = row['Formula']\n",
    "    mw = row['mol_weight']\n",
    "    smiles = row['SMILES']\n",
    "    is_cofactor = row['Entry'] in cofactors['Entry'].values\n",
    "    is_toxic = row['toxic']\n",
    "\n",
    "    compound = Compound(entry, name, formula, mw, smiles, is_cofactor, is_toxic)\n",
    "    data.add_element('compound', compound)\n",
    "\n",
    "# Create a Reaction object for each row in the DataFrame and add it to the data\n",
    "for index, row in rxns.iterrows():\n",
    "    entry = row['Entry']\n",
    "    name = row['Names']\n",
    "    compounds = row['Compound']\n",
    "    enzyme = row['EC Number']\n",
    "\n",
    "    reaction = Reaction(entry, name, compounds, enzyme)\n",
    "    data.add_element('reaction', reaction)"
   ]
  },
  {
   "cell_type": "code",
   "execution_count": 3,
   "metadata": {},
   "outputs": [
    {
     "name": "stdout",
     "output_type": "stream",
     "text": [
      "# nodes: 8591 \n",
      "# edges: 30026\n"
     ]
    },
    {
     "name": "stderr",
     "output_type": "stream",
     "text": [
      "100%|██████████| 8591/8591 [00:00<00:00, 431303.68it/s]\n"
     ]
    }
   ],
   "source": [
    "# number of times a metabolite apperas on pairs dataset\n",
    "graph.get_number_of_occurences(pairs)\n",
    "graph.create_graph(data=data, pairs=pairs)"
   ]
  },
  {
   "cell_type": "code",
   "execution_count": 4,
   "metadata": {},
   "outputs": [
    {
     "name": "stderr",
     "output_type": "stream",
     "text": [
      "100%|██████████| 30026/30026 [00:00<00:00, 383692.30it/s]\n"
     ]
    }
   ],
   "source": [
    "graph.calculate_edge_mol_weight(data)\n",
    "# graph.calculate_smiles_similarity(data)"
   ]
  },
  {
   "cell_type": "code",
   "execution_count": 5,
   "metadata": {},
   "outputs": [
    {
     "name": "stdout",
     "output_type": "stream",
     "text": [
      "Correct pathway predictions: 14\n",
      "Correct pathway predictions (%): 28.0\n"
     ]
    }
   ],
   "source": [
    "######### VALIDATION SET FROM nicepath ###########\n",
    "test_cases = pd.read_csv('data/original/test_cases.csv')\n",
    "test_cases['source'] = test_cases['Pathway '].apply(lambda x: x.split(',')[0])\n",
    "test_cases['target'] = test_cases['Pathway '].apply(lambda x: x.split(',')[len(x.split(','))-1])\n",
    "test_cases['paths_list'] = test_cases['Pathway '].apply(lambda x: x.split(','))\n",
    "paths = graph.validate(test_cases, 'mol_weight')"
   ]
  },
  {
   "cell_type": "code",
   "execution_count": 8,
   "metadata": {},
   "outputs": [
    {
     "name": "stdout",
     "output_type": "stream",
     "text": [
      "['C00082', 'C00822', 'C00355', 'C10447', 'C01197', 'C01494', 'C05619', 'C00482', 'C05610', 'C02325', 'C01533']\n",
      "['C00082', 'C00811', 'C16828', 'C01197', 'C01494', 'C05619', 'C00482', 'C05610', 'C02325', 'C01533']\n",
      "['C00082', 'C00822', 'C00355', 'C04045', 'C22038', 'C10447', 'C01197', 'C01494', 'C05619', 'C00482', 'C05610', 'C02325', 'C01533']\n",
      "['C00082', 'C00822', 'C01693', 'C05604', 'C00355', 'C10447', 'C01197', 'C01494', 'C05619', 'C00482', 'C05610', 'C02325', 'C01533']\n"
     ]
    }
   ],
   "source": [
    "p = graph.constrained_shortest_path('C00082', 'C01533', weight='mol_weight')\n",
    "for i in p: print(i)"
   ]
  },
  {
   "cell_type": "code",
   "execution_count": 7,
   "metadata": {},
   "outputs": [
    {
     "ename": "ZeroDivisionError",
     "evalue": "division by zero",
     "output_type": "error",
     "traceback": [
      "\u001b[0;31m---------------------------------------------------------------------------\u001b[0m",
      "\u001b[0;31mZeroDivisionError\u001b[0m                         Traceback (most recent call last)",
      "Cell \u001b[0;32mIn[7], line 1\u001b[0m\n\u001b[0;32m----> 1\u001b[0m \u001b[39m1\u001b[39;49m\u001b[39m/\u001b[39;49m\u001b[39m0\u001b[39;49m\n",
      "\u001b[0;31mZeroDivisionError\u001b[0m: division by zero"
     ]
    }
   ],
   "source": [
    "1/0"
   ]
  },
  {
   "cell_type": "code",
   "execution_count": null,
   "metadata": {},
   "outputs": [],
   "source": [
    "p = graph.constrained_shortest_path('C00082', 'C01533', weight='mol_weigh')\n",
    "p"
   ]
  },
  {
   "cell_type": "code",
   "execution_count": 9,
   "metadata": {},
   "outputs": [
    {
     "name": "stdout",
     "output_type": "stream",
     "text": [
      "False\n",
      "True\n",
      "False\n",
      "False\n",
      "True\n",
      "False\n",
      "True\n",
      "False\n",
      "True\n",
      "False\n"
     ]
    }
   ],
   "source": [
    "from itertools import chain\n",
    "\n",
    "def has_duplicates(lst):\n",
    "    return len(lst) != len(set(lst))\n",
    "\n",
    "p = graph.shortest_simple_paths('C00082', 'C01533', weight='mol_weight')\n",
    "\n",
    "smiles_sim = []\n",
    "\n",
    "for j in p:\n",
    "    rxns_list = []\n",
    "    sum = 0\n",
    "    compound_list = j\n",
    "    for i in range(len(compound_list) - 1):\n",
    "        current_compound = compound_list[i]\n",
    "        next_compound = compound_list[i + 1]\n",
    "        # sum = sum + graph.G.edges()[current_compound, next_compound]['smiles_similarity']\n",
    "        # if graph.G.edges()[current_compound, next_compound]['smiles_similarity'] == 0:\n",
    "        #     sum = sum + graph.G.edges()[next_compound, current_compound]['smiles_similarity']\n",
    "        rxns_list.append(pairs[(pairs['source']==current_compound) & (pairs['target']==next_compound)]['Reaction'].values)\n",
    "        rxns_list.append(pairs[(pairs['source']==next_compound) & (pairs['target']==current_compound)]['Reaction'].values)\n",
    "\n",
    "    smiles_sim.append(sum)\n",
    "    rxns_list = [arr for arr in rxns_list if arr.any()]\n",
    "    rxns_list = list(chain.from_iterable(rxns_list))\n",
    "    has_duplicate = has_duplicates(rxns_list)\n",
    "    print(has_duplicate)"
   ]
  },
  {
   "cell_type": "code",
   "execution_count": null,
   "metadata": {},
   "outputs": [],
   "source": [
    "p"
   ]
  },
  {
   "cell_type": "code",
   "execution_count": null,
   "metadata": {},
   "outputs": [],
   "source": [
    "idx = smiles_sim.index(min(smiles_sim))\n",
    "\n",
    "print(idx)"
   ]
  },
  {
   "cell_type": "code",
   "execution_count": null,
   "metadata": {},
   "outputs": [],
   "source": [
    "from itertools import islice\n",
    "\n",
    "next(islice(p, idx, None))"
   ]
  },
  {
   "cell_type": "code",
   "execution_count": null,
   "metadata": {},
   "outputs": [],
   "source": []
  },
  {
   "cell_type": "code",
   "execution_count": null,
   "metadata": {},
   "outputs": [],
   "source": [
    "test_cases['Pathway '].iloc[0]"
   ]
  },
  {
   "cell_type": "code",
   "execution_count": null,
   "metadata": {},
   "outputs": [],
   "source": [
    "paths.iloc[0]['Pathway']"
   ]
  },
  {
   "cell_type": "code",
   "execution_count": null,
   "metadata": {},
   "outputs": [],
   "source": [
    "1/0"
   ]
  },
  {
   "cell_type": "code",
   "execution_count": null,
   "metadata": {},
   "outputs": [],
   "source": [
    "for i in graph.shortest_simple_paths('C00082', 'C01533', length=10, weight='mol_weight'):\n",
    "    print(i)"
   ]
  },
  {
   "cell_type": "code",
   "execution_count": null,
   "metadata": {},
   "outputs": [],
   "source": [
    "test_cases"
   ]
  },
  {
   "cell_type": "code",
   "execution_count": null,
   "metadata": {},
   "outputs": [],
   "source": []
  },
  {
   "cell_type": "markdown",
   "metadata": {},
   "source": [
    "### Try cluster graph nodes"
   ]
  },
  {
   "cell_type": "markdown",
   "metadata": {},
   "source": [
    "### Try similarity based on SMILES"
   ]
  },
  {
   "cell_type": "code",
   "execution_count": null,
   "metadata": {},
   "outputs": [],
   "source": [
    "smiles1 = data.get_compound_by_id('C00223').smiles\n",
    "smiles2 = data.get_compound_by_id('C00323').smiles\n",
    "\n",
    "from rdkit import Chem\n",
    "from rdkit import DataStructs\n",
    "\n",
    "ms = [Chem.MolFromSmiles(smiles1), Chem.MolFromSmiles(smiles2)]\n",
    "fs = [Chem.RDKFingerprint(x) for x in ms]\n",
    "s = DataStructs.FingerprintSimilarity(fs[0], fs[1])\n",
    "print('Similarity: '+str(s))\n",
    "\n",
    "\n",
    "smiles1 = data.get_compound_by_id('C00223').smiles\n",
    "smiles2 = data.get_compound_by_id('C12096').smiles\n",
    "\n",
    "from rdkit import Chem\n",
    "from rdkit import DataStructs\n",
    "\n",
    "ms = [Chem.MolFromSmiles(smiles1), Chem.MolFromSmiles(smiles2)]\n",
    "fs = [Chem.RDKFingerprint(x) for x in ms]\n",
    "s = DataStructs.FingerprintSimilarity(fs[0], fs[1])\n",
    "print('Similarity: '+str(s))"
   ]
  }
 ],
 "metadata": {
  "kernelspec": {
   "display_name": "Python 3 (ipykernel)",
   "language": "python",
   "name": "python3"
  },
  "language_info": {
   "codemirror_mode": {
    "name": "ipython",
    "version": 3
   },
   "file_extension": ".py",
   "mimetype": "text/x-python",
   "name": "python",
   "nbconvert_exporter": "python",
   "pygments_lexer": "ipython3",
   "version": "3.9.10"
  }
 },
 "nbformat": 4,
 "nbformat_minor": 2
}
