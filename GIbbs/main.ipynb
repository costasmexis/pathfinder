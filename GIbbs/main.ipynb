{
 "cells": [
  {
   "cell_type": "code",
   "execution_count": 27,
   "metadata": {},
   "outputs": [],
   "source": [
    "from equilibrator_api import ComponentContribution, Q_\n",
    "cc = ComponentContribution()\n",
    "\n",
    "cc.p_h = Q_(7)\n",
    "# cc.p_mg = Q_(2.5)\n",
    "cc.ionic_strength = Q_(\"0.25M\")\n",
    "cc.temperature = Q_(\"310.15K\")"
   ]
  },
  {
   "cell_type": "code",
   "execution_count": 24,
   "metadata": {},
   "outputs": [
    {
     "name": "stdout",
     "output_type": "stream",
     "text": [
      "-479.11103896837875\n"
     ]
    }
   ],
   "source": [
    "# Define reaction: C03015 + C00001 <=> C00022 + 2 C00014 + C00011\n",
    "reaction = cc.parse_reaction_formula(\"kegg:C03015 + kegg:C00001 = kegg:C00022 + kegg:C00014 + kegg:C00011\")\n",
    "reaction.is_balanced()\n",
    "\n",
    "# Calculate the standard Gibbs energy of reaction\n",
    "standard_dg_prime = cc.standard_dg_prime(reaction)\n",
    "print(standard_dg_prime.value.magnitude)"
   ]
  },
  {
   "cell_type": "code",
   "execution_count": 30,
   "metadata": {},
   "outputs": [
    {
     "name": "stdout",
     "output_type": "stream",
     "text": [
      "-29.64175327394397\n"
     ]
    }
   ],
   "source": [
    "atpase_reaction = cc.parse_reaction_formula(\n",
    "    \"bigg.metabolite:atp + bigg.metabolite:h2o = \"\n",
    "    \"bigg.metabolite:adp + bigg.metabolite:pi\"\n",
    ")\n",
    "\n",
    "# Calculate the standard Gibbs energy of reaction\n",
    "standard_dg_prime = cc.standard_dg_prime(atpase_reaction)\n",
    "print(standard_dg_prime.value.magnitude)"
   ]
  },
  {
   "cell_type": "code",
   "execution_count": 37,
   "metadata": {},
   "outputs": [
    {
     "data": {
      "text/html": [
       "\n",
       "        <table>\n",
       "            <tr>\n",
       "                <td><strong>Name</strong></td>\n",
       "                <td>iJO1366</td>\n",
       "            </tr><tr>\n",
       "                <td><strong>Memory address</strong></td>\n",
       "                <td>1379aa2c250</td>\n",
       "            </tr><tr>\n",
       "                <td><strong>Number of metabolites</strong></td>\n",
       "                <td>1805</td>\n",
       "            </tr><tr>\n",
       "                <td><strong>Number of reactions</strong></td>\n",
       "                <td>2583</td>\n",
       "            </tr><tr>\n",
       "                <td><strong>Number of genes</strong></td>\n",
       "                <td>1367</td>\n",
       "            </tr><tr>\n",
       "                <td><strong>Number of groups</strong></td>\n",
       "                <td>37</td>\n",
       "            </tr><tr>\n",
       "                <td><strong>Objective expression</strong></td>\n",
       "                <td>1.0*BIOMASS_Ec_iJO1366_core_53p95M - 1.0*BIOMASS_Ec_iJO1366_core_53p95M_reverse_5c8b1</td>\n",
       "            </tr><tr>\n",
       "                <td><strong>Compartments</strong></td>\n",
       "                <td>cytosol, extracellular space, periplasm</td>\n",
       "            </tr>\n",
       "          </table>"
      ],
      "text/plain": [
       "<Model iJO1366 at 0x1379aa2c250>"
      ]
     },
     "execution_count": 37,
     "metadata": {},
     "output_type": "execute_result"
    }
   ],
   "source": [
    "import cobra\n",
    "model = cobra.io.load_model(\"iJO1366\")\n",
    "model"
   ]
  }
 ],
 "metadata": {
  "kernelspec": {
   "display_name": "main",
   "language": "python",
   "name": "python3"
  },
  "language_info": {
   "codemirror_mode": {
    "name": "ipython",
    "version": 3
   },
   "file_extension": ".py",
   "mimetype": "text/x-python",
   "name": "python",
   "nbconvert_exporter": "python",
   "pygments_lexer": "ipython3",
   "version": "3.11.2"
  },
  "orig_nbformat": 4
 },
 "nbformat": 4,
 "nbformat_minor": 2
}
