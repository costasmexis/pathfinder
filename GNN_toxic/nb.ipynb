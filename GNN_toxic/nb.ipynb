{
 "cells": [
  {
   "cell_type": "code",
   "execution_count": 12,
   "metadata": {},
   "outputs": [],
   "source": [
    "import pandas as pd\n",
    "import numpy as np\n",
    "from tqdm import tqdm\n",
    "import os\n",
    "\n",
    "df = pd.read_csv('./data/raw/compounds_final.csv', index_col=0)\n",
    "df.head(1)\n",
    "\n",
    "data = pd.DataFrame(df['SMILES'])\n",
    "data.rename(columns={'SMILES': 'smiles'}, inplace=True)\n",
    "data['label'] = np.nan\n",
    "data.head()\n",
    "\n",
    "# check if dir exists and create if not\n",
    "if not os.path.exists('./data/kegg_data/raw'):\n",
    "    os.makedirs('./data/kegg_data/raw')\n",
    "\n",
    "if not os.path.exists('./data/kegg_data/processed'):\n",
    "    os.makedirs('./data/kegg_data/processed')\n",
    "\n",
    "# save data to csv\n",
    "data.to_csv('./data/kegg_data/raw/data.csv', index=False)"
   ]
  },
  {
   "cell_type": "code",
   "execution_count": 13,
   "metadata": {},
   "outputs": [
    {
     "name": "stdout",
     "output_type": "stream",
     "text": [
      "Length of dataset: 8591\n"
     ]
    }
   ],
   "source": [
    "from dataset import MoleculeDataset\n",
    "\n",
    "kegg_dataset = MoleculeDataset(root='./data/kegg_data/', filename='data.csv', test=True)\n",
    "print(f'Length of dataset: {len(kegg_dataset)}')"
   ]
  },
  {
   "cell_type": "code",
   "execution_count": 14,
   "metadata": {},
   "outputs": [
    {
     "name": "stderr",
     "output_type": "stream",
     "text": [
      "  0%|          | 0/8591 [00:00<?, ?it/s]/home/WUR/g0012069/env/main/lib/python3.10/site-packages/torch_geometric/utils/scatter.py:93: UserWarning: The usage of `scatter(reduce='max')` can be accelerated via the 'torch-scatter' package, but it was not found\n",
      "  warnings.warn(f\"The usage of `scatter(reduce='{reduce}')` \"\n",
      "  0%|          | 37/8591 [00:00<01:09, 122.42it/s]"
     ]
    },
    {
     "name": "stderr",
     "output_type": "stream",
     "text": [
      "100%|██████████| 8591/8591 [00:46<00:00, 186.17it/s]\n"
     ]
    }
   ],
   "source": [
    "from train import load_torch_model, predict\n",
    "\n",
    "model = load_torch_model(feature_size=kegg_dataset[0].x.shape[1])\n",
    "\n",
    "y = []\n",
    "for i in tqdm(range(len(kegg_dataset))):\n",
    "        \n",
    "    y_true, y_pred = predict(model, kegg_dataset[i])\n",
    "    y.append(y_pred[0])\n",
    "\n",
    "df['toxic'] = y"
   ]
  },
  {
   "cell_type": "code",
   "execution_count": 18,
   "metadata": {},
   "outputs": [],
   "source": [
    "# save df to csv\n",
    "df.to_csv('./data/raw/compounds_final.csv')"
   ]
  }
 ],
 "metadata": {
  "kernelspec": {
   "display_name": "main",
   "language": "python",
   "name": "python3"
  },
  "language_info": {
   "codemirror_mode": {
    "name": "ipython",
    "version": 3
   },
   "file_extension": ".py",
   "mimetype": "text/x-python",
   "name": "python",
   "nbconvert_exporter": "python",
   "pygments_lexer": "ipython3",
   "version": "3.10.6"
  },
  "orig_nbformat": 4
 },
 "nbformat": 4,
 "nbformat_minor": 2
}
