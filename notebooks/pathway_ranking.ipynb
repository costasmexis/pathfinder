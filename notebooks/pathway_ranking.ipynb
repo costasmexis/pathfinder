{
 "cells": [
  {
   "cell_type": "code",
   "execution_count": 1,
   "metadata": {},
   "outputs": [
    {
     "name": "stdout",
     "output_type": "stream",
     "text": [
      "Number of reactions: 95\n",
      "Number of metabolites: 72\n"
     ]
    }
   ],
   "source": [
    "import sys\n",
    "sys.path.append('../')\n",
    "\n",
    "import pandas as pd\n",
    "import cobra\n",
    "import re\n",
    "\n",
    "# Load heterologous reactions\n",
    "df = pd.read_csv('../results/C00024_C06142_metabolites_reactions.csv')\n",
    "\n",
    "# Load GSMM\n",
    "model = cobra.io.load_json_model('../data/original/e_coli_core.json')\n",
    "\n",
    "# Impose anaerobic conditions\n",
    "model.reactions.get_by_id('EX_o2_e').bounds = (0, 1000)\n",
    "\n",
    "# Print number of reactions and metabolites in the model\n",
    "print('Number of reactions:', len(model.reactions))\n",
    "print('Number of metabolites:', len(model.metabolites))"
   ]
  },
  {
   "cell_type": "code",
   "execution_count": 2,
   "metadata": {},
   "outputs": [
    {
     "name": "stdout",
     "output_type": "stream",
     "text": [
      "unknown metabolite 'C00332' created\n",
      "unknown metabolite 'C01144' created\n",
      "unknown metabolite 'C00877' created\n",
      "unknown metabolite 'C00136' created\n",
      "unknown metabolite 'C01412' created\n",
      "unknown metabolite 'C06142' created\n",
      "unknown metabolite 'CC06142' created\n"
     ]
    }
   ],
   "source": [
    "from warnings import warn\n",
    "from cobra import Reaction, Metabolite\n",
    "from six import string_types\n",
    "import re\n",
    "\n",
    "import cobra\n",
    "\n",
    "# This regular expression finds any single letter compartment enclosed in\n",
    "# square brackets at the beginning of the string. For example [c] : foo --> bar\n",
    "compartment_finder = re.compile(\"^\\s*(\\[[A-Za-z]\\])\\s*:*\")\n",
    "def set_stoichiometry_from_string(reaction, reaction_str, verbose=True):\n",
    "    if reaction._model is None:\n",
    "        warn(\"no model found\")\n",
    "        model = None\n",
    "    else:\n",
    "        model = reaction._model\n",
    "    original_str = \"\" + reaction_str # copy\n",
    "    found_compartments = compartment_finder.findall(reaction_str)\n",
    "    if len(found_compartments) == 1:\n",
    "        compartment = found_compartments[0]\n",
    "        reaction_str = compartment_finder.sub(\"\", reaction_str)\n",
    "    else:\n",
    "        compartment = \"\"\n",
    "\n",
    "    \n",
    "    if \"<->\" in reaction_str:\n",
    "        reaction.lower_bound = -1000\n",
    "        reactant_str, product_str = reaction_str.split(\"<->\")\n",
    "    elif \"<==>\" in reaction_str:\n",
    "        reaction.lower_bound = -1000\n",
    "        reactant_str, product_str = reaction_str.split(\"<==>\")\n",
    "    elif \"-->\" in reaction_str:\n",
    "        reactant_str, product_str = reaction_str.split(\"-->\")\n",
    "    elif \"->\" in reaction_str:\n",
    "        reactant_str, product_str = reaction_str.split(\"->\")\n",
    "    elif \"<--\" in reaction_str:\n",
    "        reaction.upper_bound = 1000\n",
    "        reaction.lower_bound = -1000\n",
    "        reactant_str, product_str = reaction_str.split(\"<--\")\n",
    "    elif \"<-\" in reaction_str:\n",
    "        reaction.upper_bound = 1000\n",
    "        reaction.lower_bound = -1000\n",
    "        reactant_str, product_str = reaction_str.split(\"<-\")\n",
    "    else:\n",
    "        raise ValueError(\"no suitable arrow found in '%s'\" % reaction_str)\n",
    "\n",
    "    for substr, factor in ((reactant_str, -1), (product_str, 1)):\n",
    "        substr = substr.strip()\n",
    "        if len(substr) == 0:\n",
    "            continue\n",
    "        for term in substr.split(\"+\"):\n",
    "            term = term.strip()\n",
    "            if term.lower() == \"nothing\":\n",
    "                continue\n",
    "            if \" \" in term:\n",
    "                num_str, met_id = term.split()\n",
    "                num = float(num_str.lstrip(\"(\").rstrip(\")\")) * factor\n",
    "            else:\n",
    "                met_id = term\n",
    "                num = factor\n",
    "            met_id += compartment\n",
    "            try:\n",
    "                met = model.metabolites.get_by_id(met_id)\n",
    "            except KeyError:\n",
    "                if verbose:\n",
    "                    print(\"unknown metabolite '%s' created\" % met_id)\n",
    "                    add_met = met_id\n",
    "                met = cobra.Metabolite(met_id)\n",
    "            reaction.add_metabolites({met: num})\n",
    "    return add_met\n",
    "\n",
    "for row in range(len(df)):\n",
    "    r = Reaction(df['Reaction'].iloc[row])\n",
    "    eq = df['Equation'].iloc[row]\n",
    "    model.add_reactions([r])\n",
    "    met_id = set_stoichiometry_from_string(r, eq)\n",
    "    model.metabolites.get_by_id(met_id).compartment = 'c'\n",
    "\n",
    "model.metabolites.get_by_id('C06142').compartment = 'e'\n",
    "\n",
    "r = Reaction('EX_but')\n",
    "eq = 'C06142 -->'\n",
    "model.add_reactions([r])\n",
    "met_id = set_stoichiometry_from_string(r, eq)"
   ]
  },
  {
   "cell_type": "code",
   "execution_count": 3,
   "metadata": {},
   "outputs": [
    {
     "name": "stdout",
     "output_type": "stream",
     "text": [
      "Number of reactions: 102\n",
      "Number of metabolites: 79\n"
     ]
    }
   ],
   "source": [
    "# Print number of reactions and metabolites in the model\n",
    "print('Number of reactions:', len(model.reactions))\n",
    "print('Number of metabolites:', len(model.metabolites))"
   ]
  },
  {
   "cell_type": "code",
   "execution_count": 4,
   "metadata": {},
   "outputs": [
    {
     "name": "stdout",
     "output_type": "stream",
     "text": [
      "R1: 2.0 accoa_c --> C00332 + coa_c\n",
      "R2: C01144 + nad_c <=> C00332 + h_c + nadh_c\n",
      "R3: C01144 --> C00877 + h2o_c\n",
      "R4: C00136 + nad_c <=> C00877 + h_c + nadh_c\n",
      "R5: C01412 + coa_c + nad_c <=> C00136 + h_c + nadh_c\n",
      "R6: C01412 + h_c + nadh_c --> C06142 + nad_c\n"
     ]
    }
   ],
   "source": [
    "for r in df['Reaction']:\n",
    "    print(model.reactions.get_by_id(r))"
   ]
  },
  {
   "cell_type": "code",
   "execution_count": 5,
   "metadata": {},
   "outputs": [
    {
     "data": {
      "text/html": [
       "<div>\n",
       "<style scoped>\n",
       "    .dataframe tbody tr th:only-of-type {\n",
       "        vertical-align: middle;\n",
       "    }\n",
       "\n",
       "    .dataframe tbody tr th {\n",
       "        vertical-align: top;\n",
       "    }\n",
       "\n",
       "    .dataframe thead th {\n",
       "        text-align: right;\n",
       "    }\n",
       "</style>\n",
       "<table border=\"1\" class=\"dataframe\">\n",
       "  <thead>\n",
       "    <tr style=\"text-align: right;\">\n",
       "      <th></th>\n",
       "      <th>minimum</th>\n",
       "      <th>maximum</th>\n",
       "    </tr>\n",
       "  </thead>\n",
       "  <tbody>\n",
       "    <tr>\n",
       "      <th>PFK</th>\n",
       "      <td>3.050909</td>\n",
       "      <td>29.110000</td>\n",
       "    </tr>\n",
       "    <tr>\n",
       "      <th>PFL</th>\n",
       "      <td>0.000000</td>\n",
       "      <td>20.000000</td>\n",
       "    </tr>\n",
       "    <tr>\n",
       "      <th>PGI</th>\n",
       "      <td>0.699167</td>\n",
       "      <td>10.000000</td>\n",
       "    </tr>\n",
       "    <tr>\n",
       "      <th>PGK</th>\n",
       "      <td>-20.000000</td>\n",
       "      <td>-6.101818</td>\n",
       "    </tr>\n",
       "    <tr>\n",
       "      <th>PGL</th>\n",
       "      <td>0.000000</td>\n",
       "      <td>8.571429</td>\n",
       "    </tr>\n",
       "    <tr>\n",
       "      <th>...</th>\n",
       "      <td>...</td>\n",
       "      <td>...</td>\n",
       "    </tr>\n",
       "    <tr>\n",
       "      <th>R3</th>\n",
       "      <td>0.000000</td>\n",
       "      <td>0.000000</td>\n",
       "    </tr>\n",
       "    <tr>\n",
       "      <th>R4</th>\n",
       "      <td>0.000000</td>\n",
       "      <td>0.000000</td>\n",
       "    </tr>\n",
       "    <tr>\n",
       "      <th>R5</th>\n",
       "      <td>0.000000</td>\n",
       "      <td>0.000000</td>\n",
       "    </tr>\n",
       "    <tr>\n",
       "      <th>R6</th>\n",
       "      <td>0.000000</td>\n",
       "      <td>0.000000</td>\n",
       "    </tr>\n",
       "    <tr>\n",
       "      <th>EX_but</th>\n",
       "      <td>0.000000</td>\n",
       "      <td>0.000000</td>\n",
       "    </tr>\n",
       "  </tbody>\n",
       "</table>\n",
       "<p>102 rows × 2 columns</p>\n",
       "</div>"
      ],
      "text/plain": [
       "          minimum    maximum\n",
       "PFK      3.050909  29.110000\n",
       "PFL      0.000000  20.000000\n",
       "PGI      0.699167  10.000000\n",
       "PGK    -20.000000  -6.101818\n",
       "PGL      0.000000   8.571429\n",
       "...           ...        ...\n",
       "R3       0.000000   0.000000\n",
       "R4       0.000000   0.000000\n",
       "R5       0.000000   0.000000\n",
       "R6       0.000000   0.000000\n",
       "EX_but   0.000000   0.000000\n",
       "\n",
       "[102 rows x 2 columns]"
      ]
     },
     "execution_count": 5,
     "metadata": {},
     "output_type": "execute_result"
    }
   ],
   "source": [
    "from cobra.flux_analysis import flux_variability_analysis\n",
    "\n",
    "model.solver = 'glpk'\n",
    "# model.objective = model.reactions.get_by_id('BIOMASS_Ecoli_core_w_GAM')\n",
    "model.objective = model.reactions.get_by_id('R6')\n",
    "flux_variability_analysis(model)"
   ]
  }
 ],
 "metadata": {
  "kernelspec": {
   "display_name": "main-bio",
   "language": "python",
   "name": "python3"
  },
  "language_info": {
   "codemirror_mode": {
    "name": "ipython",
    "version": 3
   },
   "file_extension": ".py",
   "mimetype": "text/x-python",
   "name": "python",
   "nbconvert_exporter": "python",
   "pygments_lexer": "ipython3",
   "version": "3.11.2"
  }
 },
 "nbformat": 4,
 "nbformat_minor": 2
}
