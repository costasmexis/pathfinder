{
 "cells": [
  {
   "cell_type": "code",
   "execution_count": 1,
   "metadata": {},
   "outputs": [
    {
     "name": "stdout",
     "output_type": "stream",
     "text": [
      "Number of reactions: 95\n",
      "Number of metabolites: 72\n"
     ]
    }
   ],
   "source": [
    "import sys\n",
    "sys.path.append('../')\n",
    "\n",
    "import pandas as pd\n",
    "import cobra\n",
    "import re\n",
    "\n",
    "# Load heterologous reactions\n",
    "# df = pd.read_csv('../results/C00024_C06142_metabolites_reactions.csv')\n",
    "df = pd.read_csv('../results/C00084_C06142_metabolites_reactions.csv')\n",
    "\n",
    "# Load GSMM\n",
    "model = cobra.io.load_json_model('../data/original/e_coli_core.json')\n",
    "\n",
    "# Impose anaerobic conditions\n",
    "model.reactions.get_by_id('EX_o2_e').bounds = (0, 1000)\n",
    "\n",
    "# Print number of reactions and metabolites in the model\n",
    "print('Number of reactions:', len(model.reactions))\n",
    "print('Number of metabolites:', len(model.metabolites))"
   ]
  },
  {
   "cell_type": "code",
   "execution_count": 2,
   "metadata": {},
   "outputs": [
    {
     "name": "stderr",
     "output_type": "stream",
     "text": [
      "/tmp/ipykernel_86333/3245232706.py:2: FutureWarning: The frame.append method is deprecated and will be removed from pandas in a future version. Use pandas.concat instead.\n",
      "  df = df.append({'Reaction': 'R_ex', 'Equation': 'C06142 --> C06142_e'}, ignore_index=True)\n",
      "/tmp/ipykernel_86333/3245232706.py:3: FutureWarning: The frame.append method is deprecated and will be removed from pandas in a future version. Use pandas.concat instead.\n",
      "  df = df.append({'Reaction': 'EX_1btol', 'Equation': 'C06142_e -->'}, ignore_index=True)\n"
     ]
    }
   ],
   "source": [
    "# Add new line to df using pd.concat\n",
    "df = df.append({'Reaction': 'R_ex', 'Equation': 'C06142 --> C06142_e'}, ignore_index=True)\n",
    "df = df.append({'Reaction': 'EX_1btol', 'Equation': 'C06142_e -->'}, ignore_index=True)"
   ]
  },
  {
   "cell_type": "code",
   "execution_count": 3,
   "metadata": {},
   "outputs": [
    {
     "name": "stdout",
     "output_type": "stream",
     "text": [
      "Number of metabolites: 79\n",
      "Number of reactions: 104\n",
      "R1: acald_c + coa_c + nad_c --> accoa_c + h_c + nadh_c\n",
      "R2: 2.0 accoa_c --> C00332 + coa_c\n",
      "R3: C01144 + nad_c <-- C00332 + h_c + nadh_c\n",
      "R4: C01144 --> C00877 + h2o_c\n",
      "R5: C00136 + nad_c <-- C00877 + h_c + nadh_c\n",
      "R6: C01412 + coa_c + nad_c <-- C00136 + h_c + nadh_c\n",
      "R7: C01412 + h_c + nadh_c --> C06142 + nad_c\n",
      "R_ex: C06142 --> C06142_e\n",
      "EX_1btol: C06142_e --> \n"
     ]
    }
   ],
   "source": [
    "# Add metabolites to the model\n",
    "# Extract the metabolites from the equation\n",
    "def get_metabolites_to_add_to_GEM(df: pd.DataFrame) -> list:\n",
    "    mapping_table=str.maketrans({'-':'','+':'', '>':'','<':''})\n",
    "    metabolites=[]\n",
    "    for i in df.index:\n",
    "        dummy= str(df.loc[i]['Equation'])\n",
    "        dummy=dummy.translate(mapping_table)\n",
    "        dummy=dummy.split()\n",
    "        for e in dummy:\n",
    "            if len(e)>2:\n",
    "                metabolites.append(e)\n",
    "\n",
    "    metabolites = list(set(metabolites))\n",
    "    return metabolites\n",
    "\n",
    "metabolites = get_metabolites_to_add_to_GEM(df)\n",
    "\n",
    "# Add metabolites to the model\n",
    "for m in metabolites:\n",
    "    if m not in model.metabolites:\n",
    "        model.add_metabolites([cobra.Metabolite(m, compartment='c')])\n",
    "\n",
    "print('Number of metabolites:', len(model.metabolites))\n",
    "\n",
    "for i in range(len(df)):\n",
    "    reaction = cobra.Reaction(df['Reaction'].iloc[i])\n",
    "    model.add_reactions([reaction])\n",
    "    model.reactions.get_by_id(df['Reaction'].iloc[i]).reaction = df['Equation'].iloc[i]\n",
    "    # model.reactions.get_by_id(df['Reaction'].iloc[i]).bounds = (-1000, 1000)\n",
    "\n",
    "model.metabolites.get_by_id('C06142_e').compartment='e'     \n",
    "# model.reactions.get_by_id('EX_1btol').bounds = (-1000, 0)\n",
    "\n",
    "print('Number of reactions:', len(model.reactions))\n",
    "\n",
    "for r in df['Reaction']:\n",
    "    print(model.reactions.get_by_id(r))\n"
   ]
  },
  {
   "cell_type": "code",
   "execution_count": 4,
   "metadata": {},
   "outputs": [
    {
     "name": "stdout",
     "output_type": "stream",
     "text": [
      "The theoretical yield 100%\n",
      "<Solution 10.000 at 0x7f77461b43d0>\n"
     ]
    }
   ],
   "source": [
    "model.objective='EX_1btol'\n",
    "solution=model.optimize()\n",
    "the_yield=\"{:.0%}\".format(solution.objective_value/abs(model.reactions.EX_glc__D_e.lower_bound))\n",
    "print('The theoretical yield', the_yield)\n",
    "print(solution)"
   ]
  },
  {
   "cell_type": "code",
   "execution_count": 5,
   "metadata": {},
   "outputs": [
    {
     "data": {
      "text/html": [
       "<div>\n",
       "<style scoped>\n",
       "    .dataframe tbody tr th:only-of-type {\n",
       "        vertical-align: middle;\n",
       "    }\n",
       "\n",
       "    .dataframe tbody tr th {\n",
       "        vertical-align: top;\n",
       "    }\n",
       "\n",
       "    .dataframe thead th {\n",
       "        text-align: right;\n",
       "    }\n",
       "</style>\n",
       "<table border=\"1\" class=\"dataframe\">\n",
       "  <thead>\n",
       "    <tr style=\"text-align: right;\">\n",
       "      <th></th>\n",
       "      <th>minimum</th>\n",
       "      <th>maximum</th>\n",
       "    </tr>\n",
       "  </thead>\n",
       "  <tbody>\n",
       "    <tr>\n",
       "      <th>PFK</th>\n",
       "      <td>8.067832</td>\n",
       "      <td>13.653567</td>\n",
       "    </tr>\n",
       "    <tr>\n",
       "      <th>PFL</th>\n",
       "      <td>0.000000</td>\n",
       "      <td>18.243739</td>\n",
       "    </tr>\n",
       "    <tr>\n",
       "      <th>PGI</th>\n",
       "      <td>5.600864</td>\n",
       "      <td>9.965287</td>\n",
       "    </tr>\n",
       "    <tr>\n",
       "      <th>PGK</th>\n",
       "      <td>-19.549869</td>\n",
       "      <td>-16.506291</td>\n",
       "    </tr>\n",
       "    <tr>\n",
       "      <th>PGL</th>\n",
       "      <td>0.000000</td>\n",
       "      <td>4.364423</td>\n",
       "    </tr>\n",
       "    <tr>\n",
       "      <th>...</th>\n",
       "      <td>...</td>\n",
       "      <td>...</td>\n",
       "    </tr>\n",
       "    <tr>\n",
       "      <th>R5</th>\n",
       "      <td>-5.977891</td>\n",
       "      <td>0.000000</td>\n",
       "    </tr>\n",
       "    <tr>\n",
       "      <th>R6</th>\n",
       "      <td>-5.977891</td>\n",
       "      <td>0.000000</td>\n",
       "    </tr>\n",
       "    <tr>\n",
       "      <th>R7</th>\n",
       "      <td>0.000000</td>\n",
       "      <td>5.977891</td>\n",
       "    </tr>\n",
       "    <tr>\n",
       "      <th>R_ex</th>\n",
       "      <td>0.000000</td>\n",
       "      <td>5.977891</td>\n",
       "    </tr>\n",
       "    <tr>\n",
       "      <th>EX_1btol</th>\n",
       "      <td>0.000000</td>\n",
       "      <td>5.977891</td>\n",
       "    </tr>\n",
       "  </tbody>\n",
       "</table>\n",
       "<p>104 rows × 2 columns</p>\n",
       "</div>"
      ],
      "text/plain": [
       "            minimum    maximum\n",
       "PFK        8.067832  13.653567\n",
       "PFL        0.000000  18.243739\n",
       "PGI        5.600864   9.965287\n",
       "PGK      -19.549869 -16.506291\n",
       "PGL        0.000000   4.364423\n",
       "...             ...        ...\n",
       "R5        -5.977891   0.000000\n",
       "R6        -5.977891   0.000000\n",
       "R7         0.000000   5.977891\n",
       "R_ex       0.000000   5.977891\n",
       "EX_1btol   0.000000   5.977891\n",
       "\n",
       "[104 rows x 2 columns]"
      ]
     },
     "execution_count": 5,
     "metadata": {},
     "output_type": "execute_result"
    }
   ],
   "source": [
    "from cobra.flux_analysis import flux_variability_analysis\n",
    "\n",
    "model.objective = model.reactions.get_by_id('BIOMASS_Ecoli_core_w_GAM')\n",
    "# model.objective = model.reactions.get_by_id('EX_1btol')\n",
    "flux_variability_analysis(model, fraction_of_optimum=0.8)"
   ]
  }
 ],
 "metadata": {
  "kernelspec": {
   "display_name": "main-bio",
   "language": "python",
   "name": "python3"
  },
  "language_info": {
   "codemirror_mode": {
    "name": "ipython",
    "version": 3
   },
   "file_extension": ".py",
   "mimetype": "text/x-python",
   "name": "python",
   "nbconvert_exporter": "python",
   "pygments_lexer": "ipython3",
   "version": "3.10.12"
  }
 },
 "nbformat": 4,
 "nbformat_minor": 2
}
