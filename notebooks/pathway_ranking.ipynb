{
 "cells": [
  {
   "cell_type": "code",
   "execution_count": 76,
   "metadata": {},
   "outputs": [
    {
     "name": "stdout",
     "output_type": "stream",
     "text": [
      "Number of reactions: 95\n",
      "Number of metabolites: 72\n"
     ]
    }
   ],
   "source": [
    "import sys\n",
    "sys.path.append('../')\n",
    "\n",
    "import pandas as pd\n",
    "import cobra\n",
    "import re\n",
    "\n",
    "# Load heterologous reactions\n",
    "df = pd.read_csv('../results/C00024_C06142_metabolites_reactions.csv')\n",
    "\n",
    "# Load GSMM\n",
    "model = cobra.io.load_json_model('../data/original/e_coli_core.json')\n",
    "\n",
    "# Impose anaerobic conditions\n",
    "model.reactions.get_by_id('EX_o2_e').bounds = (0, 1000)\n",
    "\n",
    "# Print number of reactions and metabolites in the model\n",
    "print('Number of reactions:', len(model.reactions))\n",
    "print('Number of metabolites:', len(model.metabolites))"
   ]
  },
  {
   "cell_type": "code",
   "execution_count": 77,
   "metadata": {},
   "outputs": [
    {
     "name": "stdout",
     "output_type": "stream",
     "text": [
      "unknown metabolite 'C00332' created\n",
      "unknown metabolite 'C01144' created\n",
      "unknown metabolite 'C00877' created\n",
      "unknown metabolite 'C00136' created\n",
      "unknown metabolite 'C01412' created\n",
      "unknown metabolite 'C06142' created\n"
     ]
    }
   ],
   "source": [
    "from warnings import warn\n",
    "from cobra import Reaction, Metabolite\n",
    "from six import string_types\n",
    "import re\n",
    "\n",
    "import cobra\n",
    "\n",
    "# This regular expression finds any single letter compartment enclosed in\n",
    "# square brackets at the beginning of the string. For example [c] : foo --> bar\n",
    "compartment_finder = re.compile(\"^\\s*(\\[[A-Za-z]\\])\\s*:*\")\n",
    "def set_stoichiometry_from_string(reaction, reaction_str, verbose=True):\n",
    "    if reaction._model is None:\n",
    "        warn(\"no model found\")\n",
    "        model = None\n",
    "    else:\n",
    "        model = reaction._model\n",
    "    original_str = \"\" + reaction_str # copy\n",
    "    found_compartments = compartment_finder.findall(reaction_str)\n",
    "    if len(found_compartments) == 1:\n",
    "        compartment = found_compartments[0]\n",
    "        reaction_str = compartment_finder.sub(\"\", reaction_str)\n",
    "    else:\n",
    "        compartment = \"\"\n",
    "\n",
    "    \n",
    "    if \"<->\" in reaction_str:\n",
    "        reaction.lower_bound = -1000\n",
    "        reactant_str, product_str = reaction_str.split(\"<->\")\n",
    "    elif \"<==>\" in reaction_str:\n",
    "        reaction.lower_bound = -1000\n",
    "        reactant_str, product_str = reaction_str.split(\"<==>\")\n",
    "    elif \"-->\" in reaction_str:\n",
    "        reactant_str, product_str = reaction_str.split(\"-->\")\n",
    "    elif \"->\" in reaction_str:\n",
    "        reactant_str, product_str = reaction_str.split(\"->\")\n",
    "    elif \"<--\" in reaction_str:\n",
    "        reaction.upper_bound = 0\n",
    "        reaction.lower_bound = -1000\n",
    "        reactant_str, product_str = reaction_str.split(\"<--\")\n",
    "    elif \"<-\" in reaction_str:\n",
    "        reaction.upper_bound = 0\n",
    "        reaction.lower_bound = -1000\n",
    "        reactant_str, product_str = reaction_str.split(\"<-\")\n",
    "    else:\n",
    "        raise ValueError(\"no suitable arrow found in '%s'\" % reaction_str)\n",
    "\n",
    "    for substr, factor in ((reactant_str, -1), (product_str, 1)):\n",
    "        substr = substr.strip()\n",
    "        if len(substr) == 0:\n",
    "            continue\n",
    "        for term in substr.split(\"+\"):\n",
    "            term = term.strip()\n",
    "            if term.lower() == \"nothing\":\n",
    "                continue\n",
    "            if \" \" in term:\n",
    "                num_str, met_id = term.split()\n",
    "                num = float(num_str.lstrip(\"(\").rstrip(\")\")) * factor\n",
    "            else:\n",
    "                met_id = term\n",
    "                num = factor\n",
    "            met_id += compartment\n",
    "            try:\n",
    "                met = model.metabolites.get_by_id(met_id)\n",
    "            except KeyError:\n",
    "                if verbose:\n",
    "                    print(\"unknown metabolite '%s' created\" % met_id)\n",
    "                    add_met = met_id\n",
    "                met = cobra.Metabolite(met_id)\n",
    "            reaction.add_metabolites({met: num})\n",
    "    return add_met\n",
    "\n",
    "for row in range(len(df)):\n",
    "    r = Reaction(df['Reaction'].iloc[row])\n",
    "    eq = df['Equation'].iloc[row]\n",
    "    model.add_reactions([r])\n",
    "    met_id = set_stoichiometry_from_string(r, eq)\n",
    "    model.metabolites.get_by_id(met_id).compartment = 'c'\n",
    "\n",
    "model.metabolites.get_by_id('C06142').compartment = 'e'"
   ]
  },
  {
   "cell_type": "code",
   "execution_count": 78,
   "metadata": {},
   "outputs": [
    {
     "name": "stdout",
     "output_type": "stream",
     "text": [
      "Number of reactions: 101\n",
      "Number of metabolites: 78\n"
     ]
    }
   ],
   "source": [
    "# Print number of reactions and metabolites in the model\n",
    "print('Number of reactions:', len(model.reactions))\n",
    "print('Number of metabolites:', len(model.metabolites))"
   ]
  },
  {
   "cell_type": "code",
   "execution_count": 79,
   "metadata": {},
   "outputs": [
    {
     "name": "stdout",
     "output_type": "stream",
     "text": [
      "R1: 2.0 accoa_c --> C00332 + coa_c\n",
      "R2: C01144 + nad_c <-- C00332 + h_c + nadh_c\n",
      "R3: C01144 --> C00877 + h2o_c\n",
      "R4: C00136 + nad_c <-- C00877 + h_c + nadh_c\n",
      "R5: C01412 + coa_c + nad_c <-- C00136 + h_c + nadh_c\n",
      "R6: C01412 + h_c + nadh_c --> C06142 + nad_c\n"
     ]
    }
   ],
   "source": [
    "for r in df['Reaction']:\n",
    "    print(model.reactions.get_by_id(r))"
   ]
  },
  {
   "cell_type": "code",
   "execution_count": 88,
   "metadata": {},
   "outputs": [],
   "source": [
    "from cobra.flux_analysis import flux_variability_analysis\n",
    "\n",
    "model.solver = 'scipy'\n",
    "# model.objective = model.reactions.get_by_id('BIOMASS_Ecoli_core_w_GAM')\n",
    "model.objective = model.reactions.get_by_id('R6')\n",
    "flux_variability_analysis(model)"
   ]
  }
 ],
 "metadata": {
  "kernelspec": {
   "display_name": "main-bio",
   "language": "python",
   "name": "python3"
  },
  "language_info": {
   "codemirror_mode": {
    "name": "ipython",
    "version": 3
   },
   "file_extension": ".py",
   "mimetype": "text/x-python",
   "name": "python",
   "nbconvert_exporter": "python",
   "pygments_lexer": "ipython3",
   "version": "3.9.10"
  }
 },
 "nbformat": 4,
 "nbformat_minor": 2
}
